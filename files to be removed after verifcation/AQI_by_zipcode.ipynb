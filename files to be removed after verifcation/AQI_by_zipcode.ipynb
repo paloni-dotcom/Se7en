{
 "cells": [
  {
   "cell_type": "code",
   "execution_count": 1,
   "metadata": {},
   "outputs": [],
   "source": [
    "import gmaps\n",
    "import pandas as pd\n",
    "import numpy as np\n",
    "import matplotlib.pyplot as plt\n",
    "import scipy.stats as st\n",
    "\n",
    "# Google developer API key\n",
    "from api_keys import gkey\n",
    "\n",
    "# Access maps with unique API key\n",
    "gmaps.configure(api_key=gkey)\n"
   ]
  },
  {
   "cell_type": "code",
   "execution_count": 2,
   "metadata": {
    "scrolled": true
   },
   "outputs": [
    {
     "data": {
      "text/html": [
       "<div>\n",
       "<style scoped>\n",
       "    .dataframe tbody tr th:only-of-type {\n",
       "        vertical-align: middle;\n",
       "    }\n",
       "\n",
       "    .dataframe tbody tr th {\n",
       "        vertical-align: top;\n",
       "    }\n",
       "\n",
       "    .dataframe thead th {\n",
       "        text-align: right;\n",
       "    }\n",
       "</style>\n",
       "<table border=\"1\" class=\"dataframe\">\n",
       "  <thead>\n",
       "    <tr style=\"text-align: right;\">\n",
       "      <th></th>\n",
       "      <th>Unnamed: 0</th>\n",
       "      <th>zip</th>\n",
       "      <th>AQI</th>\n",
       "      <th>Category Number</th>\n",
       "      <th>Category Name</th>\n",
       "      <th>Pollutant</th>\n",
       "      <th>Year</th>\n",
       "      <th>City</th>\n",
       "      <th>State</th>\n",
       "      <th>Latitude</th>\n",
       "      <th>Longitude</th>\n",
       "      <th>Timezone</th>\n",
       "      <th>Daylight savings time flag</th>\n",
       "    </tr>\n",
       "  </thead>\n",
       "  <tbody>\n",
       "    <tr>\n",
       "      <th>0</th>\n",
       "      <td>3126</td>\n",
       "      <td>12032</td>\n",
       "      <td>42</td>\n",
       "      <td>1</td>\n",
       "      <td>Good</td>\n",
       "      <td>OZONE</td>\n",
       "      <td>2020</td>\n",
       "      <td>Caroga Lake</td>\n",
       "      <td>NY</td>\n",
       "      <td>43.158567</td>\n",
       "      <td>-74.49646</td>\n",
       "      <td>-5.0</td>\n",
       "      <td>1.0</td>\n",
       "    </tr>\n",
       "    <tr>\n",
       "      <th>1</th>\n",
       "      <td>3127</td>\n",
       "      <td>12108</td>\n",
       "      <td>42</td>\n",
       "      <td>1</td>\n",
       "      <td>Good</td>\n",
       "      <td>OZONE</td>\n",
       "      <td>2020</td>\n",
       "      <td>Lake Pleasant</td>\n",
       "      <td>NY</td>\n",
       "      <td>43.525388</td>\n",
       "      <td>-74.40875</td>\n",
       "      <td>-5.0</td>\n",
       "      <td>1.0</td>\n",
       "    </tr>\n",
       "    <tr>\n",
       "      <th>2</th>\n",
       "      <td>3128</td>\n",
       "      <td>12134</td>\n",
       "      <td>42</td>\n",
       "      <td>1</td>\n",
       "      <td>Good</td>\n",
       "      <td>OZONE</td>\n",
       "      <td>2020</td>\n",
       "      <td>Northville</td>\n",
       "      <td>NY</td>\n",
       "      <td>43.218920</td>\n",
       "      <td>-74.14822</td>\n",
       "      <td>-5.0</td>\n",
       "      <td>1.0</td>\n",
       "    </tr>\n",
       "    <tr>\n",
       "      <th>3</th>\n",
       "      <td>3129</td>\n",
       "      <td>12139</td>\n",
       "      <td>42</td>\n",
       "      <td>1</td>\n",
       "      <td>Good</td>\n",
       "      <td>OZONE</td>\n",
       "      <td>2020</td>\n",
       "      <td>Piseco</td>\n",
       "      <td>NY</td>\n",
       "      <td>43.402760</td>\n",
       "      <td>-74.56972</td>\n",
       "      <td>-5.0</td>\n",
       "      <td>1.0</td>\n",
       "    </tr>\n",
       "    <tr>\n",
       "      <th>4</th>\n",
       "      <td>3130</td>\n",
       "      <td>12164</td>\n",
       "      <td>42</td>\n",
       "      <td>1</td>\n",
       "      <td>Good</td>\n",
       "      <td>OZONE</td>\n",
       "      <td>2020</td>\n",
       "      <td>Speculator</td>\n",
       "      <td>NY</td>\n",
       "      <td>43.515611</td>\n",
       "      <td>-74.37431</td>\n",
       "      <td>-5.0</td>\n",
       "      <td>1.0</td>\n",
       "    </tr>\n",
       "  </tbody>\n",
       "</table>\n",
       "</div>"
      ],
      "text/plain": [
       "   Unnamed: 0    zip  AQI  Category Number Category Name Pollutant  Year  \\\n",
       "0        3126  12032   42                1          Good     OZONE  2020   \n",
       "1        3127  12108   42                1          Good     OZONE  2020   \n",
       "2        3128  12134   42                1          Good     OZONE  2020   \n",
       "3        3129  12139   42                1          Good     OZONE  2020   \n",
       "4        3130  12164   42                1          Good     OZONE  2020   \n",
       "\n",
       "            City State   Latitude  Longitude  Timezone  \\\n",
       "0    Caroga Lake    NY  43.158567  -74.49646      -5.0   \n",
       "1  Lake Pleasant    NY  43.525388  -74.40875      -5.0   \n",
       "2     Northville    NY  43.218920  -74.14822      -5.0   \n",
       "3         Piseco    NY  43.402760  -74.56972      -5.0   \n",
       "4     Speculator    NY  43.515611  -74.37431      -5.0   \n",
       "\n",
       "   Daylight savings time flag  \n",
       "0                         1.0  \n",
       "1                         1.0  \n",
       "2                         1.0  \n",
       "3                         1.0  \n",
       "4                         1.0  "
      ]
     },
     "execution_count": 2,
     "metadata": {},
     "output_type": "execute_result"
    }
   ],
   "source": [
    "#Import Data Sets for mapping AQI data\n",
    "AQI_df = pd.read_csv('Data/AQIndex.csv')\n",
    "AQI_df = AQI_df.dropna()\n",
    "aqi_group = AQI_df.groupby (\"Year\")\n",
    "\n",
    "#zip code coordinates\n",
    "zip_df = pd.read_csv('Data/us-zip-code-latitude-and-longitude.csv')\n",
    "zip_df = zip_df.rename (columns = {\"Zip\" : \"zip\"})\n",
    "zip_df = zip_df.dropna()\n",
    "\n",
    "#AQI data for each year\n",
    "aqi_2009_df = aqi_group.get_group (2009)\n",
    "aqi_2015_df = aqi_group.get_group (2015)\n",
    "aqi_2020_df = aqi_group.get_group (2020)\n",
    "\n",
    "# merge AQI and zip coordinates dataframes on zipcode\n",
    "#2009\n",
    "new_aqi_09_df = pd.merge(aqi_2009_df, zip_df, on=['zip','zip'], how=\"left\")\n",
    "new_aqi_09_df = new_aqi_09_df.dropna()\n",
    "\n",
    "#2015\n",
    "new_aqi_15_df = pd.merge(aqi_2015_df, zip_df, on=['zip','zip'], how=\"left\")\n",
    "new_aqi_15_df = new_aqi_15_df.dropna()\n",
    "\n",
    "#2020\n",
    "new_aqi_20_df = pd.merge(aqi_2020_df, zip_df, on=['zip','zip'], how=\"left\")\n",
    "new_aqi_20_df = new_aqi_20_df.dropna()\n",
    "\n",
    "new_aqi_20_df.head()"
   ]
  },
  {
   "cell_type": "code",
   "execution_count": 3,
   "metadata": {
    "scrolled": true
   },
   "outputs": [],
   "source": [
    "# #introducing zip code coordinates\n",
    "# zip_df = pd.read_csv('Data/us-zip-code-latitude-and-longitude.csv')\n",
    "# zip_df = zip_df.rename (columns = {\"Zip\" : \"zip\"})\n",
    "\n",
    "# #take care of NaN velue\n",
    "# zip_df = zip_df.dropna()\n"
   ]
  },
  {
   "cell_type": "code",
   "execution_count": 4,
   "metadata": {
    "scrolled": true
   },
   "outputs": [],
   "source": [
    "# # merge AQI and zip coordinates dataframes on zipcode\n",
    "# new_aqi_df = pd.merge(aqi_mean_df, zip_df, on=['zip','zip'], how=\"left\")\n",
    "\n",
    "\n",
    "# #take care of NaN velue\n",
    "# new_aqi_df = new_aqi_df.dropna()\n",
    "# new_aqi_df.head()"
   ]
  },
  {
   "cell_type": "code",
   "execution_count": 5,
   "metadata": {
    "scrolled": true
   },
   "outputs": [
    {
     "ename": "NameError",
     "evalue": "name 'new_aqi_df' is not defined",
     "output_type": "error",
     "traceback": [
      "\u001b[0;31m---------------------------------------------------------------------------\u001b[0m",
      "\u001b[0;31mNameError\u001b[0m                                 Traceback (most recent call last)",
      "\u001b[0;32m<ipython-input-5-211ae5924822>\u001b[0m in \u001b[0;36m<module>\u001b[0;34m\u001b[0m\n\u001b[1;32m      4\u001b[0m \u001b[0;34m\u001b[0m\u001b[0m\n\u001b[1;32m      5\u001b[0m \u001b[0;31m#Plot Heatmap for AQI by zip code\u001b[0m\u001b[0;34m\u001b[0m\u001b[0;34m\u001b[0m\u001b[0;34m\u001b[0m\u001b[0m\n\u001b[0;32m----> 6\u001b[0;31m \u001b[0mlocations\u001b[0m \u001b[0;34m=\u001b[0m \u001b[0mnew_aqi_df\u001b[0m\u001b[0;34m[\u001b[0m\u001b[0;34m[\u001b[0m\u001b[0;34m\"Latitude\"\u001b[0m\u001b[0;34m,\u001b[0m \u001b[0;34m\"Longitude\"\u001b[0m\u001b[0;34m]\u001b[0m\u001b[0;34m]\u001b[0m\u001b[0;34m.\u001b[0m\u001b[0mastype\u001b[0m\u001b[0;34m(\u001b[0m\u001b[0mfloat\u001b[0m\u001b[0;34m)\u001b[0m\u001b[0;34m\u001b[0m\u001b[0;34m\u001b[0m\u001b[0m\n\u001b[0m\u001b[1;32m      7\u001b[0m \u001b[0maqi\u001b[0m \u001b[0;34m=\u001b[0m \u001b[0mnew_aqi_df\u001b[0m\u001b[0;34m[\u001b[0m\u001b[0;34m\"AQI\"\u001b[0m\u001b[0;34m]\u001b[0m\u001b[0;34m.\u001b[0m\u001b[0mastype\u001b[0m\u001b[0;34m(\u001b[0m\u001b[0mfloat\u001b[0m\u001b[0;34m)\u001b[0m\u001b[0;34m\u001b[0m\u001b[0;34m\u001b[0m\u001b[0m\n\u001b[1;32m      8\u001b[0m \u001b[0;34m\u001b[0m\u001b[0m\n",
      "\u001b[0;31mNameError\u001b[0m: name 'new_aqi_df' is not defined"
     ]
    }
   ],
   "source": [
    "#creating a heat map to show AQI by zipcode\n",
    "\n",
    "fig = gmaps.figure(map_type=\"HYBRID\")\n",
    "\n",
    "#Plot Heatmap for AQI by zip code\n",
    "locations = new_aqi_df[[\"Latitude\", \"Longitude\"]].astype(float)\n",
    "aqi = new_aqi_df[\"AQI\"].astype(float)\n",
    "\n",
    "#create heat layer\n",
    "heat_layer = gmaps.heatmap_layer(locations, weights=aqi, \n",
    "                                  dissipating=False, max_intensity=500,                                  \n",
    "                                  point_radius=0.20)\n",
    "\n",
    "\n",
    "# Add layer to the map\n",
    "fig.add_layer(heat_layer)\n",
    "fig"
   ]
  },
  {
   "cell_type": "code",
   "execution_count": null,
   "metadata": {
    "scrolled": true
   },
   "outputs": [],
   "source": [
    "# Filter the DataFrame down only to those columns to chart\n",
    "AQI_and_Zip = new_aqi_df[[\"zip\",\"AQI\"]]\n",
    "\n",
    "# Set the index \n",
    "AQI_and_Zip = AQI_and_Zip.set_index(\"zip\")\n",
    "\n",
    "AQI_and_Zip.head()"
   ]
  },
  {
   "cell_type": "code",
   "execution_count": null,
   "metadata": {
    "scrolled": true
   },
   "outputs": [],
   "source": [
    "# Use DataFrame.plot() in order to create a bar chart of the data\n",
    "AQI_and_Zip.plot(kind=\"bar\", figsize=(40,3))\n",
    "\n",
    "# Set a title for the chart\n",
    "plt.title(\"AQI Mean by Zipcode\")\n",
    "plt.xlabel(\"Zipcodes\")\n",
    "plt.ylabel(\"AQI Mean\")\n",
    "\n",
    "plt.show()\n",
    "plt.tight_layout()"
   ]
  },
  {
   "cell_type": "code",
   "execution_count": null,
   "metadata": {},
   "outputs": [],
   "source": [
    "#save the chart\n",
    "plt.tight_layout()\n",
    "plt.savefig(\"Images/AQI_and_Zipcode.png\")\n",
    "plt.show()"
   ]
  },
  {
   "cell_type": "code",
   "execution_count": null,
   "metadata": {},
   "outputs": [],
   "source": [
    "# AQI for year 2015\n",
    "AQI_df = pd.read_csv('Data/AQIndex.csv')\n",
    "AQI_df = AQI_df.dropna()\n",
    "aqi_group = AQI_df.groupby (\"Year\")\n",
    "aqi_2015_df = aqi_group.get_group (2015)\n"
   ]
  },
  {
   "cell_type": "code",
   "execution_count": null,
   "metadata": {},
   "outputs": [],
   "source": [
    "# introducing coordinates for AQI zipcodes\n",
    "zip_df = pd.read_csv('Data/us-zip-code-latitude-and-longitude.csv')\n",
    "zip_df = zip_df.rename (columns = {\"Zip\" : \"zip\"})\n",
    "\n",
    "#take care of NaN velue\n",
    "zip_df = zip_df.dropna()"
   ]
  },
  {
   "cell_type": "code",
   "execution_count": null,
   "metadata": {},
   "outputs": [],
   "source": [
    "#merging both dataframes\n",
    "# merge AQI and zip coordinates dataframes on zipcode\n",
    "new_aqi_2015_df = pd.merge(aqi_2015_df, zip_df, on=['zip','zip'], how=\"left\")\n",
    "\n",
    "\n",
    "#take care of NaN velue\n",
    "new_aqi_2015_df = new_aqi_2015_df.dropna()\n",
    "new_aqi_2015_df.head()"
   ]
  },
  {
   "cell_type": "code",
   "execution_count": null,
   "metadata": {},
   "outputs": [],
   "source": [
    "fig = gmaps.figure(map_type=\"HYBRID\")\n",
    "\n",
    "#Plot Heatmap for AQI by zip code\n",
    "locations = new_aqi_2015_df[[\"Latitude\", \"Longitude\"]]\n",
    "aqi = new_aqi_2015_df[\"AQI\"].astype(float)\n",
    "\n",
    "#create heat layer\n",
    "heat_layer = gmaps.heatmap_layer(locations, weights=aqi, \n",
    "                                  dissipating=False, max_intensity=500,                                  \n",
    "                                  point_radius=0.20)\n",
    "\n",
    "\n",
    "# Add layer to the map\n",
    "fig.add_layer(heat_layer)\n",
    "fig"
   ]
  },
  {
   "cell_type": "code",
   "execution_count": null,
   "metadata": {},
   "outputs": [],
   "source": [
    "# AQI for year 2020\n",
    "AQI_df = pd.read_csv('Data/AQIndex.csv')\n",
    "AQI_df = AQI_df.dropna()\n",
    "aqi_group = AQI_df.groupby (\"Year\")\n",
    "aqi_2020_df = aqi_group.get_group (2020)"
   ]
  },
  {
   "cell_type": "code",
   "execution_count": null,
   "metadata": {},
   "outputs": [],
   "source": [
    "# introducing coordinates for AQI zipcodes\n",
    "zip_df = pd.read_csv('Data/us-zip-code-latitude-and-longitude.csv')\n",
    "zip_df = zip_df.rename (columns = {\"Zip\" : \"zip\"})\n",
    "\n",
    "#take care of NaN velue\n",
    "zip_df = zip_df.dropna()"
   ]
  },
  {
   "cell_type": "code",
   "execution_count": null,
   "metadata": {},
   "outputs": [],
   "source": [
    "#merging both dataframes\n",
    "# merge AQI and zip coordinates dataframes on zipcode\n",
    "new_aqi_2020_df = pd.merge(aqi_2020_df, zip_df, on=['zip','zip'], how=\"left\")\n",
    "\n",
    "\n",
    "#take care of NaN velue\n",
    "new_aqi_2020_df = new_aqi_2020_df.dropna()\n",
    "new_aqi_2020_df.head()"
   ]
  },
  {
   "cell_type": "code",
   "execution_count": null,
   "metadata": {
    "scrolled": true
   },
   "outputs": [],
   "source": [
    "fig = gmaps.figure(map_type=\"HYBRID\")\n",
    "\n",
    "#Plot Heatmap for AQI by zip code\n",
    "locations = new_aqi_2020_df[[\"Latitude\", \"Longitude\"]]\n",
    "aqi = new_aqi_2020_df[\"AQI\"].astype(float)\n",
    "\n",
    "#create heat layer\n",
    "heat_layer = gmaps.heatmap_layer(locations, weights=aqi, \n",
    "                                  dissipating=False, max_intensity=500,                                  \n",
    "                                  point_radius=0.20)\n",
    "\n",
    "\n",
    "# Add layer to the map\n",
    "fig.add_layer(heat_layer)\n",
    "fig"
   ]
  },
  {
   "cell_type": "code",
   "execution_count": null,
   "metadata": {},
   "outputs": [],
   "source": []
  },
  {
   "cell_type": "code",
   "execution_count": null,
   "metadata": {},
   "outputs": [],
   "source": []
  }
 ],
 "metadata": {
  "kernelspec": {
   "display_name": "Python 3",
   "language": "python",
   "name": "python3"
  },
  "language_info": {
   "codemirror_mode": {
    "name": "ipython",
    "version": 3
   },
   "file_extension": ".py",
   "mimetype": "text/x-python",
   "name": "python",
   "nbconvert_exporter": "python",
   "pygments_lexer": "ipython3",
   "version": "3.8.5"
  }
 },
 "nbformat": 4,
 "nbformat_minor": 4
}
