{
 "cells": [
  {
   "cell_type": "code",
   "execution_count": 1,
   "metadata": {},
   "outputs": [],
   "source": [
    "import gmaps\n",
    "import pandas as pd\n",
    "import numpy as np\n",
    "import matplotlib.pyplot as plt\n",
    "import scipy.stats as st\n",
    "\n",
    "# Google developer API key\n",
    "from api_keys import gkey\n",
    "\n",
    "# Access maps with unique API key\n",
    "gmaps.configure(api_key=gkey)"
   ]
  },
  {
   "cell_type": "code",
   "execution_count": 2,
   "metadata": {},
   "outputs": [],
   "source": [
    "#introducing Vehicle data\n",
    "vehicle_df = pd.read_csv(\"Data/vehicle_data.csv.gz\", compression=\"gzip\")\n",
    "\n",
    "#take care of NaN velue\n",
    "vehicle_df = vehicle_df.dropna()\n",
    "\n",
    "#creating dataframe for car's for selective years\n",
    "vehicle_year_df = vehicle_df.loc[vehicle_df['model_year'].astype(int) <= 2020]\n",
    "#vehicle_year_df.head()"
   ]
  },
  {
   "cell_type": "code",
   "execution_count": 3,
   "metadata": {},
   "outputs": [],
   "source": [
    "#calculating vehicle age till 2009 by model year \n",
    "veh_age = 2020 - vehicle_year_df['model_year'].astype(int)\n",
    "\n",
    "#creating new data frame with new column for vehicle_age\n",
    "new_vehicle_df = pd.DataFrame(vehicle_year_df)\n",
    "new_vehicle_df['vehicle_age'] = veh_age\n",
    "#new_vehicle_df.head()"
   ]
  },
  {
   "cell_type": "code",
   "execution_count": 4,
   "metadata": {},
   "outputs": [],
   "source": [
    "#introducing zip code coordinates\n",
    "zip_df = pd.read_csv('Data/us-zip-code-latitude-and-longitude.csv')\n",
    "zip_df = zip_df.rename (columns = {\"Zip\" : \"zip\"})\n",
    "\n",
    "#take care of NaN velue\n",
    "zip_df = zip_df.dropna()\n",
    "#zip_df.head()"
   ]
  },
  {
   "cell_type": "code",
   "execution_count": 5,
   "metadata": {},
   "outputs": [
    {
     "data": {
      "text/html": [
       "<div>\n",
       "<style scoped>\n",
       "    .dataframe tbody tr th:only-of-type {\n",
       "        vertical-align: middle;\n",
       "    }\n",
       "\n",
       "    .dataframe tbody tr th {\n",
       "        vertical-align: top;\n",
       "    }\n",
       "\n",
       "    .dataframe thead th {\n",
       "        text-align: right;\n",
       "    }\n",
       "</style>\n",
       "<table border=\"1\" class=\"dataframe\">\n",
       "  <thead>\n",
       "    <tr style=\"text-align: right;\">\n",
       "      <th></th>\n",
       "      <th>zip</th>\n",
       "      <th>vehicle_age</th>\n",
       "    </tr>\n",
       "  </thead>\n",
       "  <tbody>\n",
       "    <tr>\n",
       "      <th>0</th>\n",
       "      <td>0</td>\n",
       "      <td>11.0</td>\n",
       "    </tr>\n",
       "    <tr>\n",
       "      <th>1</th>\n",
       "      <td>646</td>\n",
       "      <td>37.0</td>\n",
       "    </tr>\n",
       "    <tr>\n",
       "      <th>2</th>\n",
       "      <td>680</td>\n",
       "      <td>4.0</td>\n",
       "    </tr>\n",
       "    <tr>\n",
       "      <th>3</th>\n",
       "      <td>727</td>\n",
       "      <td>14.0</td>\n",
       "    </tr>\n",
       "    <tr>\n",
       "      <th>4</th>\n",
       "      <td>739</td>\n",
       "      <td>7.0</td>\n",
       "    </tr>\n",
       "  </tbody>\n",
       "</table>\n",
       "</div>"
      ],
      "text/plain": [
       "   zip  vehicle_age\n",
       "0    0         11.0\n",
       "1  646         37.0\n",
       "2  680          4.0\n",
       "3  727         14.0\n",
       "4  739          7.0"
      ]
     },
     "execution_count": 5,
     "metadata": {},
     "output_type": "execute_result"
    }
   ],
   "source": [
    "# find mean of vehicle age by zip code\n",
    "veh_age_mean_df = new_vehicle_df.groupby('zip').agg({'vehicle_age':'mean'})\n",
    "veh_age_mean_df = veh_age_mean_df.reset_index()\n",
    "veh_age_mean_df.head()"
   ]
  },
  {
   "cell_type": "code",
   "execution_count": 6,
   "metadata": {},
   "outputs": [
    {
     "data": {
      "text/html": [
       "<div>\n",
       "<style scoped>\n",
       "    .dataframe tbody tr th:only-of-type {\n",
       "        vertical-align: middle;\n",
       "    }\n",
       "\n",
       "    .dataframe tbody tr th {\n",
       "        vertical-align: top;\n",
       "    }\n",
       "\n",
       "    .dataframe thead th {\n",
       "        text-align: right;\n",
       "    }\n",
       "</style>\n",
       "<table border=\"1\" class=\"dataframe\">\n",
       "  <thead>\n",
       "    <tr style=\"text-align: right;\">\n",
       "      <th></th>\n",
       "      <th>zip</th>\n",
       "      <th>vehicle_age</th>\n",
       "      <th>City</th>\n",
       "      <th>State</th>\n",
       "      <th>Latitude</th>\n",
       "      <th>Longitude</th>\n",
       "      <th>Timezone</th>\n",
       "      <th>Daylight savings time flag</th>\n",
       "    </tr>\n",
       "  </thead>\n",
       "  <tbody>\n",
       "    <tr>\n",
       "      <th>1050</th>\n",
       "      <td>10001</td>\n",
       "      <td>6.330077</td>\n",
       "      <td>New York</td>\n",
       "      <td>NY</td>\n",
       "      <td>40.750742</td>\n",
       "      <td>-73.99653</td>\n",
       "      <td>-5.0</td>\n",
       "      <td>1.0</td>\n",
       "    </tr>\n",
       "    <tr>\n",
       "      <th>1051</th>\n",
       "      <td>10002</td>\n",
       "      <td>8.041483</td>\n",
       "      <td>New York</td>\n",
       "      <td>NY</td>\n",
       "      <td>40.717040</td>\n",
       "      <td>-73.98700</td>\n",
       "      <td>-5.0</td>\n",
       "      <td>1.0</td>\n",
       "    </tr>\n",
       "    <tr>\n",
       "      <th>1052</th>\n",
       "      <td>10003</td>\n",
       "      <td>7.948633</td>\n",
       "      <td>New York</td>\n",
       "      <td>NY</td>\n",
       "      <td>40.732509</td>\n",
       "      <td>-73.98935</td>\n",
       "      <td>-5.0</td>\n",
       "      <td>1.0</td>\n",
       "    </tr>\n",
       "    <tr>\n",
       "      <th>1054</th>\n",
       "      <td>10005</td>\n",
       "      <td>5.339164</td>\n",
       "      <td>New York</td>\n",
       "      <td>NY</td>\n",
       "      <td>40.706019</td>\n",
       "      <td>-74.00858</td>\n",
       "      <td>-5.0</td>\n",
       "      <td>1.0</td>\n",
       "    </tr>\n",
       "    <tr>\n",
       "      <th>1055</th>\n",
       "      <td>10006</td>\n",
       "      <td>5.532009</td>\n",
       "      <td>New York</td>\n",
       "      <td>NY</td>\n",
       "      <td>40.707904</td>\n",
       "      <td>-74.01342</td>\n",
       "      <td>-5.0</td>\n",
       "      <td>1.0</td>\n",
       "    </tr>\n",
       "  </tbody>\n",
       "</table>\n",
       "</div>"
      ],
      "text/plain": [
       "        zip  vehicle_age      City State   Latitude  Longitude  Timezone  \\\n",
       "1050  10001     6.330077  New York    NY  40.750742  -73.99653      -5.0   \n",
       "1051  10002     8.041483  New York    NY  40.717040  -73.98700      -5.0   \n",
       "1052  10003     7.948633  New York    NY  40.732509  -73.98935      -5.0   \n",
       "1054  10005     5.339164  New York    NY  40.706019  -74.00858      -5.0   \n",
       "1055  10006     5.532009  New York    NY  40.707904  -74.01342      -5.0   \n",
       "\n",
       "      Daylight savings time flag  \n",
       "1050                         1.0  \n",
       "1051                         1.0  \n",
       "1052                         1.0  \n",
       "1054                         1.0  \n",
       "1055                         1.0  "
      ]
     },
     "execution_count": 6,
     "metadata": {},
     "output_type": "execute_result"
    }
   ],
   "source": [
    "#add zip code coordinates to vehicle age mean dataframe\n",
    "vehicle_age_2020_df = pd.merge(veh_age_mean_df, zip_df, on=['zip','zip'], how=\"left\")\n",
    "\n",
    "#take care of NaN velue\n",
    "vehicle_age_2020_df = vehicle_age_2020_df.dropna()\n",
    "vehicle_age_2020_df.head()"
   ]
  },
  {
   "cell_type": "code",
   "execution_count": 7,
   "metadata": {},
   "outputs": [
    {
     "data": {
      "application/vnd.jupyter.widget-view+json": {
       "model_id": "6beef51536864a99a37ca7937f584c3d",
       "version_major": 2,
       "version_minor": 0
      },
      "text/plain": [
       "Figure(layout=FigureLayout(height='420px'))"
      ]
     },
     "metadata": {},
     "output_type": "display_data"
    }
   ],
   "source": [
    "#Plot Heatmap for vehicle age by zip code\n",
    "locations = vehicle_age_2020_df[[\"Latitude\", \"Longitude\"]].astype(float)\n",
    "vehicle_age = vehicle_age_2020_df[\"vehicle_age\"].astype(float)\n",
    "\n",
    "\n",
    "#create heat layer for vehicle age by zip\n",
    "heat_layer = gmaps.heatmap_layer(locations, weights=vehicle_age, \n",
    "                                  dissipating=False, max_intensity=500,                                  \n",
    "                                  point_radius=0.20)\n",
    "\n",
    "\n",
    "#combine both maps\n",
    "fig = gmaps.figure(map_type=\"HYBRID\")\n",
    "fig.add_layer(heat_layer)\n",
    "fig"
   ]
  },
  {
   "cell_type": "code",
   "execution_count": null,
   "metadata": {},
   "outputs": [],
   "source": []
  }
 ],
 "metadata": {
  "kernelspec": {
   "display_name": "Python 3",
   "language": "python",
   "name": "python3"
  },
  "language_info": {
   "codemirror_mode": {
    "name": "ipython",
    "version": 3
   },
   "file_extension": ".py",
   "mimetype": "text/x-python",
   "name": "python",
   "nbconvert_exporter": "python",
   "pygments_lexer": "ipython3",
   "version": "3.8.3"
  }
 },
 "nbformat": 4,
 "nbformat_minor": 4
}
