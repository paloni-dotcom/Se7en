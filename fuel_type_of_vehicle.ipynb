{
 "cells": [
  {
   "cell_type": "code",
   "execution_count": 1,
   "metadata": {},
   "outputs": [],
   "source": [
    "import pandas as pd\n",
    "import matplotlib.pyplot as plt\n",
    "import scipy.stats as st\n",
    "import numpy as np\n",
    "import gmaps\n",
    "from api_keys import (gkey)\n",
    "from scipy.stats import linregress"
   ]
  },
  {
   "cell_type": "markdown",
   "metadata": {},
   "source": [
    "### Data Retrieval\n",
    "Retrieving data from the compressed file"
   ]
  },
  {
   "cell_type": "code",
   "execution_count": 2,
   "metadata": {},
   "outputs": [
    {
     "data": {
      "text/html": [
       "<div>\n",
       "<style scoped>\n",
       "    .dataframe tbody tr th:only-of-type {\n",
       "        vertical-align: middle;\n",
       "    }\n",
       "\n",
       "    .dataframe tbody tr th {\n",
       "        vertical-align: top;\n",
       "    }\n",
       "\n",
       "    .dataframe thead th {\n",
       "        text-align: right;\n",
       "    }\n",
       "</style>\n",
       "<table border=\"1\" class=\"dataframe\">\n",
       "  <thead>\n",
       "    <tr style=\"text-align: right;\">\n",
       "      <th></th>\n",
       "      <th>vin</th>\n",
       "      <th>registration_class</th>\n",
       "      <th>zip</th>\n",
       "      <th>model_year</th>\n",
       "      <th>body_type</th>\n",
       "      <th>fuel_type</th>\n",
       "      <th>elec_hybrid</th>\n",
       "    </tr>\n",
       "  </thead>\n",
       "  <tbody>\n",
       "    <tr>\n",
       "      <th>0</th>\n",
       "      <td>999407G3573</td>\n",
       "      <td>PAS</td>\n",
       "      <td>12866</td>\n",
       "      <td>1976</td>\n",
       "      <td>SUBN</td>\n",
       "      <td>GAS</td>\n",
       "      <td>False</td>\n",
       "    </tr>\n",
       "    <tr>\n",
       "      <th>1</th>\n",
       "      <td>9992313</td>\n",
       "      <td>PAS</td>\n",
       "      <td>13316</td>\n",
       "      <td>1924</td>\n",
       "      <td>CONV</td>\n",
       "      <td>GAS</td>\n",
       "      <td>False</td>\n",
       "    </tr>\n",
       "    <tr>\n",
       "      <th>2</th>\n",
       "      <td>998867</td>\n",
       "      <td>PAS</td>\n",
       "      <td>11501</td>\n",
       "      <td>1952</td>\n",
       "      <td>2DSD</td>\n",
       "      <td>GAS</td>\n",
       "      <td>False</td>\n",
       "    </tr>\n",
       "    <tr>\n",
       "      <th>3</th>\n",
       "      <td>9983692</td>\n",
       "      <td>PAS</td>\n",
       "      <td>10940</td>\n",
       "      <td>1936</td>\n",
       "      <td>2DSD</td>\n",
       "      <td>GAS</td>\n",
       "      <td>False</td>\n",
       "    </tr>\n",
       "    <tr>\n",
       "      <th>4</th>\n",
       "      <td>99782010525</td>\n",
       "      <td>PAS</td>\n",
       "      <td>11225</td>\n",
       "      <td>1978</td>\n",
       "      <td>2DSD</td>\n",
       "      <td>GAS</td>\n",
       "      <td>False</td>\n",
       "    </tr>\n",
       "  </tbody>\n",
       "</table>\n",
       "</div>"
      ],
      "text/plain": [
       "                 vin registration_class    zip  model_year body_type  \\\n",
       "0  999407G3573                      PAS  12866        1976      SUBN   \n",
       "1  9992313                          PAS  13316        1924      CONV   \n",
       "2  998867                           PAS  11501        1952      2DSD   \n",
       "3  9983692                          PAS  10940        1936      2DSD   \n",
       "4  99782010525                      PAS  11225        1978      2DSD   \n",
       "\n",
       "  fuel_type  elec_hybrid  \n",
       "0  GAS             False  \n",
       "1  GAS             False  \n",
       "2  GAS             False  \n",
       "3  GAS             False  \n",
       "4  GAS             False  "
      ]
     },
     "execution_count": 2,
     "metadata": {},
     "output_type": "execute_result"
    }
   ],
   "source": [
    "#read data from conpressed file\n",
    "vehicle_data = pd.read_csv(\"Data/vehicle_data.csv.gz\",\n",
    "               compression=\"gzip\")\n",
    "\n",
    "#strip extra spaces in field\n",
    "vehicle_data['fuel_type'].str.rstrip().astype(str)\n",
    "vehicle_data['elec_hybrid']= vehicle_data['fuel_type'].isin(['ELECTRIC','NONE','OTHER'])\n",
    "vehicle_data.head()\n"
   ]
  },
  {
   "cell_type": "code",
   "execution_count": 3,
   "metadata": {},
   "outputs": [
    {
     "data": {
      "text/plain": [
       "zip                4689\n",
       "AQI                4689\n",
       "Category Number    4689\n",
       "Category Name      4689\n",
       "Pollutant          4689\n",
       "Year               4689\n",
       "dtype: int64"
      ]
     },
     "execution_count": 3,
     "metadata": {},
     "output_type": "execute_result"
    }
   ],
   "source": [
    "#Import AQI\n",
    "aqi_df = pd.read_csv(\"Data/AQIndex.csv\", index_col=0)\n",
    "aqi_df.count()"
   ]
  },
  {
   "cell_type": "markdown",
   "metadata": {},
   "source": [
    "### Find the number of Green vehicles by zipcode for each year"
   ]
  },
  {
   "cell_type": "code",
   "execution_count": 4,
   "metadata": {},
   "outputs": [],
   "source": [
    "#Get Vehicle Data and AQI Data\n",
    "veh_2009 = vehicle_data.loc[vehicle_data['model_year'].astype(int) <= 2009]\n",
    "\n",
    "#2015\n",
    "veh_2015 = vehicle_data.loc[vehicle_data['model_year'].astype(int) <= 2015]\n",
    "\n",
    "#2020\n",
    "veh_2020 = vehicle_data.loc[vehicle_data['model_year'].astype(int) <= 2020]"
   ]
  },
  {
   "cell_type": "markdown",
   "metadata": {},
   "source": [
    "#### 2009"
   ]
  },
  {
   "cell_type": "code",
   "execution_count": 5,
   "metadata": {},
   "outputs": [
    {
     "data": {
      "text/html": [
       "<div>\n",
       "<style scoped>\n",
       "    .dataframe tbody tr th:only-of-type {\n",
       "        vertical-align: middle;\n",
       "    }\n",
       "\n",
       "    .dataframe tbody tr th {\n",
       "        vertical-align: top;\n",
       "    }\n",
       "\n",
       "    .dataframe thead th {\n",
       "        text-align: right;\n",
       "    }\n",
       "</style>\n",
       "<table border=\"1\" class=\"dataframe\">\n",
       "  <thead>\n",
       "    <tr style=\"text-align: right;\">\n",
       "      <th></th>\n",
       "      <th>Green</th>\n",
       "      <th>Standard</th>\n",
       "    </tr>\n",
       "    <tr>\n",
       "      <th>zip</th>\n",
       "      <th></th>\n",
       "      <th></th>\n",
       "    </tr>\n",
       "  </thead>\n",
       "  <tbody>\n",
       "    <tr>\n",
       "      <th>10007</th>\n",
       "      <td>2.0</td>\n",
       "      <td>250</td>\n",
       "    </tr>\n",
       "    <tr>\n",
       "      <th>10019</th>\n",
       "      <td>1.0</td>\n",
       "      <td>1196</td>\n",
       "    </tr>\n",
       "    <tr>\n",
       "      <th>10023</th>\n",
       "      <td>1.0</td>\n",
       "      <td>2207</td>\n",
       "    </tr>\n",
       "    <tr>\n",
       "      <th>10032</th>\n",
       "      <td>1.0</td>\n",
       "      <td>2510</td>\n",
       "    </tr>\n",
       "    <tr>\n",
       "      <th>10036</th>\n",
       "      <td>3.0</td>\n",
       "      <td>1257</td>\n",
       "    </tr>\n",
       "  </tbody>\n",
       "</table>\n",
       "</div>"
      ],
      "text/plain": [
       "       Green  Standard\n",
       "zip                   \n",
       "10007    2.0       250\n",
       "10019    1.0      1196\n",
       "10023    1.0      2207\n",
       "10032    1.0      2510\n",
       "10036    3.0      1257"
      ]
     },
     "execution_count": 5,
     "metadata": {},
     "output_type": "execute_result"
    }
   ],
   "source": [
    "#Seperate Data on Fuel Type 2009\n",
    "elec_09 = veh_2009.loc[veh_2009['elec_hybrid'] == True]\n",
    "std_09 = veh_2009.loc[veh_2009['elec_hybrid'] == False]\n",
    "\n",
    "#Rename Columns replace value\n",
    "elec_09 = elec_09.rename(columns={\"elec_hybrid\": \"Green\"})\n",
    "elec_09['Green'] =  1\n",
    "elec_09['Green'].replace(np.nan,0)\n",
    "\n",
    "std_09 = std_09.rename(columns={\"elec_hybrid\": \"Standard\"})\n",
    "std_09['Standard'] = 1\n",
    "std_09['Standard'].replace(np.nan,0)\n",
    "\n",
    "#group by\n",
    "new_elec_09 = elec_09.groupby('zip').agg({'Green':'size'})\n",
    "new_std_09 = std_09.groupby('zip').agg({'Standard':'size'})\n",
    "\n",
    "#Merge the 2009 data sets\n",
    "df_2009 = pd.merge(new_elec_09, new_std_09, on=['zip'], how=\"outer\" )\n",
    "df_2009.replace(np.nan,0)\n",
    "df_2009.head()"
   ]
  },
  {
   "cell_type": "markdown",
   "metadata": {},
   "source": [
    "#### 2015"
   ]
  },
  {
   "cell_type": "code",
   "execution_count": 7,
   "metadata": {},
   "outputs": [
    {
     "data": {
      "text/html": [
       "<div>\n",
       "<style scoped>\n",
       "    .dataframe tbody tr th:only-of-type {\n",
       "        vertical-align: middle;\n",
       "    }\n",
       "\n",
       "    .dataframe tbody tr th {\n",
       "        vertical-align: top;\n",
       "    }\n",
       "\n",
       "    .dataframe thead th {\n",
       "        text-align: right;\n",
       "    }\n",
       "</style>\n",
       "<table border=\"1\" class=\"dataframe\">\n",
       "  <thead>\n",
       "    <tr style=\"text-align: right;\">\n",
       "      <th></th>\n",
       "      <th>Green</th>\n",
       "      <th>Standard</th>\n",
       "    </tr>\n",
       "    <tr>\n",
       "      <th>zip</th>\n",
       "      <th></th>\n",
       "      <th></th>\n",
       "    </tr>\n",
       "  </thead>\n",
       "  <tbody>\n",
       "    <tr>\n",
       "      <th>1035</th>\n",
       "      <td>1.0</td>\n",
       "      <td>NaN</td>\n",
       "    </tr>\n",
       "    <tr>\n",
       "      <th>6831</th>\n",
       "      <td>1.0</td>\n",
       "      <td>67.0</td>\n",
       "    </tr>\n",
       "    <tr>\n",
       "      <th>6876</th>\n",
       "      <td>1.0</td>\n",
       "      <td>NaN</td>\n",
       "    </tr>\n",
       "    <tr>\n",
       "      <th>6880</th>\n",
       "      <td>1.0</td>\n",
       "      <td>12.0</td>\n",
       "    </tr>\n",
       "    <tr>\n",
       "      <th>7032</th>\n",
       "      <td>1.0</td>\n",
       "      <td>14.0</td>\n",
       "    </tr>\n",
       "  </tbody>\n",
       "</table>\n",
       "</div>"
      ],
      "text/plain": [
       "      Green  Standard\n",
       "zip                  \n",
       "1035    1.0       NaN\n",
       "6831    1.0      67.0\n",
       "6876    1.0       NaN\n",
       "6880    1.0      12.0\n",
       "7032    1.0      14.0"
      ]
     },
     "execution_count": 7,
     "metadata": {},
     "output_type": "execute_result"
    }
   ],
   "source": [
    "#Seperate Data on Fuel Type 2015\n",
    "elec_15 = veh_2015.loc[veh_2015['elec_hybrid'] == True]\n",
    "std_15 = veh_2015.loc[veh_2015['elec_hybrid'] == False]\n",
    "\n",
    "#Rename Columns replace value\n",
    "elec_15 = elec_15.rename(columns={\"elec_hybrid\": \"Green\"})\n",
    "elec_15['Green'] =  1\n",
    "elec_15['Green'].replace(np.nan,0)\n",
    "\n",
    "std_15 = std_15.rename(columns={\"elec_hybrid\": \"Standard\"})\n",
    "std_15['Standard'] = 1\n",
    "std_15['Standard'].replace(np.nan,0)\n",
    "\n",
    "#group by\n",
    "new_elec_15 = elec_15.groupby('zip').agg({'Green':'size'})\n",
    "new_std_15 = std_15.groupby('zip').agg({'Standard':'size'})\n",
    "\n",
    "#Merge the 2009 data sets\n",
    "df_2015 = pd.merge(new_elec_15, new_std_15, on=['zip'], how=\"outer\" )\n",
    "df_2015.replace(np.nan,0)\n",
    "df_2015.head()\n"
   ]
  },
  {
   "cell_type": "markdown",
   "metadata": {},
   "source": [
    "#### 2020"
   ]
  },
  {
   "cell_type": "code",
   "execution_count": 8,
   "metadata": {},
   "outputs": [
    {
     "data": {
      "text/html": [
       "<div>\n",
       "<style scoped>\n",
       "    .dataframe tbody tr th:only-of-type {\n",
       "        vertical-align: middle;\n",
       "    }\n",
       "\n",
       "    .dataframe tbody tr th {\n",
       "        vertical-align: top;\n",
       "    }\n",
       "\n",
       "    .dataframe thead th {\n",
       "        text-align: right;\n",
       "    }\n",
       "</style>\n",
       "<table border=\"1\" class=\"dataframe\">\n",
       "  <thead>\n",
       "    <tr style=\"text-align: right;\">\n",
       "      <th></th>\n",
       "      <th>Green</th>\n",
       "      <th>Standard</th>\n",
       "    </tr>\n",
       "    <tr>\n",
       "      <th>zip</th>\n",
       "      <th></th>\n",
       "      <th></th>\n",
       "    </tr>\n",
       "  </thead>\n",
       "  <tbody>\n",
       "    <tr>\n",
       "      <th>1035</th>\n",
       "      <td>1.0</td>\n",
       "      <td>NaN</td>\n",
       "    </tr>\n",
       "    <tr>\n",
       "      <th>2534</th>\n",
       "      <td>1.0</td>\n",
       "      <td>NaN</td>\n",
       "    </tr>\n",
       "    <tr>\n",
       "      <th>4107</th>\n",
       "      <td>1.0</td>\n",
       "      <td>NaN</td>\n",
       "    </tr>\n",
       "    <tr>\n",
       "      <th>6390</th>\n",
       "      <td>2.0</td>\n",
       "      <td>429.0</td>\n",
       "    </tr>\n",
       "    <tr>\n",
       "      <th>6437</th>\n",
       "      <td>1.0</td>\n",
       "      <td>3.0</td>\n",
       "    </tr>\n",
       "  </tbody>\n",
       "</table>\n",
       "</div>"
      ],
      "text/plain": [
       "      Green  Standard\n",
       "zip                  \n",
       "1035    1.0       NaN\n",
       "2534    1.0       NaN\n",
       "4107    1.0       NaN\n",
       "6390    2.0     429.0\n",
       "6437    1.0       3.0"
      ]
     },
     "execution_count": 8,
     "metadata": {},
     "output_type": "execute_result"
    }
   ],
   "source": [
    "#Seperate Data on Fuel Type 2020\n",
    "elec_20 = veh_2020.loc[veh_2020['elec_hybrid'] == True]\n",
    "std_20 = veh_2020.loc[veh_2020['elec_hybrid'] == False]\n",
    "\n",
    "#Rename Columns replace value\n",
    "elec_20 = elec_20.rename(columns={\"elec_hybrid\": \"Green\"})\n",
    "elec_20['Green'] =  1\n",
    "elec_20['Green'].replace(np.nan,0)\n",
    "\n",
    "std_20 = std_20.rename(columns={\"elec_hybrid\": \"Standard\"})\n",
    "std_20['Standard'] = 1\n",
    "std_20['Standard'].replace(np.nan,0)\n",
    "\n",
    "#group by\n",
    "new_elec_20 = elec_20.groupby('zip').agg({'Green':'size'})\n",
    "new_std_20 = std_20.groupby('zip').agg({'Standard':'size'})\n",
    "\n",
    "#Merge the 20 data sets\n",
    "df_2020 = pd.merge(new_elec_20, new_std_20, on=['zip'], how=\"outer\" )\n",
    "df_2020.replace(np.nan,0)\n",
    "df_2020.head()"
   ]
  },
  {
   "cell_type": "markdown",
   "metadata": {},
   "source": [
    "### Merge vehicle and AQI data"
   ]
  },
  {
   "cell_type": "code",
   "execution_count": 9,
   "metadata": {},
   "outputs": [],
   "source": [
    "#Merge related AQI Data and drop unneeded columns, and remove NaN\n",
    "#aqi call\n",
    "aqi_group = aqi_df.groupby('Year')\n",
    "\n",
    "#2009\n",
    "aqi_2009 = aqi_group.get_group(2009)\n",
    "veh_aqi_2009 = pd.merge(aqi_2009, df_2009, on=['zip'], how=\"inner\" )\n",
    "veh_aqi_2009 = veh_aqi_2009.drop(columns =['Category Number','Category Name',\n",
    "                                          'Pollutant','Year'])\n",
    "veh_aqi_2009['Green'] = veh_aqi_2009['Green'].fillna(0)\n",
    "veh_aqi_2009['Standard'] = veh_aqi_2009['Standard'].fillna(0)\n",
    "\n",
    "#2015\n",
    "aqi_2015 = aqi_group.get_group(2015)\n",
    "veh_aqi_2015 = pd.merge(aqi_2015, df_2015, on=['zip'], how=\"inner\" )\n",
    "veh_aqi_2015 = veh_aqi_2015.drop(columns =['Category Number','Category Name',\n",
    "                                          'Pollutant','Year'])\n",
    "veh_aqi_2015['Green'] = veh_aqi_2015['Green'].fillna(0)\n",
    "veh_aqi_2015['Standard'] = veh_aqi_2015['Standard'].fillna(0)\n",
    "\n",
    "#2020\n",
    "aqi_2020 = aqi_group.get_group(2020)\n",
    "veh_aqi_2020 = pd.merge(aqi_2020, df_2020, on=['zip'], how=\"inner\" )\n",
    "veh_aqi_2020 = veh_aqi_2020.drop(columns =['Category Number','Category Name',\n",
    "                                          'Pollutant','Year'])\n",
    "veh_aqi_2020['Green'] = veh_aqi_2020['Green'].fillna(0)\n",
    "veh_aqi_2020['Standard'] = veh_aqi_2020['Standard'].fillna(0)\n"
   ]
  },
  {
   "cell_type": "code",
   "execution_count": 10,
   "metadata": {},
   "outputs": [],
   "source": [
    "#Add Percentage of Green Vehicles\n",
    "#2009\n",
    "veh_count_09 = veh_aqi_2009['Standard']+ veh_aqi_2009['Green']\n",
    "veh_aqi_2009['% Green']= (veh_aqi_2009['Green']/veh_count_09)\n",
    "veh_aqi_2009['% Green']= veh_aqi_2009['% Green'].astype(float)\n",
    "\n",
    "\n",
    "#2015\n",
    "veh_count_15 = veh_aqi_2015['Standard']+ veh_aqi_2015['Green']\n",
    "veh_aqi_2015['% Green']= (veh_aqi_2015['Green']/veh_count_15)\n",
    "veh_aqi_2015['% Green']= veh_aqi_2015['% Green'].astype(float)\n",
    "\n",
    "\n",
    "#2020\n",
    "veh_count_20 = veh_aqi_2020['Standard']+ veh_aqi_2020['Green']\n",
    "veh_aqi_2020['% Green']= (veh_aqi_2020['Green']/veh_count_20)\n",
    "veh_aqi_2020['% Green']= veh_aqi_2020['% Green'].astype(float)\n"
   ]
  },
  {
   "cell_type": "code",
   "execution_count": 11,
   "metadata": {},
   "outputs": [
    {
     "data": {
      "text/html": [
       "<div>\n",
       "<style scoped>\n",
       "    .dataframe tbody tr th:only-of-type {\n",
       "        vertical-align: middle;\n",
       "    }\n",
       "\n",
       "    .dataframe tbody tr th {\n",
       "        vertical-align: top;\n",
       "    }\n",
       "\n",
       "    .dataframe thead th {\n",
       "        text-align: right;\n",
       "    }\n",
       "</style>\n",
       "<table border=\"1\" class=\"dataframe\">\n",
       "  <thead>\n",
       "    <tr style=\"text-align: right;\">\n",
       "      <th></th>\n",
       "      <th>zip</th>\n",
       "      <th>AQI</th>\n",
       "      <th>Green</th>\n",
       "      <th>Standard</th>\n",
       "      <th>% Green</th>\n",
       "    </tr>\n",
       "  </thead>\n",
       "  <tbody>\n",
       "    <tr>\n",
       "      <th>0</th>\n",
       "      <td>12032</td>\n",
       "      <td>42</td>\n",
       "      <td>0.0</td>\n",
       "      <td>751.0</td>\n",
       "      <td>0.000000</td>\n",
       "    </tr>\n",
       "    <tr>\n",
       "      <th>1</th>\n",
       "      <td>12108</td>\n",
       "      <td>42</td>\n",
       "      <td>0.0</td>\n",
       "      <td>331.0</td>\n",
       "      <td>0.000000</td>\n",
       "    </tr>\n",
       "    <tr>\n",
       "      <th>2</th>\n",
       "      <td>12134</td>\n",
       "      <td>42</td>\n",
       "      <td>2.0</td>\n",
       "      <td>2906.0</td>\n",
       "      <td>0.000688</td>\n",
       "    </tr>\n",
       "    <tr>\n",
       "      <th>3</th>\n",
       "      <td>12139</td>\n",
       "      <td>42</td>\n",
       "      <td>0.0</td>\n",
       "      <td>200.0</td>\n",
       "      <td>0.000000</td>\n",
       "    </tr>\n",
       "    <tr>\n",
       "      <th>4</th>\n",
       "      <td>12164</td>\n",
       "      <td>42</td>\n",
       "      <td>0.0</td>\n",
       "      <td>392.0</td>\n",
       "      <td>0.000000</td>\n",
       "    </tr>\n",
       "  </tbody>\n",
       "</table>\n",
       "</div>"
      ],
      "text/plain": [
       "     zip  AQI  Green  Standard   % Green\n",
       "0  12032   42    0.0     751.0  0.000000\n",
       "1  12108   42    0.0     331.0  0.000000\n",
       "2  12134   42    2.0    2906.0  0.000688\n",
       "3  12139   42    0.0     200.0  0.000000\n",
       "4  12164   42    0.0     392.0  0.000000"
      ]
     },
     "execution_count": 11,
     "metadata": {},
     "output_type": "execute_result"
    }
   ],
   "source": [
    "#View DataFrame\n",
    "veh_aqi_2020.head()"
   ]
  },
  {
   "cell_type": "markdown",
   "metadata": {},
   "source": [
    "### Data Analysis on % of Green cars\n",
    "Find the mean and sum of Green cars"
   ]
  },
  {
   "cell_type": "code",
   "execution_count": 12,
   "metadata": {},
   "outputs": [
    {
     "name": "stdout",
     "output_type": "stream",
     "text": [
      "2009- 0.008849557522123894 | 2015- 0.009302325581395349 | 2020- 0.02975557917109458 \n",
      "        zip  AQI  Green  Standard  % Green\n",
      "1192  12017   74    1.0       112  0.00885\n",
      "        zip  AQI  Green  Standard   % Green\n",
      "1192  12017   46    2.0     213.0  0.009302\n",
      "       zip  AQI  Green  Standard   % Green\n",
      "740  11568   58   84.0    2739.0  0.029756\n"
     ]
    }
   ],
   "source": [
    "# #2009\n",
    "max_2009 = veh_aqi_2009['% Green'].max()\n",
    "\n",
    "# #2015\n",
    "max_2015 = veh_aqi_2015['% Green'].max()\n",
    "\n",
    "# #2020\n",
    "max_2020 = veh_aqi_2020['% Green'].max()\n",
    "\n",
    "#Print Max Values for each year\n",
    "print(f'2009- {max_2009} | 2015- {max_2015} | 2020- {max_2020} ')\n",
    "\n",
    "#Print max value rows\n",
    "print(veh_aqi_2009[veh_aqi_2009['% Green'] == veh_aqi_2009['% Green'].max()])\n",
    "print(veh_aqi_2015[veh_aqi_2015['% Green'] == veh_aqi_2015['% Green'].max()])\n",
    "print(veh_aqi_2020[veh_aqi_2020['% Green'] == veh_aqi_2020['% Green'].max()])"
   ]
  },
  {
   "cell_type": "code",
   "execution_count": 13,
   "metadata": {},
   "outputs": [
    {
     "data": {
      "text/html": [
       "<div>\n",
       "<style scoped>\n",
       "    .dataframe tbody tr th:only-of-type {\n",
       "        vertical-align: middle;\n",
       "    }\n",
       "\n",
       "    .dataframe tbody tr th {\n",
       "        vertical-align: top;\n",
       "    }\n",
       "\n",
       "    .dataframe thead th {\n",
       "        text-align: right;\n",
       "    }\n",
       "</style>\n",
       "<table border=\"1\" class=\"dataframe\">\n",
       "  <thead>\n",
       "    <tr style=\"text-align: right;\">\n",
       "      <th></th>\n",
       "      <th>Year</th>\n",
       "      <th>Mean</th>\n",
       "      <th>Sum</th>\n",
       "    </tr>\n",
       "  </thead>\n",
       "  <tbody>\n",
       "    <tr>\n",
       "      <th>0</th>\n",
       "      <td>2009</td>\n",
       "      <td>0.044872</td>\n",
       "      <td>70.0</td>\n",
       "    </tr>\n",
       "    <tr>\n",
       "      <th>1</th>\n",
       "      <td>2015</td>\n",
       "      <td>1.349359</td>\n",
       "      <td>2105.0</td>\n",
       "    </tr>\n",
       "    <tr>\n",
       "      <th>2</th>\n",
       "      <td>2020</td>\n",
       "      <td>15.239590</td>\n",
       "      <td>23789.0</td>\n",
       "    </tr>\n",
       "  </tbody>\n",
       "</table>\n",
       "</div>"
      ],
      "text/plain": [
       "   Year       Mean      Sum\n",
       "0  2009   0.044872     70.0\n",
       "1  2015   1.349359   2105.0\n",
       "2  2020  15.239590  23789.0"
      ]
     },
     "execution_count": 13,
     "metadata": {},
     "output_type": "execute_result"
    }
   ],
   "source": [
    "# #2009\n",
    "mean_2009 = veh_aqi_2009['Green'].mean()\n",
    "sum_2009 = veh_aqi_2009['Green'].sum()\n",
    "# #2015\n",
    "mean_2015 = veh_aqi_2015['Green'].mean()\n",
    "sum_2015 = veh_aqi_2015['Green'].sum()\n",
    "# #2020\n",
    "mean_2020 = veh_aqi_2020['Green'].mean()\n",
    "sum_2020 = veh_aqi_2020['Green'].sum()\n",
    "\n",
    "#Create Series\n",
    "df_year = ['2009', '2015', '2020']\n",
    "df_mean = [mean_2009, mean_2015, mean_2020]\n",
    "df_sum = [sum_2009, sum_2015, sum_2020]\n",
    "\n",
    "#Create DF\n",
    "year_series = pd.Series(df_year) \n",
    "mean_series = pd.Series(df_mean) \n",
    "sum_series = pd.Series(df_sum) \n",
    "year_change = { 'Year': year_series, 'Mean': mean_series, 'Sum': sum_series } \n",
    "  \n",
    "year_change_df = pd.DataFrame(year_change) \n",
    "year_change_df"
   ]
  },
  {
   "cell_type": "markdown",
   "metadata": {},
   "source": [
    "### Bar Chart\n",
    "Plot the comparison of green vehicles vs mean for the 3 years"
   ]
  },
  {
   "cell_type": "code",
   "execution_count": 14,
   "metadata": {},
   "outputs": [
    {
     "data": {
      "text/plain": [
       "<function matplotlib.pyplot.show(*args, **kw)>"
      ]
     },
     "execution_count": 14,
     "metadata": {},
     "output_type": "execute_result"
    },
    {
     "data": {
      "image/png": "[encoded data removed]",
      "text/plain": [
       "<Figure size 432x288 with 2 Axes>"
      ]
     },
     "metadata": {
      "needs_background": "light"
     },
     "output_type": "display_data"
    }
   ],
   "source": [
    "fig, ax = plt.subplots()\n",
    "\n",
    "ax2 = ax.twinx()\n",
    "ax.bar(year_change_df['Year'], year_change_df[\"Sum\"], color='g', label='Count of Green Vehciles')\n",
    "ax2.plot(year_change_df['Year'], year_change_df[\"Mean\"], color='r', label='Mean')\n",
    "\n",
    "ax.set_xlabel('Year')\n",
    "plt.title('Count of Green Vehicles Statewide vs. Mean')\n",
    "ax.set_ylabel ('Number of Green/Hybrid Vehicles')\n",
    "ax2.set_ylabel ('Mean of Green Vehicles across NY')\n",
    "ax.legend(loc='best')\n",
    "\n",
    "# save to file\n",
    "plt.savefig('Images/Count of Green Vehicles Statewide vs. Mean.png', bbox_inches=\"tight\", pad_inches=.3)\n",
    "plt.show\n",
    "\n"
   ]
  },
  {
   "cell_type": "markdown",
   "metadata": {},
   "source": [
    "### Scatter Chart\n",
    "Air Quality Index for % of Green Vehicles for the 3 years"
   ]
  },
  {
   "cell_type": "code",
   "execution_count": 15,
   "metadata": {},
   "outputs": [],
   "source": [
    "#Scatter Plots (Function written by Team Member Deepa)\n",
    "\n",
    "# function to plot a multi box plot\n",
    "# requires group, title, y-axis label, filename to store png\n",
    "\n",
    "def scatter_plot(x_values, y_values, title, x_label, y_label, file_name):\n",
    "    # Plot the scatter plot for given year\n",
    "    plt.figure(figsize=(8,6))\n",
    "    plt.scatter(x_values, y_values)\n",
    "\n",
    "    # Plot the linear regression model\n",
    "    (slope, intercept, rvalue, pvalue, stderr) = st.linregress(x_values, y_values)\n",
    "    regress_values = x_values * slope + intercept\n",
    "    line_eq = \"y = \" + str(round(slope,2)) + \"x + \" + str(round(intercept,2))\n",
    "    plt.plot(x_values, regress_values, \"r-\")\n",
    "    \n",
    "    # modified locations for graphs, change to Deepa's original code)\n",
    "    plt.annotate(line_eq, (0.000, 45.0),fontsize=15,color=\"red\")\n",
    "\n",
    "    # Set the title and axis labels   \n",
    "    plt.title(title)\n",
    "    plt.xlabel(x_label)\n",
    "    plt.ylabel(y_label)\n",
    "\n",
    "    # Calculate the correlation coefficient\n",
    "    print(f\"The r-squared is: {rvalue**2}\")\n",
    "    \n",
    "    # save to file\n",
    "    plt.savefig(file_name, bbox_inches=\"tight\", pad_inches=.3)\n",
    "\n",
    "    plt.show()"
   ]
  },
  {
   "cell_type": "markdown",
   "metadata": {},
   "source": [
    "### 2009"
   ]
  },
  {
   "cell_type": "code",
   "execution_count": 16,
   "metadata": {},
   "outputs": [
    {
     "name": "stdout",
     "output_type": "stream",
     "text": [
      "The r-squared is: 2.2896326595612274e-07\n"
     ]
    },
    {
     "data": {
      "image/png": "[encoded data removed]",
      "text/plain": [
       "<Figure size 576x432 with 1 Axes>"
      ]
     },
     "metadata": {
      "needs_background": "light"
     },
     "output_type": "display_data"
    }
   ],
   "source": [
    "# plot scatter plot percent of green vehciles vs. AQI (2009)\n",
    "\n",
    "# set x-values as age of vehile and y-values are AQI\n",
    "x_values = veh_aqi_2009['% Green']\n",
    "y_values = veh_aqi_2009['AQI']\n",
    "\n",
    "# give a title, x-label and y-label\n",
    "title = f\"Air Quality Index for % of Green Vehicles 2009\"\n",
    "x_label = \"Percentage of Green Vehicles\"\n",
    "y_label = \"Air Quality Index\"\n",
    "\n",
    "# filename to store the .png file\n",
    "file_name = f\"Images/AQI_Green_Percent_2009.png\"\n",
    "\n",
    "scatter_plot(x_values, y_values, title, x_label, y_label, file_name)\n"
   ]
  },
  {
   "cell_type": "markdown",
   "metadata": {},
   "source": [
    "### 2015"
   ]
  },
  {
   "cell_type": "code",
   "execution_count": 17,
   "metadata": {},
   "outputs": [
    {
     "name": "stdout",
     "output_type": "stream",
     "text": [
      "The r-squared is: 0.0018160267526019045\n"
     ]
    },
    {
     "data": {
      "image/png": "[encoded data removed]",
      "text/plain": [
       "<Figure size 576x432 with 1 Axes>"
      ]
     },
     "metadata": {
      "needs_background": "light"
     },
     "output_type": "display_data"
    }
   ],
   "source": [
    "# plot scatter plot percent of green vehciles vs. AQI (2015)\n",
    "\n",
    "# set x-values as age of vehile and y-values are AQI\n",
    "x_values = veh_aqi_2015['% Green']\n",
    "y_values = veh_aqi_2015['AQI']\n",
    "\n",
    "# give a title, x-label and y-label\n",
    "title = f\"Air Quality Index for % of Green Vehicles 2015\"\n",
    "x_label = \"Percentage of Green Vehicles\"\n",
    "y_label = \"Air Quality Index\"\n",
    "\n",
    "# filename to store the .png file\n",
    "file_name = f\"Images/AQI_Green_Percent_2015.png\"\n",
    "\n",
    "scatter_plot(x_values, y_values, title, x_label, y_label, file_name)"
   ]
  },
  {
   "cell_type": "markdown",
   "metadata": {},
   "source": [
    "### 2020"
   ]
  },
  {
   "cell_type": "code",
   "execution_count": 18,
   "metadata": {},
   "outputs": [
    {
     "name": "stdout",
     "output_type": "stream",
     "text": [
      "The r-squared is: 0.16217576809651812\n"
     ]
    },
    {
     "data": {
      "image/png": "[encoded data removed]",
      "text/plain": [
       "<Figure size 576x432 with 1 Axes>"
      ]
     },
     "metadata": {
      "needs_background": "light"
     },
     "output_type": "display_data"
    }
   ],
   "source": [
    "# plot scatter plot percent of green vehciles vs. AQI (2020)\n",
    "\n",
    "# set x-values as age of vehile and y-values are AQI\n",
    "x_values = veh_aqi_2020['% Green']\n",
    "y_values = veh_aqi_2020['AQI']\n",
    "\n",
    "# give a title, x-label and y-label\n",
    "title = f\"Air Quality Index for % of Green Vehicles 2020\"\n",
    "x_label = \"Percentage of Green Vehicles\"\n",
    "y_label = \"Air Quality Index\"\n",
    "\n",
    "# filename to store the .png file\n",
    "file_name = f\"Images/AQI_Green_2020.png\"\n",
    "\n",
    "scatter_plot(x_values, y_values, title, x_label, y_label, file_name)"
   ]
  },
  {
   "cell_type": "markdown",
   "metadata": {},
   "source": [
    "### Heat Maps"
   ]
  },
  {
   "cell_type": "code",
   "execution_count": 20,
   "metadata": {},
   "outputs": [
    {
     "data": {
      "text/html": [
       "<div>\n",
       "<style scoped>\n",
       "    .dataframe tbody tr th:only-of-type {\n",
       "        vertical-align: middle;\n",
       "    }\n",
       "\n",
       "    .dataframe tbody tr th {\n",
       "        vertical-align: top;\n",
       "    }\n",
       "\n",
       "    .dataframe thead th {\n",
       "        text-align: right;\n",
       "    }\n",
       "</style>\n",
       "<table border=\"1\" class=\"dataframe\">\n",
       "  <thead>\n",
       "    <tr style=\"text-align: right;\">\n",
       "      <th></th>\n",
       "      <th>zip</th>\n",
       "      <th>AQI</th>\n",
       "      <th>Green</th>\n",
       "      <th>Standard</th>\n",
       "      <th>% Green</th>\n",
       "      <th>Latitude</th>\n",
       "      <th>Longitude</th>\n",
       "    </tr>\n",
       "  </thead>\n",
       "  <tbody>\n",
       "    <tr>\n",
       "      <th>0</th>\n",
       "      <td>12032</td>\n",
       "      <td>42.0</td>\n",
       "      <td>0.0</td>\n",
       "      <td>751.0</td>\n",
       "      <td>0.000000</td>\n",
       "      <td>43.2295</td>\n",
       "      <td>-74.5171</td>\n",
       "    </tr>\n",
       "    <tr>\n",
       "      <th>1</th>\n",
       "      <td>12108</td>\n",
       "      <td>42.0</td>\n",
       "      <td>0.0</td>\n",
       "      <td>331.0</td>\n",
       "      <td>0.000000</td>\n",
       "      <td>43.4531</td>\n",
       "      <td>-74.4567</td>\n",
       "    </tr>\n",
       "    <tr>\n",
       "      <th>2</th>\n",
       "      <td>12134</td>\n",
       "      <td>42.0</td>\n",
       "      <td>2.0</td>\n",
       "      <td>2906.0</td>\n",
       "      <td>0.000688</td>\n",
       "      <td>43.2027</td>\n",
       "      <td>-74.1115</td>\n",
       "    </tr>\n",
       "    <tr>\n",
       "      <th>3</th>\n",
       "      <td>12139</td>\n",
       "      <td>42.0</td>\n",
       "      <td>0.0</td>\n",
       "      <td>200.0</td>\n",
       "      <td>0.000000</td>\n",
       "      <td>43.4032</td>\n",
       "      <td>-74.5363</td>\n",
       "    </tr>\n",
       "    <tr>\n",
       "      <th>4</th>\n",
       "      <td>12164</td>\n",
       "      <td>42.0</td>\n",
       "      <td>0.0</td>\n",
       "      <td>392.0</td>\n",
       "      <td>0.000000</td>\n",
       "      <td>43.4904</td>\n",
       "      <td>-74.3743</td>\n",
       "    </tr>\n",
       "  </tbody>\n",
       "</table>\n",
       "</div>"
      ],
      "text/plain": [
       "     zip   AQI  Green  Standard   % Green  Latitude  Longitude\n",
       "0  12032  42.0    0.0     751.0  0.000000   43.2295   -74.5171\n",
       "1  12108  42.0    0.0     331.0  0.000000   43.4531   -74.4567\n",
       "2  12134  42.0    2.0    2906.0  0.000688   43.2027   -74.1115\n",
       "3  12139  42.0    0.0     200.0  0.000000   43.4032   -74.5363\n",
       "4  12164  42.0    0.0     392.0  0.000000   43.4904   -74.3743"
      ]
     },
     "execution_count": 20,
     "metadata": {},
     "output_type": "execute_result"
    }
   ],
   "source": [
    "#Read Lat Lng File\n",
    "location_df = pd.read_csv(\"Data/newyork_cities.csv\")\n",
    "location_df = location_df.rename(columns= {'Zipcode':'zip'})\n",
    "location_df = location_df.drop(columns =['Unnamed: 0','City','State'])\n",
    "\n",
    "#Add Lat Lng to Year Files\n",
    "combined_09 = pd.merge(veh_aqi_2009, location_df, on=['zip'], how=\"outer\" )\n",
    "combined_15 = pd.merge(veh_aqi_2015, location_df, on=['zip'], how=\"outer\" )\n",
    "combined_20 = pd.merge(veh_aqi_2020, location_df, on=['zip'], how=\"outer\" )\n",
    "combined_20.head()\n"
   ]
  },
  {
   "cell_type": "code",
   "execution_count": 21,
   "metadata": {},
   "outputs": [],
   "source": [
    "# Configure gmaps with API key\n",
    "gmaps.configure(api_key=gkey)"
   ]
  },
  {
   "cell_type": "markdown",
   "metadata": {},
   "source": [
    "#### 2009"
   ]
  },
  {
   "cell_type": "code",
   "execution_count": 22,
   "metadata": {
    "scrolled": true
   },
   "outputs": [
    {
     "data": {
      "application/vnd.jupyter.widget-view+json": {
       "model_id": "634988d1cc0f4bb78caa022645124452",
       "version_major": 2,
       "version_minor": 0
      },
      "text/plain": [
       "Figure(layout=FigureLayout(height='420px'))"
      ]
     },
     "metadata": {},
     "output_type": "display_data"
    }
   ],
   "source": [
    "#Heat Map for 2009\n",
    "# Store 'Lat' and 'Lng' into  locations \n",
    "locations_09 = combined_09[[\"Latitude\", \"Longitude\"]].astype(float)\n",
    "\n",
    "# Convert AQI to float and store\n",
    "AQI_rate_09 = combined_09[\"AQI\"].astype(float)\n",
    "\n",
    "# Create a AQI Heatmap layer\n",
    "fig = gmaps.figure()\n",
    "\n",
    "heat_layer_09 = gmaps.heatmap_layer(locations_09, weights=AQI_rate_09, \n",
    "                                 dissipating=False, max_intensity=500,\n",
    "                                 point_radius = 1)\n",
    "fig.add_layer(heat_layer_09)\n",
    "\n",
    "# Convert count of green vehicle to list\n",
    "vehicle_count_09 = combined_09[\"Green\"].tolist()\n",
    "\n",
    "# Create Vehicle symbol layer\n",
    "vehicle_layer_09 = gmaps.symbol_layer(\n",
    "    locations_09, fill_color='rgba(0, 150, 0, 0.4)',\n",
    "    stroke_color='rgba(0, 0, 150, 0.4)', scale=2,\n",
    "    info_box_content=[f\"Green Vehicle count of: {vehicle}\" for vehicle in vehicle_count_09]\n",
    ")\n",
    "\n",
    "\n",
    "#Combined map\n",
    "fig = gmaps.figure(2009)\n",
    "\n",
    "fig.add_layer(heat_layer_09)\n",
    "fig.add_layer(vehicle_layer_09)\n",
    "\n",
    "fig\n"
   ]
  },
  {
   "cell_type": "markdown",
   "metadata": {},
   "source": [
    "#### 2015"
   ]
  },
  {
   "cell_type": "code",
   "execution_count": 23,
   "metadata": {
    "scrolled": false
   },
   "outputs": [
    {
     "data": {
      "application/vnd.jupyter.widget-view+json": {
       "model_id": "6f23caecbdf44a6dbb5b7ab5d3e86e87",
       "version_major": 2,
       "version_minor": 0
      },
      "text/plain": [
       "Figure(layout=FigureLayout(height='420px'))"
      ]
     },
     "metadata": {},
     "output_type": "display_data"
    }
   ],
   "source": [
    "#Heat Map for 2015\n",
    "# Store 'Lat' and 'Lng' into  locations \n",
    "locations_15 = combined_15[[\"Latitude\", \"Longitude\"]].astype(float)\n",
    "\n",
    "# Convert AQI to float and store\n",
    "AQI_rate_15 = combined_15[\"AQI\"].astype(float)\n",
    "\n",
    "# Create a AQI Heatmap layer\n",
    "fig = gmaps.figure()\n",
    "\n",
    "heat_layer_15 = gmaps.heatmap_layer(locations_15, weights=AQI_rate_15, \n",
    "                                 dissipating=False, max_intensity=500,\n",
    "                                 point_radius = 0.5)\n",
    "fig.add_layer(heat_layer_15)\n",
    "\n",
    "# Convert count of green vehicle to list\n",
    "vehicle_count_15 = combined_15[\"Green\"].tolist()\n",
    "\n",
    "# Create Vehicle symbol layer\n",
    "vehicle_layer_15 = gmaps.symbol_layer(\n",
    "    locations_15, fill_color='rgba(0, 150, 0, 0.4)',\n",
    "    stroke_color='rgba(0, 0, 150, 0.4)', scale=2,\n",
    "    info_box_content=[f\"Green Vehicle count is: {vehicle}\" for vehicle in vehicle_count_15]\n",
    ")\n",
    "\n",
    "\n",
    "#Combined map\n",
    "fig = gmaps.figure(2015)\n",
    "\n",
    "fig.add_layer(heat_layer_15)\n",
    "fig.add_layer(vehicle_layer_15)\n",
    "\n",
    "fig\n"
   ]
  },
  {
   "cell_type": "markdown",
   "metadata": {},
   "source": [
    "#### 2020"
   ]
  },
  {
   "cell_type": "code",
   "execution_count": 24,
   "metadata": {
    "scrolled": true
   },
   "outputs": [
    {
     "data": {
      "application/vnd.jupyter.widget-view+json": {
       "model_id": "f42486947f3046dc925741e59b0d19da",
       "version_major": 2,
       "version_minor": 0
      },
      "text/plain": [
       "Figure(layout=FigureLayout(height='420px'))"
      ]
     },
     "metadata": {},
     "output_type": "display_data"
    }
   ],
   "source": [
    "#Heat Map for 2020\n",
    "# Store 'Lat' and 'Lng' into  locations \n",
    "locations_20 = combined_20[[\"Latitude\", \"Longitude\"]].astype(float)\n",
    "\n",
    "# Convert AQI to float and store\n",
    "AQI_rate_20 = combined_20[\"AQI\"].astype(float)\n",
    "\n",
    "# Create a AQI Heatmap layer\n",
    "fig = gmaps.figure()\n",
    "\n",
    "heat_layer_20 = gmaps.heatmap_layer(locations_20, weights=AQI_rate_20, \n",
    "                                 dissipating=False, max_intensity=500,\n",
    "                                 point_radius = 1)\n",
    "fig.add_layer(heat_layer_20)\n",
    "\n",
    "# Convert count of green vehicle to list\n",
    "vehicle_count_20 = combined_20[\"Green\"].tolist()\n",
    "\n",
    "# Create Vehicle symbol layer\n",
    "vehicle_layer_20 = gmaps.symbol_layer(\n",
    "    locations_20, fill_color='rgba(0, 150, 0, 0.4)',\n",
    "    stroke_color='rgba(0, 0, 150, 0.4)', scale=2,\n",
    "    info_box_content=[f\"Green Vehicle count is: {vehicle}\" for vehicle in vehicle_count_20]\n",
    ")\n",
    "\n",
    "#Combined map\n",
    "fig = gmaps.figure(2020)\n",
    "\n",
    "fig.add_layer(heat_layer_20)\n",
    "fig.add_layer(vehicle_layer_20)\n",
    "\n",
    "fig\n",
    "\n"
   ]
  },
  {
   "cell_type": "code",
   "execution_count": null,
   "metadata": {},
   "outputs": [],
   "source": []
  }
 ],
 "metadata": {
  "kernelspec": {
   "display_name": "Python 3",
   "language": "python",
   "name": "python3"
  },
  "language_info": {
   "codemirror_mode": {
    "name": "ipython",
    "version": 3
   },
   "file_extension": ".py",
   "mimetype": "text/x-python",
   "name": "python",
   "nbconvert_exporter": "python",
   "pygments_lexer": "ipython3",
   "version": "3.6.10"
  }
 },
 "nbformat": 4,
 "nbformat_minor": 4
}
