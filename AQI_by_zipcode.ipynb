{
 "cells": [
  {
   "cell_type": "code",
   "execution_count": 15,
   "metadata": {},
   "outputs": [],
   "source": [
    "import gmaps\n",
    "import pandas as pd\n",
    "import numpy as np\n",
    "import matplotlib.pyplot as plt\n",
    "import scipy.stats as st\n",
    "\n",
    "# Google developer API key\n",
    "from api_keys import gkey\n",
    "\n",
    "# Access maps with unique API key\n",
    "gmaps.configure(api_key=gkey)\n"
   ]
  },
  {
   "cell_type": "code",
   "execution_count": 16,
   "metadata": {
    "scrolled": true
   },
   "outputs": [],
   "source": [
    "# importing AQI data\n",
    "AQI_df = pd.read_csv('Data/AQIndex.csv')\n",
    "AQI_df = AQI_df.dropna()\n",
    "aqi_group = AQI_df.groupby (\"Year\")\n",
    "aqi_2009_df = aqi_group.get_group (2009)"
   ]
  },
  {
   "cell_type": "code",
   "execution_count": 56,
   "metadata": {
    "scrolled": true
   },
   "outputs": [],
   "source": [
    "#introducing zip code coordinates\n",
    "zip_df = pd.read_csv('Data/us-zip-code-latitude-and-longitude.csv')\n",
    "zip_df = zip_df.rename (columns = {\"Zip\" : \"zip\"})\n",
    "\n",
    "#take care of NaN velue\n",
    "zip_df = zip_df.dropna()\n"
   ]
  },
  {
   "cell_type": "code",
   "execution_count": 57,
   "metadata": {
    "scrolled": true
   },
   "outputs": [
    {
     "data": {
      "text/html": [
       "<div>\n",
       "<style scoped>\n",
       "    .dataframe tbody tr th:only-of-type {\n",
       "        vertical-align: middle;\n",
       "    }\n",
       "\n",
       "    .dataframe tbody tr th {\n",
       "        vertical-align: top;\n",
       "    }\n",
       "\n",
       "    .dataframe thead th {\n",
       "        text-align: right;\n",
       "    }\n",
       "</style>\n",
       "<table border=\"1\" class=\"dataframe\">\n",
       "  <thead>\n",
       "    <tr style=\"text-align: right;\">\n",
       "      <th></th>\n",
       "      <th>zip</th>\n",
       "      <th>AQI</th>\n",
       "      <th>City</th>\n",
       "      <th>State</th>\n",
       "      <th>Latitude</th>\n",
       "      <th>Longitude</th>\n",
       "      <th>Timezone</th>\n",
       "      <th>Daylight savings time flag</th>\n",
       "    </tr>\n",
       "  </thead>\n",
       "  <tbody>\n",
       "    <tr>\n",
       "      <th>0</th>\n",
       "      <td>10001</td>\n",
       "      <td>44</td>\n",
       "      <td>New York</td>\n",
       "      <td>NY</td>\n",
       "      <td>40.750742</td>\n",
       "      <td>-73.99653</td>\n",
       "      <td>-5.0</td>\n",
       "      <td>1.0</td>\n",
       "    </tr>\n",
       "    <tr>\n",
       "      <th>1</th>\n",
       "      <td>10002</td>\n",
       "      <td>44</td>\n",
       "      <td>New York</td>\n",
       "      <td>NY</td>\n",
       "      <td>40.717040</td>\n",
       "      <td>-73.98700</td>\n",
       "      <td>-5.0</td>\n",
       "      <td>1.0</td>\n",
       "    </tr>\n",
       "    <tr>\n",
       "      <th>2</th>\n",
       "      <td>10003</td>\n",
       "      <td>44</td>\n",
       "      <td>New York</td>\n",
       "      <td>NY</td>\n",
       "      <td>40.732509</td>\n",
       "      <td>-73.98935</td>\n",
       "      <td>-5.0</td>\n",
       "      <td>1.0</td>\n",
       "    </tr>\n",
       "    <tr>\n",
       "      <th>4</th>\n",
       "      <td>10005</td>\n",
       "      <td>44</td>\n",
       "      <td>New York</td>\n",
       "      <td>NY</td>\n",
       "      <td>40.706019</td>\n",
       "      <td>-74.00858</td>\n",
       "      <td>-5.0</td>\n",
       "      <td>1.0</td>\n",
       "    </tr>\n",
       "    <tr>\n",
       "      <th>5</th>\n",
       "      <td>10006</td>\n",
       "      <td>44</td>\n",
       "      <td>New York</td>\n",
       "      <td>NY</td>\n",
       "      <td>40.707904</td>\n",
       "      <td>-74.01342</td>\n",
       "      <td>-5.0</td>\n",
       "      <td>1.0</td>\n",
       "    </tr>\n",
       "  </tbody>\n",
       "</table>\n",
       "</div>"
      ],
      "text/plain": [
       "     zip  AQI      City State   Latitude  Longitude  Timezone  \\\n",
       "0  10001   44  New York    NY  40.750742  -73.99653      -5.0   \n",
       "1  10002   44  New York    NY  40.717040  -73.98700      -5.0   \n",
       "2  10003   44  New York    NY  40.732509  -73.98935      -5.0   \n",
       "4  10005   44  New York    NY  40.706019  -74.00858      -5.0   \n",
       "5  10006   44  New York    NY  40.707904  -74.01342      -5.0   \n",
       "\n",
       "   Daylight savings time flag  \n",
       "0                         1.0  \n",
       "1                         1.0  \n",
       "2                         1.0  \n",
       "4                         1.0  \n",
       "5                         1.0  "
      ]
     },
     "execution_count": 57,
     "metadata": {},
     "output_type": "execute_result"
    }
   ],
   "source": [
    "# merge AQI and zip coordinates dataframes on zipcode\n",
    "new_aqi_df = pd.merge(aqi_mean_df, zip_df, on=['zip','zip'], how=\"left\")\n",
    "\n",
    "\n",
    "#take care of NaN velue\n",
    "new_aqi_df = new_aqi_df.dropna()\n",
    "new_aqi_df.head()"
   ]
  },
  {
   "cell_type": "code",
   "execution_count": 58,
   "metadata": {
    "scrolled": true
   },
   "outputs": [
    {
     "data": {
      "application/vnd.jupyter.widget-view+json": {
       "model_id": "e3e111bdbb3746229fca8a72ac1d4ef7",
       "version_major": 2,
       "version_minor": 0
      },
      "text/plain": [
       "Figure(layout=FigureLayout(height='420px'))"
      ]
     },
     "metadata": {},
     "output_type": "display_data"
    }
   ],
   "source": [
    "#creating a heat map to show AQI by zipcode\n",
    "\n",
    "fig = gmaps.figure(map_type=\"HYBRID\")\n",
    "\n",
    "#Plot Heatmap for AQI by zip code\n",
    "locations = new_aqi_df[[\"Latitude\", \"Longitude\"]].astype(float)\n",
    "aqi = new_aqi_df[\"AQI\"].astype(float)\n",
    "\n",
    "#create heat layer\n",
    "heat_layer = gmaps.heatmap_layer(locations, weights=aqi, \n",
    "                                  dissipating=False, max_intensity=500,                                  \n",
    "                                  point_radius=0.20)\n",
    "\n",
    "\n",
    "# Add layer to the map\n",
    "fig.add_layer(heat_layer)\n",
    "fig"
   ]
  },
  {
   "cell_type": "code",
   "execution_count": 55,
   "metadata": {
    "scrolled": true
   },
   "outputs": [
    {
     "data": {
      "text/html": [
       "<div>\n",
       "<style scoped>\n",
       "    .dataframe tbody tr th:only-of-type {\n",
       "        vertical-align: middle;\n",
       "    }\n",
       "\n",
       "    .dataframe tbody tr th {\n",
       "        vertical-align: top;\n",
       "    }\n",
       "\n",
       "    .dataframe thead th {\n",
       "        text-align: right;\n",
       "    }\n",
       "</style>\n",
       "<table border=\"1\" class=\"dataframe\">\n",
       "  <thead>\n",
       "    <tr style=\"text-align: right;\">\n",
       "      <th></th>\n",
       "      <th>AQI</th>\n",
       "    </tr>\n",
       "    <tr>\n",
       "      <th>zip</th>\n",
       "      <th></th>\n",
       "    </tr>\n",
       "  </thead>\n",
       "  <tbody>\n",
       "    <tr>\n",
       "      <th>10001</th>\n",
       "      <td>44</td>\n",
       "    </tr>\n",
       "    <tr>\n",
       "      <th>10002</th>\n",
       "      <td>44</td>\n",
       "    </tr>\n",
       "    <tr>\n",
       "      <th>10003</th>\n",
       "      <td>44</td>\n",
       "    </tr>\n",
       "    <tr>\n",
       "      <th>10005</th>\n",
       "      <td>44</td>\n",
       "    </tr>\n",
       "    <tr>\n",
       "      <th>10006</th>\n",
       "      <td>44</td>\n",
       "    </tr>\n",
       "  </tbody>\n",
       "</table>\n",
       "</div>"
      ],
      "text/plain": [
       "       AQI\n",
       "zip       \n",
       "10001   44\n",
       "10002   44\n",
       "10003   44\n",
       "10005   44\n",
       "10006   44"
      ]
     },
     "execution_count": 55,
     "metadata": {},
     "output_type": "execute_result"
    }
   ],
   "source": [
    "# Filter the DataFrame down only to those columns to chart\n",
    "AQI_and_Zip = new_aqi_df[[\"zip\",\"AQI\"]]\n",
    "\n",
    "# Set the index \n",
    "AQI_and_Zip = AQI_and_Zip.set_index(\"zip\")\n",
    "\n",
    "AQI_and_Zip.head()"
   ]
  },
  {
   "cell_type": "code",
   "execution_count": 53,
   "metadata": {
    "scrolled": true
   },
   "outputs": [
    {
     "data": {
      "image/png": "[encoded data removed]",
      "text/plain": [
       "<Figure size 2880x216 with 1 Axes>"
      ]
     },
     "metadata": {
      "needs_background": "light"
     },
     "output_type": "display_data"
    },
    {
     "data": {
      "text/plain": [
       "<Figure size 432x288 with 0 Axes>"
      ]
     },
     "metadata": {},
     "output_type": "display_data"
    }
   ],
   "source": [
    "# Use DataFrame.plot() in order to create a bar chart of the data\n",
    "AQI_and_Zip.plot(kind=\"bar\", figsize=(40,3))\n",
    "\n",
    "# Set a title for the chart\n",
    "plt.title(\"AQI Mean by Zipcode\")\n",
    "plt.xlabel(\"Zipcodes\")\n",
    "plt.ylabel(\"AQI Mean\")\n",
    "\n",
    "plt.show()\n",
    "plt.tight_layout()"
   ]
  },
  {
   "cell_type": "code",
   "execution_count": 54,
   "metadata": {},
   "outputs": [
    {
     "data": {
      "text/plain": [
       "<Figure size 432x288 with 0 Axes>"
      ]
     },
     "metadata": {},
     "output_type": "display_data"
    }
   ],
   "source": [
    "#save the chart\n",
    "plt.tight_layout()\n",
    "plt.savefig(\"Images/AQI_and_Zipcode.png\")\n",
    "plt.show()"
   ]
  },
  {
   "cell_type": "code",
   "execution_count": 21,
   "metadata": {},
   "outputs": [],
   "source": [
    "# AQI for year 2015\n",
    "AQI_df = pd.read_csv('Data/AQIndex.csv')\n",
    "AQI_df = AQI_df.dropna()\n",
    "aqi_group = AQI_df.groupby (\"Year\")\n",
    "aqi_2015_df = aqi_group.get_group (2015)\n"
   ]
  },
  {
   "cell_type": "code",
   "execution_count": 22,
   "metadata": {},
   "outputs": [],
   "source": [
    "# introducing coordinates for AQI zipcodes\n",
    "zip_df = pd.read_csv('Data/us-zip-code-latitude-and-longitude.csv')\n",
    "zip_df = zip_df.rename (columns = {\"Zip\" : \"zip\"})\n",
    "\n",
    "#take care of NaN velue\n",
    "zip_df = zip_df.dropna()"
   ]
  },
  {
   "cell_type": "code",
   "execution_count": 23,
   "metadata": {},
   "outputs": [
    {
     "data": {
      "text/html": [
       "<div>\n",
       "<style scoped>\n",
       "    .dataframe tbody tr th:only-of-type {\n",
       "        vertical-align: middle;\n",
       "    }\n",
       "\n",
       "    .dataframe tbody tr th {\n",
       "        vertical-align: top;\n",
       "    }\n",
       "\n",
       "    .dataframe thead th {\n",
       "        text-align: right;\n",
       "    }\n",
       "</style>\n",
       "<table border=\"1\" class=\"dataframe\">\n",
       "  <thead>\n",
       "    <tr style=\"text-align: right;\">\n",
       "      <th></th>\n",
       "      <th>Unnamed: 0</th>\n",
       "      <th>zip</th>\n",
       "      <th>AQI</th>\n",
       "      <th>Category Number</th>\n",
       "      <th>Category Name</th>\n",
       "      <th>Pollutant</th>\n",
       "      <th>Year</th>\n",
       "      <th>City</th>\n",
       "      <th>State</th>\n",
       "      <th>Latitude</th>\n",
       "      <th>Longitude</th>\n",
       "      <th>Timezone</th>\n",
       "      <th>Daylight savings time flag</th>\n",
       "    </tr>\n",
       "  </thead>\n",
       "  <tbody>\n",
       "    <tr>\n",
       "      <th>0</th>\n",
       "      <td>1563</td>\n",
       "      <td>12032</td>\n",
       "      <td>44</td>\n",
       "      <td>1</td>\n",
       "      <td>Good</td>\n",
       "      <td>OZONE</td>\n",
       "      <td>2015</td>\n",
       "      <td>Caroga Lake</td>\n",
       "      <td>NY</td>\n",
       "      <td>43.158567</td>\n",
       "      <td>-74.49646</td>\n",
       "      <td>-5.0</td>\n",
       "      <td>1.0</td>\n",
       "    </tr>\n",
       "    <tr>\n",
       "      <th>1</th>\n",
       "      <td>1564</td>\n",
       "      <td>12108</td>\n",
       "      <td>44</td>\n",
       "      <td>1</td>\n",
       "      <td>Good</td>\n",
       "      <td>OZONE</td>\n",
       "      <td>2015</td>\n",
       "      <td>Lake Pleasant</td>\n",
       "      <td>NY</td>\n",
       "      <td>43.525388</td>\n",
       "      <td>-74.40875</td>\n",
       "      <td>-5.0</td>\n",
       "      <td>1.0</td>\n",
       "    </tr>\n",
       "    <tr>\n",
       "      <th>2</th>\n",
       "      <td>1565</td>\n",
       "      <td>12134</td>\n",
       "      <td>44</td>\n",
       "      <td>1</td>\n",
       "      <td>Good</td>\n",
       "      <td>OZONE</td>\n",
       "      <td>2015</td>\n",
       "      <td>Northville</td>\n",
       "      <td>NY</td>\n",
       "      <td>43.218920</td>\n",
       "      <td>-74.14822</td>\n",
       "      <td>-5.0</td>\n",
       "      <td>1.0</td>\n",
       "    </tr>\n",
       "    <tr>\n",
       "      <th>3</th>\n",
       "      <td>1566</td>\n",
       "      <td>12139</td>\n",
       "      <td>44</td>\n",
       "      <td>1</td>\n",
       "      <td>Good</td>\n",
       "      <td>OZONE</td>\n",
       "      <td>2015</td>\n",
       "      <td>Piseco</td>\n",
       "      <td>NY</td>\n",
       "      <td>43.402760</td>\n",
       "      <td>-74.56972</td>\n",
       "      <td>-5.0</td>\n",
       "      <td>1.0</td>\n",
       "    </tr>\n",
       "    <tr>\n",
       "      <th>4</th>\n",
       "      <td>1567</td>\n",
       "      <td>12164</td>\n",
       "      <td>44</td>\n",
       "      <td>1</td>\n",
       "      <td>Good</td>\n",
       "      <td>OZONE</td>\n",
       "      <td>2015</td>\n",
       "      <td>Speculator</td>\n",
       "      <td>NY</td>\n",
       "      <td>43.515611</td>\n",
       "      <td>-74.37431</td>\n",
       "      <td>-5.0</td>\n",
       "      <td>1.0</td>\n",
       "    </tr>\n",
       "  </tbody>\n",
       "</table>\n",
       "</div>"
      ],
      "text/plain": [
       "   Unnamed: 0    zip  AQI  Category Number Category Name Pollutant  Year  \\\n",
       "0        1563  12032   44                1          Good     OZONE  2015   \n",
       "1        1564  12108   44                1          Good     OZONE  2015   \n",
       "2        1565  12134   44                1          Good     OZONE  2015   \n",
       "3        1566  12139   44                1          Good     OZONE  2015   \n",
       "4        1567  12164   44                1          Good     OZONE  2015   \n",
       "\n",
       "            City State   Latitude  Longitude  Timezone  \\\n",
       "0    Caroga Lake    NY  43.158567  -74.49646      -5.0   \n",
       "1  Lake Pleasant    NY  43.525388  -74.40875      -5.0   \n",
       "2     Northville    NY  43.218920  -74.14822      -5.0   \n",
       "3         Piseco    NY  43.402760  -74.56972      -5.0   \n",
       "4     Speculator    NY  43.515611  -74.37431      -5.0   \n",
       "\n",
       "   Daylight savings time flag  \n",
       "0                         1.0  \n",
       "1                         1.0  \n",
       "2                         1.0  \n",
       "3                         1.0  \n",
       "4                         1.0  "
      ]
     },
     "execution_count": 23,
     "metadata": {},
     "output_type": "execute_result"
    }
   ],
   "source": [
    "#merging both dataframes\n",
    "# merge AQI and zip coordinates dataframes on zipcode\n",
    "new_aqi_2015_df = pd.merge(aqi_2015_df, zip_df, on=['zip','zip'], how=\"left\")\n",
    "\n",
    "\n",
    "#take care of NaN velue\n",
    "new_aqi_2015_df = new_aqi_2015_df.dropna()\n",
    "new_aqi_2015_df.head()"
   ]
  },
  {
   "cell_type": "code",
   "execution_count": 24,
   "metadata": {},
   "outputs": [
    {
     "data": {
      "application/vnd.jupyter.widget-view+json": {
       "model_id": "a04f75d0a106454ba504102a6b52956b",
       "version_major": 2,
       "version_minor": 0
      },
      "text/plain": [
       "Figure(layout=FigureLayout(height='420px'))"
      ]
     },
     "metadata": {},
     "output_type": "display_data"
    }
   ],
   "source": [
    "fig = gmaps.figure(map_type=\"HYBRID\")\n",
    "\n",
    "#Plot Heatmap for AQI by zip code\n",
    "locations = new_aqi_2015_df[[\"Latitude\", \"Longitude\"]]\n",
    "aqi = new_aqi_2015_df[\"AQI\"].astype(float)\n",
    "\n",
    "#create heat layer\n",
    "heat_layer = gmaps.heatmap_layer(locations, weights=aqi, \n",
    "                                  dissipating=False, max_intensity=500,                                  \n",
    "                                  point_radius=0.20)\n",
    "\n",
    "\n",
    "# Add layer to the map\n",
    "fig.add_layer(heat_layer)\n",
    "fig"
   ]
  },
  {
   "cell_type": "code",
   "execution_count": 25,
   "metadata": {},
   "outputs": [],
   "source": [
    "# AQI for year 2020\n",
    "AQI_df = pd.read_csv('Data/AQIndex.csv')\n",
    "AQI_df = AQI_df.dropna()\n",
    "aqi_group = AQI_df.groupby (\"Year\")\n",
    "aqi_2020_df = aqi_group.get_group (2020)"
   ]
  },
  {
   "cell_type": "code",
   "execution_count": 26,
   "metadata": {},
   "outputs": [],
   "source": [
    "# introducing coordinates for AQI zipcodes\n",
    "zip_df = pd.read_csv('Data/us-zip-code-latitude-and-longitude.csv')\n",
    "zip_df = zip_df.rename (columns = {\"Zip\" : \"zip\"})\n",
    "\n",
    "#take care of NaN velue\n",
    "zip_df = zip_df.dropna()"
   ]
  },
  {
   "cell_type": "code",
   "execution_count": 27,
   "metadata": {},
   "outputs": [
    {
     "data": {
      "text/html": [
       "<div>\n",
       "<style scoped>\n",
       "    .dataframe tbody tr th:only-of-type {\n",
       "        vertical-align: middle;\n",
       "    }\n",
       "\n",
       "    .dataframe tbody tr th {\n",
       "        vertical-align: top;\n",
       "    }\n",
       "\n",
       "    .dataframe thead th {\n",
       "        text-align: right;\n",
       "    }\n",
       "</style>\n",
       "<table border=\"1\" class=\"dataframe\">\n",
       "  <thead>\n",
       "    <tr style=\"text-align: right;\">\n",
       "      <th></th>\n",
       "      <th>Unnamed: 0</th>\n",
       "      <th>zip</th>\n",
       "      <th>AQI</th>\n",
       "      <th>Category Number</th>\n",
       "      <th>Category Name</th>\n",
       "      <th>Pollutant</th>\n",
       "      <th>Year</th>\n",
       "      <th>City</th>\n",
       "      <th>State</th>\n",
       "      <th>Latitude</th>\n",
       "      <th>Longitude</th>\n",
       "      <th>Timezone</th>\n",
       "      <th>Daylight savings time flag</th>\n",
       "    </tr>\n",
       "  </thead>\n",
       "  <tbody>\n",
       "    <tr>\n",
       "      <th>0</th>\n",
       "      <td>3126</td>\n",
       "      <td>12032</td>\n",
       "      <td>42</td>\n",
       "      <td>1</td>\n",
       "      <td>Good</td>\n",
       "      <td>OZONE</td>\n",
       "      <td>2020</td>\n",
       "      <td>Caroga Lake</td>\n",
       "      <td>NY</td>\n",
       "      <td>43.158567</td>\n",
       "      <td>-74.49646</td>\n",
       "      <td>-5.0</td>\n",
       "      <td>1.0</td>\n",
       "    </tr>\n",
       "    <tr>\n",
       "      <th>1</th>\n",
       "      <td>3127</td>\n",
       "      <td>12108</td>\n",
       "      <td>42</td>\n",
       "      <td>1</td>\n",
       "      <td>Good</td>\n",
       "      <td>OZONE</td>\n",
       "      <td>2020</td>\n",
       "      <td>Lake Pleasant</td>\n",
       "      <td>NY</td>\n",
       "      <td>43.525388</td>\n",
       "      <td>-74.40875</td>\n",
       "      <td>-5.0</td>\n",
       "      <td>1.0</td>\n",
       "    </tr>\n",
       "    <tr>\n",
       "      <th>2</th>\n",
       "      <td>3128</td>\n",
       "      <td>12134</td>\n",
       "      <td>42</td>\n",
       "      <td>1</td>\n",
       "      <td>Good</td>\n",
       "      <td>OZONE</td>\n",
       "      <td>2020</td>\n",
       "      <td>Northville</td>\n",
       "      <td>NY</td>\n",
       "      <td>43.218920</td>\n",
       "      <td>-74.14822</td>\n",
       "      <td>-5.0</td>\n",
       "      <td>1.0</td>\n",
       "    </tr>\n",
       "    <tr>\n",
       "      <th>3</th>\n",
       "      <td>3129</td>\n",
       "      <td>12139</td>\n",
       "      <td>42</td>\n",
       "      <td>1</td>\n",
       "      <td>Good</td>\n",
       "      <td>OZONE</td>\n",
       "      <td>2020</td>\n",
       "      <td>Piseco</td>\n",
       "      <td>NY</td>\n",
       "      <td>43.402760</td>\n",
       "      <td>-74.56972</td>\n",
       "      <td>-5.0</td>\n",
       "      <td>1.0</td>\n",
       "    </tr>\n",
       "    <tr>\n",
       "      <th>4</th>\n",
       "      <td>3130</td>\n",
       "      <td>12164</td>\n",
       "      <td>42</td>\n",
       "      <td>1</td>\n",
       "      <td>Good</td>\n",
       "      <td>OZONE</td>\n",
       "      <td>2020</td>\n",
       "      <td>Speculator</td>\n",
       "      <td>NY</td>\n",
       "      <td>43.515611</td>\n",
       "      <td>-74.37431</td>\n",
       "      <td>-5.0</td>\n",
       "      <td>1.0</td>\n",
       "    </tr>\n",
       "  </tbody>\n",
       "</table>\n",
       "</div>"
      ],
      "text/plain": [
       "   Unnamed: 0    zip  AQI  Category Number Category Name Pollutant  Year  \\\n",
       "0        3126  12032   42                1          Good     OZONE  2020   \n",
       "1        3127  12108   42                1          Good     OZONE  2020   \n",
       "2        3128  12134   42                1          Good     OZONE  2020   \n",
       "3        3129  12139   42                1          Good     OZONE  2020   \n",
       "4        3130  12164   42                1          Good     OZONE  2020   \n",
       "\n",
       "            City State   Latitude  Longitude  Timezone  \\\n",
       "0    Caroga Lake    NY  43.158567  -74.49646      -5.0   \n",
       "1  Lake Pleasant    NY  43.525388  -74.40875      -5.0   \n",
       "2     Northville    NY  43.218920  -74.14822      -5.0   \n",
       "3         Piseco    NY  43.402760  -74.56972      -5.0   \n",
       "4     Speculator    NY  43.515611  -74.37431      -5.0   \n",
       "\n",
       "   Daylight savings time flag  \n",
       "0                         1.0  \n",
       "1                         1.0  \n",
       "2                         1.0  \n",
       "3                         1.0  \n",
       "4                         1.0  "
      ]
     },
     "execution_count": 27,
     "metadata": {},
     "output_type": "execute_result"
    }
   ],
   "source": [
    "#merging both dataframes\n",
    "# merge AQI and zip coordinates dataframes on zipcode\n",
    "new_aqi_2020_df = pd.merge(aqi_2020_df, zip_df, on=['zip','zip'], how=\"left\")\n",
    "\n",
    "\n",
    "#take care of NaN velue\n",
    "new_aqi_2020_df = new_aqi_2020_df.dropna()\n",
    "new_aqi_2020_df.head()"
   ]
  },
  {
   "cell_type": "code",
   "execution_count": 28,
   "metadata": {
    "scrolled": true
   },
   "outputs": [
    {
     "data": {
      "application/vnd.jupyter.widget-view+json": {
       "model_id": "584e314ff17a4b00b3cf92d4958b264d",
       "version_major": 2,
       "version_minor": 0
      },
      "text/plain": [
       "Figure(layout=FigureLayout(height='420px'))"
      ]
     },
     "metadata": {},
     "output_type": "display_data"
    }
   ],
   "source": [
    "fig = gmaps.figure(map_type=\"HYBRID\")\n",
    "\n",
    "#Plot Heatmap for AQI by zip code\n",
    "locations = new_aqi_2020_df[[\"Latitude\", \"Longitude\"]]\n",
    "aqi = new_aqi_2020_df[\"AQI\"].astype(float)\n",
    "\n",
    "#create heat layer\n",
    "heat_layer = gmaps.heatmap_layer(locations, weights=aqi, \n",
    "                                  dissipating=False, max_intensity=500,                                  \n",
    "                                  point_radius=0.20)\n",
    "\n",
    "\n",
    "# Add layer to the map\n",
    "fig.add_layer(heat_layer)\n",
    "fig"
   ]
  },
  {
   "cell_type": "code",
   "execution_count": null,
   "metadata": {},
   "outputs": [],
   "source": []
  },
  {
   "cell_type": "code",
   "execution_count": null,
   "metadata": {},
   "outputs": [],
   "source": []
  }
 ],
 "metadata": {
  "kernelspec": {
   "display_name": "Python 3",
   "language": "python",
   "name": "python3"
  },
  "language_info": {
   "codemirror_mode": {
    "name": "ipython",
    "version": 3
   },
   "file_extension": ".py",
   "mimetype": "text/x-python",
   "name": "python",
   "nbconvert_exporter": "python",
   "pygments_lexer": "ipython3",
   "version": "3.8.3"
  }
 },
 "nbformat": 4,
 "nbformat_minor": 4
}
