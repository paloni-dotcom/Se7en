{
 "cells": [
  {
   "cell_type": "code",
   "execution_count": 1,
   "metadata": {},
   "outputs": [],
   "source": [
    "import pandas as pd\n",
    "import requests\n",
    "\n",
    "# get the API key for AirNow\n",
    "from api_keys import aqi_api_key\n"
   ]
  },
  {
   "cell_type": "code",
   "execution_count": 9,
   "metadata": {},
   "outputs": [],
   "source": [
    "# function which accepts zipcode and year(yyyy) snd returns the Air Quality Index(AQI)\n",
    "def AirQualityIndex(zipcode, year):\n",
    "    \n",
    "    # import the New York State zipcode with reporting agencies\n",
    "    newyork_cities_df = pd.read_csv(\"newyork_cities.csv\")\n",
    "    \n",
    "    # check if the zipcode exists in newyork_cities_df\n",
    "    ny_zipcode = newyork_cities_df.loc[newyork_cities_df['Zipcode'] == zipcode]\n",
    "    \n",
    "    if len(ny_zipcode) == 1:\n",
    "\n",
    "        # url for AirNow API to retrieve Air Quality Index\n",
    "        aqi_url = f\"https://www.airnowapi.org/aq/observation/zipCode/historical/?format=application/json&zipCode={zipcode}&date={year}-06-06T00-0000&distance=25&API_KEY={aqi_api_key}\"\n",
    "        aqi_data = requests.get(aqi_url).json()\n",
    "        \n",
    "        # check if there is any data returned\n",
    "        try:\n",
    "            air_quality_index = aqi_data[0]['AQI']\n",
    "        except:\n",
    "            air_quality_index = \"null\"\n",
    "    else:\n",
    "        air_quality_index = \"null\"\n",
    "    return air_quality_index\n",
    "\n"
   ]
  },
  {
   "cell_type": "code",
   "execution_count": null,
   "metadata": {
    "scrolled": false
   },
   "outputs": [],
   "source": []
  },
  {
   "cell_type": "code",
   "execution_count": null,
   "metadata": {},
   "outputs": [],
   "source": []
  }
 ],
 "metadata": {
  "kernelspec": {
   "display_name": "Python 3",
   "language": "python",
   "name": "python3"
  },
  "language_info": {
   "codemirror_mode": {
    "name": "ipython",
    "version": 3
   },
   "file_extension": ".py",
   "mimetype": "text/x-python",
   "name": "python",
   "nbconvert_exporter": "python",
   "pygments_lexer": "ipython3",
   "version": "3.6.10"
  }
 },
 "nbformat": 4,
 "nbformat_minor": 4
}
