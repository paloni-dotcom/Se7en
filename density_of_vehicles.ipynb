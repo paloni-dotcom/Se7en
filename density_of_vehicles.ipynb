{
 "cells": [
  {
   "cell_type": "code",
   "execution_count": 5,
   "metadata": {},
   "outputs": [],
   "source": [
    "#dependencies\n",
    "import pandas as pd\n",
    "import matplotlib.pyplot as plt\n",
    "import scipy as st\n",
    "import numpy as np\n",
    "from scipy.stats import linregress\n",
    "import gmaps\n",
    "from api_keys import gkey\n"
   ]
  },
  {
   "cell_type": "code",
   "execution_count": 8,
   "metadata": {},
   "outputs": [
    {
     "data": {
      "text/html": [
       "<div>\n",
       "<style scoped>\n",
       "    .dataframe tbody tr th:only-of-type {\n",
       "        vertical-align: middle;\n",
       "    }\n",
       "\n",
       "    .dataframe tbody tr th {\n",
       "        vertical-align: top;\n",
       "    }\n",
       "\n",
       "    .dataframe thead th {\n",
       "        text-align: right;\n",
       "    }\n",
       "</style>\n",
       "<table border=\"1\" class=\"dataframe\">\n",
       "  <thead>\n",
       "    <tr style=\"text-align: right;\">\n",
       "      <th></th>\n",
       "      <th>vin</th>\n",
       "      <th>registration_class</th>\n",
       "      <th>zip</th>\n",
       "      <th>model_year</th>\n",
       "      <th>body_type</th>\n",
       "      <th>fuel_type</th>\n",
       "    </tr>\n",
       "  </thead>\n",
       "  <tbody>\n",
       "    <tr>\n",
       "      <th>0</th>\n",
       "      <td>999407G3573</td>\n",
       "      <td>PAS</td>\n",
       "      <td>12866</td>\n",
       "      <td>1976</td>\n",
       "      <td>SUBN</td>\n",
       "      <td>GAS</td>\n",
       "    </tr>\n",
       "    <tr>\n",
       "      <th>1</th>\n",
       "      <td>9992313</td>\n",
       "      <td>PAS</td>\n",
       "      <td>13316</td>\n",
       "      <td>1924</td>\n",
       "      <td>CONV</td>\n",
       "      <td>GAS</td>\n",
       "    </tr>\n",
       "    <tr>\n",
       "      <th>2</th>\n",
       "      <td>998867</td>\n",
       "      <td>PAS</td>\n",
       "      <td>11501</td>\n",
       "      <td>1952</td>\n",
       "      <td>2DSD</td>\n",
       "      <td>GAS</td>\n",
       "    </tr>\n",
       "    <tr>\n",
       "      <th>3</th>\n",
       "      <td>9983692</td>\n",
       "      <td>PAS</td>\n",
       "      <td>10940</td>\n",
       "      <td>1936</td>\n",
       "      <td>2DSD</td>\n",
       "      <td>GAS</td>\n",
       "    </tr>\n",
       "    <tr>\n",
       "      <th>4</th>\n",
       "      <td>99782010525</td>\n",
       "      <td>PAS</td>\n",
       "      <td>11225</td>\n",
       "      <td>1978</td>\n",
       "      <td>2DSD</td>\n",
       "      <td>GAS</td>\n",
       "    </tr>\n",
       "  </tbody>\n",
       "</table>\n",
       "</div>"
      ],
      "text/plain": [
       "                 vin registration_class    zip  model_year body_type fuel_type\n",
       "0  999407G3573                      PAS  12866        1976      SUBN  GAS     \n",
       "1  9992313                          PAS  13316        1924      CONV  GAS     \n",
       "2  998867                           PAS  11501        1952      2DSD  GAS     \n",
       "3  9983692                          PAS  10940        1936      2DSD  GAS     \n",
       "4  99782010525                      PAS  11225        1978      2DSD  GAS     "
      ]
     },
     "execution_count": 8,
     "metadata": {},
     "output_type": "execute_result"
    }
   ],
   "source": [
    "#import vechicle data\n",
    "vehicle_data = pd.read_csv(\"Data/vehicle_data.csv.gz\",\n",
    "               compression=\"gzip\")\n",
    "\n",
    "vehicle_data.head()"
   ]
  },
  {
   "cell_type": "code",
   "execution_count": 9,
   "metadata": {},
   "outputs": [
    {
     "data": {
      "text/html": [
       "<div>\n",
       "<style scoped>\n",
       "    .dataframe tbody tr th:only-of-type {\n",
       "        vertical-align: middle;\n",
       "    }\n",
       "\n",
       "    .dataframe tbody tr th {\n",
       "        vertical-align: top;\n",
       "    }\n",
       "\n",
       "    .dataframe thead th {\n",
       "        text-align: right;\n",
       "    }\n",
       "</style>\n",
       "<table border=\"1\" class=\"dataframe\">\n",
       "  <thead>\n",
       "    <tr style=\"text-align: right;\">\n",
       "      <th></th>\n",
       "      <th>Unnamed: 0.1</th>\n",
       "      <th>zip</th>\n",
       "      <th>AQI</th>\n",
       "      <th>Category Number</th>\n",
       "      <th>Category Name</th>\n",
       "      <th>Pollutant</th>\n",
       "      <th>Year</th>\n",
       "    </tr>\n",
       "  </thead>\n",
       "  <tbody>\n",
       "    <tr>\n",
       "      <th>0</th>\n",
       "      <td>0.0</td>\n",
       "      <td>12032</td>\n",
       "      <td>90</td>\n",
       "      <td>2</td>\n",
       "      <td>Moderate</td>\n",
       "      <td>OZONE</td>\n",
       "      <td>2009</td>\n",
       "    </tr>\n",
       "    <tr>\n",
       "      <th>1</th>\n",
       "      <td>1.0</td>\n",
       "      <td>12108</td>\n",
       "      <td>90</td>\n",
       "      <td>2</td>\n",
       "      <td>Moderate</td>\n",
       "      <td>OZONE</td>\n",
       "      <td>2009</td>\n",
       "    </tr>\n",
       "    <tr>\n",
       "      <th>2</th>\n",
       "      <td>2.0</td>\n",
       "      <td>12134</td>\n",
       "      <td>90</td>\n",
       "      <td>2</td>\n",
       "      <td>Moderate</td>\n",
       "      <td>OZONE</td>\n",
       "      <td>2009</td>\n",
       "    </tr>\n",
       "    <tr>\n",
       "      <th>3</th>\n",
       "      <td>3.0</td>\n",
       "      <td>12139</td>\n",
       "      <td>90</td>\n",
       "      <td>2</td>\n",
       "      <td>Moderate</td>\n",
       "      <td>OZONE</td>\n",
       "      <td>2009</td>\n",
       "    </tr>\n",
       "    <tr>\n",
       "      <th>4</th>\n",
       "      <td>4.0</td>\n",
       "      <td>12164</td>\n",
       "      <td>90</td>\n",
       "      <td>2</td>\n",
       "      <td>Moderate</td>\n",
       "      <td>OZONE</td>\n",
       "      <td>2009</td>\n",
       "    </tr>\n",
       "  </tbody>\n",
       "</table>\n",
       "</div>"
      ],
      "text/plain": [
       "   Unnamed: 0.1    zip  AQI  Category Number Category Name Pollutant  Year\n",
       "0           0.0  12032   90                2      Moderate     OZONE  2009\n",
       "1           1.0  12108   90                2      Moderate     OZONE  2009\n",
       "2           2.0  12134   90                2      Moderate     OZONE  2009\n",
       "3           3.0  12139   90                2      Moderate     OZONE  2009\n",
       "4           4.0  12164   90                2      Moderate     OZONE  2009"
      ]
     },
     "execution_count": 9,
     "metadata": {},
     "output_type": "execute_result"
    }
   ],
   "source": [
    "#import aqi data\n",
    "aqi_df = pd.read_csv(\"Data/AQIndex.csv\", index_col=0)\n",
    "aqi_df.head()"
   ]
  },
  {
   "cell_type": "code",
   "execution_count": 10,
   "metadata": {},
   "outputs": [
    {
     "data": {
      "text/html": [
       "<div>\n",
       "<style scoped>\n",
       "    .dataframe tbody tr th:only-of-type {\n",
       "        vertical-align: middle;\n",
       "    }\n",
       "\n",
       "    .dataframe tbody tr th {\n",
       "        vertical-align: top;\n",
       "    }\n",
       "\n",
       "    .dataframe thead th {\n",
       "        text-align: right;\n",
       "    }\n",
       "</style>\n",
       "<table border=\"1\" class=\"dataframe\">\n",
       "  <thead>\n",
       "    <tr style=\"text-align: right;\">\n",
       "      <th></th>\n",
       "      <th>Unnamed: 0.1</th>\n",
       "      <th>zip</th>\n",
       "      <th>AQI</th>\n",
       "      <th>Category Number</th>\n",
       "      <th>Category Name</th>\n",
       "      <th>Pollutant</th>\n",
       "      <th>Year</th>\n",
       "      <th>vin</th>\n",
       "      <th>registration_class</th>\n",
       "      <th>model_year</th>\n",
       "      <th>body_type</th>\n",
       "      <th>fuel_type</th>\n",
       "    </tr>\n",
       "  </thead>\n",
       "  <tbody>\n",
       "    <tr>\n",
       "      <th>0</th>\n",
       "      <td>2727.0</td>\n",
       "      <td>12032</td>\n",
       "      <td>44</td>\n",
       "      <td>1</td>\n",
       "      <td>Good</td>\n",
       "      <td>OZONE</td>\n",
       "      <td>2015</td>\n",
       "      <td>8T03C193065</td>\n",
       "      <td>PAS</td>\n",
       "      <td>1968.0</td>\n",
       "      <td>CONV</td>\n",
       "      <td>GAS</td>\n",
       "    </tr>\n",
       "    <tr>\n",
       "      <th>1</th>\n",
       "      <td>2727.0</td>\n",
       "      <td>12032</td>\n",
       "      <td>44</td>\n",
       "      <td>1</td>\n",
       "      <td>Good</td>\n",
       "      <td>OZONE</td>\n",
       "      <td>2015</td>\n",
       "      <td>8T01C214689</td>\n",
       "      <td>PAS</td>\n",
       "      <td>1968.0</td>\n",
       "      <td>2DSD</td>\n",
       "      <td>GAS</td>\n",
       "    </tr>\n",
       "    <tr>\n",
       "      <th>2</th>\n",
       "      <td>2727.0</td>\n",
       "      <td>12032</td>\n",
       "      <td>44</td>\n",
       "      <td>1</td>\n",
       "      <td>Good</td>\n",
       "      <td>OZONE</td>\n",
       "      <td>2015</td>\n",
       "      <td>7T03S242307</td>\n",
       "      <td>PAS</td>\n",
       "      <td>1967.0</td>\n",
       "      <td>CONV</td>\n",
       "      <td>GAS</td>\n",
       "    </tr>\n",
       "    <tr>\n",
       "      <th>3</th>\n",
       "      <td>2727.0</td>\n",
       "      <td>12032</td>\n",
       "      <td>44</td>\n",
       "      <td>1</td>\n",
       "      <td>Good</td>\n",
       "      <td>OZONE</td>\n",
       "      <td>2015</td>\n",
       "      <td>6MPCT01Z8P8644612</td>\n",
       "      <td>PAS</td>\n",
       "      <td>1993.0</td>\n",
       "      <td>CONV</td>\n",
       "      <td>GAS</td>\n",
       "    </tr>\n",
       "    <tr>\n",
       "      <th>4</th>\n",
       "      <td>2727.0</td>\n",
       "      <td>12032</td>\n",
       "      <td>44</td>\n",
       "      <td>1</td>\n",
       "      <td>Good</td>\n",
       "      <td>OZONE</td>\n",
       "      <td>2015</td>\n",
       "      <td>57548132568</td>\n",
       "      <td>PAS</td>\n",
       "      <td>1962.0</td>\n",
       "      <td>UTIL</td>\n",
       "      <td>GAS</td>\n",
       "    </tr>\n",
       "  </tbody>\n",
       "</table>\n",
       "</div>"
      ],
      "text/plain": [
       "   Unnamed: 0.1    zip  AQI  Category Number Category Name Pollutant  Year  \\\n",
       "0        2727.0  12032   44                1          Good     OZONE  2015   \n",
       "1        2727.0  12032   44                1          Good     OZONE  2015   \n",
       "2        2727.0  12032   44                1          Good     OZONE  2015   \n",
       "3        2727.0  12032   44                1          Good     OZONE  2015   \n",
       "4        2727.0  12032   44                1          Good     OZONE  2015   \n",
       "\n",
       "                 vin registration_class  model_year body_type fuel_type  \n",
       "0  8T03C193065                      PAS      1968.0      CONV  GAS       \n",
       "1  8T01C214689                      PAS      1968.0      2DSD  GAS       \n",
       "2  7T03S242307                      PAS      1967.0      CONV  GAS       \n",
       "3  6MPCT01Z8P8644612                PAS      1993.0      CONV  GAS       \n",
       "4  57548132568                      PAS      1962.0      UTIL  GAS       "
      ]
     },
     "execution_count": 10,
     "metadata": {},
     "output_type": "execute_result"
    }
   ],
   "source": [
    "#make merged vehicle and aqi data frames for each year\n",
    "#2009\n",
    "\n",
    "vehicle_09 = vehicle_data.loc[vehicle_data['model_year'].astype(int) <= 2009]\n",
    "aqi_group = aqi_df.groupby('Year')\n",
    "aqi_2009 = aqi_group.get_group(2009)\n",
    "aqi_2009\n",
    "\n",
    "vehicle_aqi_09 = pd.merge(aqi_2009, vehicle_09, on=['zip','zip'], how=\"left\" )\n",
    "vehicle_aqi_09\n",
    "\n",
    "#2020\n",
    "\n",
    "vehicle_20 = vehicle_data.loc[vehicle_data['model_year'].astype(int) <= 2020]\n",
    "aqi_group = aqi_df.groupby('Year')\n",
    "aqi_2020 = aqi_group.get_group(2020)\n",
    "aqi_2020\n",
    "\n",
    "vehicle_aqi_20 = pd.merge(aqi_2020, vehicle_20, on=['zip','zip'], how=\"left\" )\n",
    "vehicle_aqi_20\n",
    "\n",
    "#2015\n",
    "\n",
    "vehicle_15 = vehicle_data.loc[vehicle_data['model_year'].astype(int) <= 2015]\n",
    "aqi_group = aqi_df.groupby('Year')\n",
    "aqi_2015 = aqi_group.get_group(2015)\n",
    "aqi_2015\n",
    "\n",
    "vehicle_aqi_15 = pd.merge(aqi_2015, vehicle_15, on=['zip','zip'], how=\"left\" )\n",
    "vehicle_aqi_15.head()"
   ]
  },
  {
   "cell_type": "code",
   "execution_count": 6,
   "metadata": {},
   "outputs": [
    {
     "data": {
      "text/html": [
       "<div>\n",
       "<style scoped>\n",
       "    .dataframe tbody tr th:only-of-type {\n",
       "        vertical-align: middle;\n",
       "    }\n",
       "\n",
       "    .dataframe tbody tr th {\n",
       "        vertical-align: top;\n",
       "    }\n",
       "\n",
       "    .dataframe thead th {\n",
       "        text-align: right;\n",
       "    }\n",
       "</style>\n",
       "<table border=\"1\" class=\"dataframe\">\n",
       "  <thead>\n",
       "    <tr style=\"text-align: right;\">\n",
       "      <th></th>\n",
       "      <th>Zipcode</th>\n",
       "      <th>Number of Cars</th>\n",
       "      <th>AQI Mean</th>\n",
       "    </tr>\n",
       "  </thead>\n",
       "  <tbody>\n",
       "    <tr>\n",
       "      <th>0</th>\n",
       "      <td>10001</td>\n",
       "      <td>4402</td>\n",
       "      <td>64</td>\n",
       "    </tr>\n",
       "    <tr>\n",
       "      <th>1</th>\n",
       "      <td>10002</td>\n",
       "      <td>11137</td>\n",
       "      <td>64</td>\n",
       "    </tr>\n",
       "    <tr>\n",
       "      <th>2</th>\n",
       "      <td>10003</td>\n",
       "      <td>5451</td>\n",
       "      <td>64</td>\n",
       "    </tr>\n",
       "    <tr>\n",
       "      <th>3</th>\n",
       "      <td>10004</td>\n",
       "      <td>1078</td>\n",
       "      <td>64</td>\n",
       "    </tr>\n",
       "    <tr>\n",
       "      <th>4</th>\n",
       "      <td>10005</td>\n",
       "      <td>1029</td>\n",
       "      <td>64</td>\n",
       "    </tr>\n",
       "    <tr>\n",
       "      <th>...</th>\n",
       "      <td>...</td>\n",
       "      <td>...</td>\n",
       "      <td>...</td>\n",
       "    </tr>\n",
       "    <tr>\n",
       "      <th>1558</th>\n",
       "      <td>14898</td>\n",
       "      <td>797</td>\n",
       "      <td>45</td>\n",
       "    </tr>\n",
       "    <tr>\n",
       "      <th>1559</th>\n",
       "      <td>14901</td>\n",
       "      <td>6573</td>\n",
       "      <td>45</td>\n",
       "    </tr>\n",
       "    <tr>\n",
       "      <th>1560</th>\n",
       "      <td>14903</td>\n",
       "      <td>5202</td>\n",
       "      <td>45</td>\n",
       "    </tr>\n",
       "    <tr>\n",
       "      <th>1561</th>\n",
       "      <td>14904</td>\n",
       "      <td>8161</td>\n",
       "      <td>45</td>\n",
       "    </tr>\n",
       "    <tr>\n",
       "      <th>1562</th>\n",
       "      <td>14905</td>\n",
       "      <td>5492</td>\n",
       "      <td>45</td>\n",
       "    </tr>\n",
       "  </tbody>\n",
       "</table>\n",
       "<p>1563 rows × 3 columns</p>\n",
       "</div>"
      ],
      "text/plain": [
       "      Zipcode  Number of Cars  AQI Mean\n",
       "0       10001            4402        64\n",
       "1       10002           11137        64\n",
       "2       10003            5451        64\n",
       "3       10004            1078        64\n",
       "4       10005            1029        64\n",
       "...       ...             ...       ...\n",
       "1558    14898             797        45\n",
       "1559    14901            6573        45\n",
       "1560    14903            5202        45\n",
       "1561    14904            8161        45\n",
       "1562    14905            5492        45\n",
       "\n",
       "[1563 rows x 3 columns]"
      ]
     },
     "execution_count": 6,
     "metadata": {},
     "output_type": "execute_result"
    }
   ],
   "source": [
    "#count how many cars are in zipcode\n",
    "\n",
    "#2009 zipcode count\n",
    "cars_per_zip9 = vehicle_aqi_09.groupby('zip').agg({\"vin\": \"count\", \"AQI\": \"mean\"})\n",
    "cars_per_zip9 = cars_per_zip9.reset_index()\n",
    "cars_per_zip9.columns = ['Zipcode', 'Number of Cars', \"AQI Mean\"]\n",
    "\n",
    "#2020 zipcode count\n",
    "cars_per_zip20 = vehicle_aqi_20.groupby('zip').agg({\"vin\": \"count\", \"AQI\": \"mean\"})\n",
    "cars_per_zip20 = cars_per_zip20.reset_index()\n",
    "cars_per_zip20.columns = ['Zipcode', 'Number of Cars', \"AQI Mean\"]\n",
    "\n",
    "#2015 zipcode count\n",
    "cars_per_zip15 = vehicle_aqi_15.groupby('zip').agg({\"vin\": \"count\", \"AQI\": \"mean\"})\n",
    "cars_per_zip15 = cars_per_zip15.reset_index()\n",
    "cars_per_zip15.columns = ['Zipcode', 'Number of Cars', \"AQI Mean\"]\n",
    "\n",
    "cars_per_zip9\n",
    "cars_per_zip15\n",
    "cars_per_zip20"
   ]
  },
  {
   "cell_type": "code",
   "execution_count": 20,
   "metadata": {},
   "outputs": [
    {
     "name": "stdout",
     "output_type": "stream",
     "text": [
      "r-value = -0.30908174171411174\n",
      "r-squared value = 0.09553152306102888\n"
     ]
    },
    {
     "data": {
      "image/png": "[encoded data removed]",
      "text/plain": [
       "<Figure size 432x288 with 1 Axes>"
      ]
     },
     "metadata": {
      "needs_background": "light"
     },
     "output_type": "display_data"
    },
    {
     "name": "stdout",
     "output_type": "stream",
     "text": [
      "In 2009, there was no correlation between density of cars in a given area and Air Quality Index mean.\n"
     ]
    }
   ],
   "source": [
    "#scatter plot for each year\n",
    "#2009\n",
    "plt.scatter(cars_per_zip9[\"Number of Cars\"], cars_per_zip9['AQI Mean'], c='yellow', edgecolor='Black', s=45)\n",
    "plt.xlabel(\"Number of Cars per Zipcode\")\n",
    "plt.ylabel(\"AQI (mean)\")\n",
    "plt.title(\"NY Car Density and Average Air Quality Index 2009\")\n",
    "\n",
    "#plot line regress\n",
    "\n",
    "(slope, intercept, rvalue, pvalue, stderr) = linregress(cars_per_zip9['Number of Cars'], cars_per_zip9['AQI Mean'])\n",
    "regress_values = cars_per_zip9['Number of Cars'] * slope + intercept\n",
    "line_eq = \"y = \" + str(round(slope,2)) + \"x + \" + str(round(intercept,2))\n",
    "plt.plot(cars_per_zip9['Number of Cars'], regress_values, \"r-\")\n",
    "plt.annotate(line_eq,(20,48),fontsize=15,color=\"red\")\n",
    "print(f\"r-value = {rvalue}\")\n",
    "print(f\"r-squared value = {rvalue**2}\")\n",
    "\n",
    "plt.savefig('Images/DensityScatter2009.png')\n",
    "plt.show()\n",
    "\n",
    "\n",
    "print(\"In 2009, there was no correlation between density of cars in a given area and Air Quality Index mean.\")"
   ]
  },
  {
   "cell_type": "code",
   "execution_count": 21,
   "metadata": {},
   "outputs": [
    {
     "name": "stdout",
     "output_type": "stream",
     "text": [
      "r-value = -0.057518831079421226\n",
      "r-squared value = 0.003308415928742993\n"
     ]
    },
    {
     "data": {
      "image/png": "[encoded data removed]",
      "text/plain": [
       "<Figure size 432x288 with 1 Axes>"
      ]
     },
     "metadata": {
      "needs_background": "light"
     },
     "output_type": "display_data"
    },
    {
     "name": "stdout",
     "output_type": "stream",
     "text": [
      "In 2015, there was no correlation between density of cars in a given area and Air Quality Index mean.\n"
     ]
    }
   ],
   "source": [
    "#scatter and line regress for 2015\n",
    "\n",
    "plt.scatter(cars_per_zip15[\"Number of Cars\"], cars_per_zip15['AQI Mean'], c='Green', edgecolor='Black', s=45)\n",
    "plt.xlabel(\"Number of Cars per Zipcode\")\n",
    "plt.ylabel(\"AQI (mean)\")\n",
    "plt.title(\"NY Car Density and Average Air Quality Index 2015\")\n",
    "plt.show\n",
    "\n",
    "(slope, intercept, rvalue, pvalue, stderr) = linregress(cars_per_zip15['Number of Cars'], cars_per_zip15['AQI Mean'])\n",
    "regress_values = cars_per_zip15['Number of Cars'] * slope + intercept\n",
    "line_eq = \"y = \" + str(round(slope,2)) + \"x + \" + str(round(intercept,2))\n",
    "plt.plot(cars_per_zip15['Number of Cars'], regress_values, \"r-\")\n",
    "plt.annotate(line_eq,(10,41),fontsize=15,color=\"red\")\n",
    "print(f\"r-value = {rvalue}\")\n",
    "print(f\"r-squared value = {rvalue**2}\")\n",
    "\n",
    "plt.savefig('Images/DensityScatter2015.png')\n",
    "plt.show()\n",
    "\n",
    "\n",
    "print(\"In 2015, there was no correlation between density of cars in a given area and Air Quality Index mean.\")"
   ]
  },
  {
   "cell_type": "code",
   "execution_count": 23,
   "metadata": {},
   "outputs": [
    {
     "name": "stdout",
     "output_type": "stream",
     "text": [
      "r-value = 0.4244878607333054\n",
      "r-squared value = 0.1801899439099381\n"
     ]
    },
    {
     "data": {
      "image/png": "[encoded data removed]",
      "text/plain": [
       "<Figure size 432x288 with 1 Axes>"
      ]
     },
     "metadata": {
      "needs_background": "light"
     },
     "output_type": "display_data"
    },
    {
     "name": "stdout",
     "output_type": "stream",
     "text": [
      "In 2020, there is no correlation between density of cars in a given area and Air Quality Index mean.\n"
     ]
    }
   ],
   "source": [
    "#scatter and line regress for 2020\n",
    "plt.scatter(cars_per_zip20[\"Number of Cars\"], cars_per_zip20['AQI Mean'], c='yellowgreen', edgecolor='Black', s=45)\n",
    "plt.xlabel(\"Number of Cars per Zipcode\")\n",
    "plt.ylabel(\"AQI (mean)\")\n",
    "plt.title(\"NY Car Density and Average Air Quality Index 2020\")\n",
    "\n",
    "\n",
    "(slope, intercept, rvalue, pvalue, stderr) = linregress(cars_per_zip20['Number of Cars'], cars_per_zip20['AQI Mean'])\n",
    "regress_values = cars_per_zip20['Number of Cars'] * slope + intercept\n",
    "line_eq = \"y = \" + str(round(slope,2)) + \"x + \" + str(round(intercept,2))\n",
    "plt.plot(cars_per_zip20['Number of Cars'], regress_values, \"r-\")\n",
    "plt.annotate(line_eq,(10,61),fontsize=15,color=\"red\")\n",
    "print(f\"r-value = {rvalue}\")\n",
    "print(f\"r-squared value = {rvalue**2}\")\n",
    "\n",
    "plt.savefig('Images/DensityScatter2020.png')\n",
    "\n",
    "plt.show()\n",
    "\n",
    "print(\"In 2020, there is no correlation between density of cars in a given area and Air Quality Index mean.\")"
   ]
  },
  {
   "cell_type": "code",
   "execution_count": 22,
   "metadata": {},
   "outputs": [
    {
     "data": {
      "image/png": "[encoded data removed]",
      "text/plain": [
       "<Figure size 432x288 with 2 Axes>"
      ]
     },
     "metadata": {
      "needs_background": "light"
     },
     "output_type": "display_data"
    }
   ],
   "source": [
    "#NY Car Density vs. Median AQI bar chart with line\n",
    "\n",
    "x= (\"2009\", \"2015\", \"2020\")\n",
    "y= (cars_per_zip9['AQI Mean'].median(), cars_per_zip15['AQI Mean'].median(), cars_per_zip20['AQI Mean'].median())\n",
    "\n",
    "fig, ax1 = plt.subplots()\n",
    "y2= (cars_per_zip9['Number of Cars'].mean(), cars_per_zip15['Number of Cars'].mean(), cars_per_zip20['Number of Cars'].mean())\n",
    "\n",
    "ax1.bar(x,y, color=['yellow', 'green', 'yellowgreen'])\n",
    "ax2 = ax1.twinx()\n",
    "ax2.plot(x, y2, c=\"HotPink\", label=\"Car Density\")\n",
    "plt.legend(loc=\"upper center\")\n",
    "\n",
    "ax1.set_xlabel('Year')\n",
    "ax1.set_ylabel('AQI (median)')\n",
    "ax2.set_ylabel('Car Density (mean)')\n",
    "\n",
    "plt.title(\"NY Car Density vs. Median AQI\")\n",
    "\n",
    "plt.show\n",
    "\n",
    "plt.savefig('Images/Density_MedianAQI.png')"
   ]
  },
  {
   "cell_type": "code",
   "execution_count": 18,
   "metadata": {},
   "outputs": [
    {
     "name": "stdout",
     "output_type": "stream",
     "text": [
      "Based on our analysis, there is no correlation between density of cars in a given area and Air Quality Index.\n"
     ]
    }
   ],
   "source": [
    "print(\"Based on our analysis, there is no correlation between density of cars in a given area and Air Quality Index.\")"
   ]
  },
  {
   "cell_type": "code",
   "execution_count": 6,
   "metadata": {},
   "outputs": [],
   "source": [
    "#Create Heat Maps for Density\n",
    "\n",
    "# Access maps with unique API key\n",
    "gmaps.configure(api_key=gkey)"
   ]
  },
  {
   "cell_type": "code",
   "execution_count": 8,
   "metadata": {},
   "outputs": [],
   "source": [
    "#introducing zip code coordinates\n",
    "zip_df = pd.read_csv('Data/us-zip-code-latitude-and-longitude.csv')\n",
    "zip_df = zip_df.rename (columns = {\"Zip\" : \"zip\"})\n",
    "zip_df = zip_df.dropna()\n",
    "\n",
    "vehicle_df = pd.read_csv(\"Data/vehicle_data.csv.gz\", compression=\"gzip\")\n",
    "vehicle_df = vehicle_df.dropna()"
   ]
  },
  {
   "cell_type": "code",
   "execution_count": 11,
   "metadata": {},
   "outputs": [],
   "source": [
    "#creating dataframe for car's for selective years\n",
    "vehicle_year_df_09 = vehicle_df.loc[vehicle_df['model_year'].astype(int) <= 2009]\n",
    "vehicle_year_df_15 = vehicle_df.loc[vehicle_df['model_year'].astype(int) <= 2015]\n",
    "vehicle_year_df_20 = vehicle_df.loc[vehicle_df['model_year'].astype(int) <= 2020]\n",
    "\n",
    "#Merge by zip code coordinates to vehicle age mean dataframe\n",
    "\n",
    "#2009\n",
    "vehicle_2009_df = pd.merge(vehicle_year_df_09, zip_df, on=['zip','zip'], how=\"left\")\n",
    "vehicle_2009_df = vehicle_2009_df.dropna()\n",
    "\n",
    "#2015\n",
    "vehicle_2015_df = pd.merge(vehicle_year_df_15, zip_df, on=['zip','zip'], how=\"left\")\n",
    "vehicle_2015_df = vehicle_2015_df.dropna()\n",
    "\n",
    "#2020\n",
    "vehicle_2020_df = pd.merge(vehicle_year_df_20, zip_df, on=['zip','zip'], how=\"left\")\n",
    "vehicle_2020_df = vehicle_2020_df.dropna()"
   ]
  },
  {
   "cell_type": "code",
   "execution_count": 16,
   "metadata": {},
   "outputs": [],
   "source": [
    "# find mean of vehicle age by zip code\n",
    "#2009\n",
    "veh_number_09_df = vehicle_2009_df.groupby('zip').agg({'vin':'count'})\n",
    "veh_number_09_df = veh_number_09_df.reset_index()\n",
    "\n",
    "#2015\n",
    "veh_number_15_df = vehicle_2015_df.groupby('zip').agg({'vin':'count'})\n",
    "veh_number_15_df = veh_number_15_df.reset_index()\n",
    "\n",
    "#2020\n",
    "veh_number_20_df = vehicle_2020_df.groupby('zip').agg({'vin':'count'})\n",
    "veh_number_20_df = veh_number_20_df.reset_index()"
   ]
  },
  {
   "cell_type": "code",
   "execution_count": 17,
   "metadata": {},
   "outputs": [],
   "source": [
    "#add zip code coordinates\n",
    "#2009\n",
    "vehicle_09_df = pd.merge(veh_number_09_df, zip_df, on=['zip','zip'], how=\"left\")\n",
    "vehicle_09_df = vehicle_09_df.dropna()\n",
    "\n",
    "#2015\n",
    "vehicle_15_df = pd.merge(veh_number_15_df, zip_df, on=['zip','zip'], how=\"left\")\n",
    "vehicle_15_df = vehicle_15_df.dropna()\n",
    "\n",
    "#2020\n",
    "vehicle_20_df = pd.merge(veh_number_20_df, zip_df, on=['zip','zip'], how=\"left\")\n",
    "vehicle_20_df = vehicle_20_df.dropna()\n"
   ]
  },
  {
   "cell_type": "code",
   "execution_count": 18,
   "metadata": {},
   "outputs": [
    {
     "data": {
      "application/vnd.jupyter.widget-view+json": {
       "model_id": "5d70068eb056474ca1af15faf2036f1d",
       "version_major": 2,
       "version_minor": 0
      },
      "text/plain": [
       "Figure(layout=FigureLayout(height='420px'))"
      ]
     },
     "metadata": {},
     "output_type": "display_data"
    }
   ],
   "source": [
    "#2009 Vehicle Density Heatmap\n",
    "#Plot Heatmap for vehicle age by zip code\n",
    "locations = vehicle_09_df[[\"Latitude\", \"Longitude\"]].astype(float)\n",
    "vehicle_number = vehicle_09_df[\"vin\"].astype(float)\n",
    "\n",
    "#create heat layer for vehicle age by zip\n",
    "heat_layer = gmaps.heatmap_layer(locations, weights=vehicle_number, \n",
    "                                  dissipating=False, max_intensity=500,                                  \n",
    "                                  point_radius=0.05)\n",
    "fig = gmaps.figure(map_type=\"HYBRID\")\n",
    "fig.add_layer(heat_layer)\n",
    "fig"
   ]
  },
  {
   "cell_type": "code",
   "execution_count": 19,
   "metadata": {},
   "outputs": [
    {
     "data": {
      "application/vnd.jupyter.widget-view+json": {
       "model_id": "55f570e9d1ed41b19b5198da76765cbf",
       "version_major": 2,
       "version_minor": 0
      },
      "text/plain": [
       "Figure(layout=FigureLayout(height='420px'))"
      ]
     },
     "metadata": {},
     "output_type": "display_data"
    }
   ],
   "source": [
    "#2015 Vehicle Density Heatmap\n",
    "#Plot Heatmap for vehicle age by zip code\n",
    "locations = vehicle_15_df[[\"Latitude\", \"Longitude\"]].astype(float)\n",
    "vehicle_number = vehicle_15_df[\"vin\"].astype(float)\n",
    "\n",
    "#create heat layer for vehicle age by zip\n",
    "heat_layer = gmaps.heatmap_layer(locations, weights=vehicle_number, \n",
    "                                  dissipating=False, max_intensity=500,                                  \n",
    "                                  point_radius=0.05)\n",
    "fig = gmaps.figure(map_type=\"HYBRID\")\n",
    "fig.add_layer(heat_layer)\n",
    "fig"
   ]
  },
  {
   "cell_type": "code",
   "execution_count": 20,
   "metadata": {},
   "outputs": [
    {
     "data": {
      "application/vnd.jupyter.widget-view+json": {
       "model_id": "d23b4199423042c99b4e6dcbe3698bd1",
       "version_major": 2,
       "version_minor": 0
      },
      "text/plain": [
       "Figure(layout=FigureLayout(height='420px'))"
      ]
     },
     "metadata": {},
     "output_type": "display_data"
    }
   ],
   "source": [
    "#2020 Vehicle Density Heatmap\n",
    "#Plot Heatmap for vehicle age by zip code\n",
    "locations = vehicle_20_df[[\"Latitude\", \"Longitude\"]].astype(float)\n",
    "vehicle_number = vehicle_20_df[\"vin\"].astype(float)\n",
    "\n",
    "#create heat layer for vehicle age by zip\n",
    "heat_layer = gmaps.heatmap_layer(locations, weights=vehicle_number, \n",
    "                                  dissipating=False, max_intensity=500,                                  \n",
    "                                  point_radius=0.05)\n",
    "fig = gmaps.figure(map_type=\"HYBRID\")\n",
    "fig.add_layer(heat_layer)\n",
    "fig"
   ]
  },
  {
   "cell_type": "code",
   "execution_count": null,
   "metadata": {},
   "outputs": [],
   "source": []
  }
 ],
 "metadata": {
  "kernelspec": {
   "display_name": "Python 3",
   "language": "python",
   "name": "python3"
  },
  "language_info": {
   "codemirror_mode": {
    "name": "ipython",
    "version": 3
   },
   "file_extension": ".py",
   "mimetype": "text/x-python",
   "name": "python",
   "nbconvert_exporter": "python",
   "pygments_lexer": "ipython3",
   "version": "3.8.5"
  }
 },
 "nbformat": 4,
 "nbformat_minor": 4
}
