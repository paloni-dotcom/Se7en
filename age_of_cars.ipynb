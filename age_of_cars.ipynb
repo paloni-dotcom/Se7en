{
 "cells": [
  {
   "cell_type": "code",
   "execution_count": 16,
   "metadata": {},
   "outputs": [],
   "source": [
    "import pandas as pd\n",
    "import matplotlib.pyplot as plt\n",
    "import scipy.stats as st\n",
    "import numpy as np"
   ]
  },
  {
   "cell_type": "code",
   "execution_count": 17,
   "metadata": {},
   "outputs": [],
   "source": [
    "# function to add age column and merge the vehicle data frame with AQI dataframe\n",
    "\n",
    "# requires year\n",
    "# returns merged dataframe of vehicle data and AQI data \n",
    "\n",
    "def veh_aqi_merge(year):\n",
    "    \n",
    "    # get the vehicle database\n",
    "    vehicle_df = pd.read_csv(\"vehicle_data.csv.gz\", compression=\"gzip\")\n",
    "    vehicle_df.head()\n",
    "    \n",
    "    # create a dataframe for all vehicles up to given year\n",
    "    vehicle_year_df = vehicle_df.loc[vehicle_df['model_year'].astype(int) <= year]\n",
    "\n",
    "    # find the age of cars\n",
    "    veh_age = year - vehicle_year_df['model_year'].astype(int)\n",
    "\n",
    "    # create a new dataframe with an vehicle age column\n",
    "    new_vehicle_df = pd.DataFrame(vehicle_year_df)\n",
    "    new_vehicle_df['vehicle_age'] = veh_age\n",
    "    \n",
    "    # retrieve the AQI index for zipcodes in NY for given year\n",
    "    aqi_df_all = pd.read_csv(\"AQIndex.csv\", index_col=0)\n",
    "    \n",
    "    #group the data by year\n",
    "    aqi_group = aqi_df_all.groupby('Year')\n",
    "    \n",
    "    # retrieve the group for given year\n",
    "    aqi_df = aqi_group.get_group(year)\n",
    "\n",
    "    # merge the 2 dataframes on zipcode to get one dataframe \n",
    "    # with vehicles and AQI for corressponding zipcodes\n",
    "    vehicle_aqi_df = pd.merge(aqi_df, new_vehicle_df, on=['zip','zip'], how=\"left\" )\n",
    "\n",
    "    # returns merged dataframe\n",
    "    return (vehicle_aqi_df)"
   ]
  },
  {
   "cell_type": "code",
   "execution_count": 18,
   "metadata": {},
   "outputs": [],
   "source": [
    "# function to find the average AQI for age of vehicle\n",
    "\n",
    "# requires merged dataframe of vehicle data and AQI data \n",
    "# returns a dataframe with vehicle age and AQI\n",
    "\n",
    "def veh_age_aqi(vehicle_aqi_df):    \n",
    "    # group data by vehicle age and find mean of AQI\n",
    "    veh_age_df = vehicle_aqi_df.groupby('vehicle_age').agg({'AQI':'mean'})\n",
    "    veh_age_df = veh_age_df.reset_index()\n",
    "    \n",
    "    # return a dataframe with vehicle age and AQI\n",
    "    return (veh_age_df)\n"
   ]
  },
  {
   "cell_type": "code",
   "execution_count": 19,
   "metadata": {},
   "outputs": [],
   "source": [
    "# function to plot a scatter plot\n",
    "\n",
    "# requires year, x-values, y-values, Scatter plot title,\n",
    "# x-axis label, y-axis label, filename to store png\n",
    "\n",
    "def scatter_plot(x_values, y_values, title, x_label, y_label, file_name):\n",
    "    # Plot the scatter plot for given year\n",
    "    plt.figure(figsize=(8,6))\n",
    "    plt.scatter(x_values, y_values)\n",
    "\n",
    "    # Plot the linear regression model\n",
    "    (slope, intercept, rvalue, pvalue, stderr) = st.linregress(x_values, y_values)\n",
    "    regress_values = x_values * slope + intercept\n",
    "    line_eq = \"y = \" + str(round(slope,2)) + \"x + \" + str(round(intercept,2))\n",
    "    plt.plot(x_values, regress_values, \"r-\")\n",
    "    plt.annotate(line_eq, (min(x_values)+10, min(y_values)+10),fontsize=15,color=\"red\")\n",
    "\n",
    "    # Set the title and axis labels   \n",
    "    plt.title(title)\n",
    "    plt.xlabel(x_label)\n",
    "    plt.ylabel(y_label)\n",
    "\n",
    "    # Calculate the correlation coefficient\n",
    "    print(f\"The r-squared is: {rvalue**2}\")\n",
    "    \n",
    "    # save to file\n",
    "    plt.savefig(file_name, bbox_inches=\"tight\", pad_inches=.3)\n",
    "\n",
    "    plt.show()\n"
   ]
  },
  {
   "cell_type": "code",
   "execution_count": 20,
   "metadata": {},
   "outputs": [],
   "source": [
    "# function to plot a box plot\n",
    "\n",
    "# requires box-values, title, y-axis label, filename to store png\n",
    "\n",
    "def box_plot(y_values, title, y_label, file_name):\n",
    "    # Calculate quartiles, IQR, and identify potential outliers for given year\n",
    "    quartiles = y_values.quantile([.25,.5,.75])\n",
    "    lowerq = quartiles[0.25]\n",
    "    upperq = quartiles[0.75]\n",
    "    iqr = upperq-lowerq\n",
    "\n",
    "    print(f\"The lower quartile is: {lowerq}\")\n",
    "    print(f\"The upper quartile is: {upperq}\")\n",
    "    print(f\"The interquartile range of is: {iqr}\")\n",
    "    print(f\"The the median of is: {quartiles[0.5]} \")\n",
    "\n",
    "    # Determine outliers using upper and lower bounds\n",
    "    lower_bound = lowerq - (1.5*iqr)\n",
    "    upper_bound = upperq + (1.5*iqr)\n",
    "    print(f\"Values below {lower_bound} could be outliers.\")\n",
    "    print(f\"Values above {upper_bound} could be outliers.\")\n",
    "\n",
    "    fig1, ax1 = plt.subplots()\n",
    "    ax1.set_title(title)\n",
    "    ax1.set_ylabel(y_label)\n",
    "    ax1.boxplot(y_values)\n",
    "    \n",
    "    # save to file\n",
    "    plt.savefig(file_name, bbox_inches=\"tight\", pad_inches=.3)\n",
    "    \n",
    "    plt.show()\n",
    "    "
   ]
  },
  {
   "cell_type": "code",
   "execution_count": 21,
   "metadata": {},
   "outputs": [],
   "source": [
    "# function to plot a bar plot\n",
    "\n",
    "# requires dataframe, title, x-axis label, y-axis label, filename to store png\n",
    "\n",
    "def bar_chart(x_values, y_values, title, x_label, y_label, file_name):\n",
    "\n",
    "    # Set x axis\n",
    "    x_num = np.arange(len(x_values))\n",
    "\n",
    "    # Create the bar graph and set figure size to adjust for space\n",
    "    plt.figure(figsize=(15,6))\n",
    "    plt.bar(x_num, y_values, color=\"b\", align=\"center\", width=.5)\n",
    "\n",
    "    # Create a list indicating where to write x labels\n",
    "    tick_locations = [value for value in x_num]\n",
    "    plt.xticks(tick_locations, x_values, rotation=\"vertical\")\n",
    "\n",
    "    # Set x and y limits\n",
    "    plt.xlim(-.75, len(x_num)-0.25)\n",
    "    plt.ylim(0, y_values.max()+20)\n",
    "\n",
    "    # Set a Title and labels\n",
    "    plt.title(title)\n",
    "    plt.xlabel(x_label)\n",
    "    plt.ylabel(y_label)\n",
    "    \n",
    "    # save to file\n",
    "    plt.savefig(file_name, bbox_inches=\"tight\", pad_inches=.3)\n",
    "    \n",
    "    plt.show()\n"
   ]
  },
  {
   "cell_type": "code",
   "execution_count": 22,
   "metadata": {},
   "outputs": [],
   "source": [
    "# function to plot a multi box plot\n",
    "\n",
    "# requires group, title, y-axis label, filename to store png\n",
    "\n",
    "def mult_box_plot(x_values, y_list , title, y_label, file_name):\n",
    " \n",
    "    fig1, ax1 = plt.subplots()\n",
    "    ax1.set_title(title)\n",
    "    ax1.set_ylabel(y_label)\n",
    "    flierprops = dict(marker='o', markerfacecolor='r', markersize=12,\n",
    "                  linestyle='none', markeredgecolor='b')\n",
    "    bp = ax1.boxplot(x_values)\n",
    "\n",
    "    ax1.set_xticklabels(y_list)\n",
    "\n",
    "    # save to file\n",
    "    plt.savefig(file_name, bbox_inches=\"tight\", pad_inches=.3)\n",
    "\n",
    "    plt.show()\n"
   ]
  },
  {
   "cell_type": "code",
   "execution_count": 23,
   "metadata": {},
   "outputs": [
    {
     "data": {
      "text/html": [
       "<div>\n",
       "<style scoped>\n",
       "    .dataframe tbody tr th:only-of-type {\n",
       "        vertical-align: middle;\n",
       "    }\n",
       "\n",
       "    .dataframe tbody tr th {\n",
       "        vertical-align: top;\n",
       "    }\n",
       "\n",
       "    .dataframe thead th {\n",
       "        text-align: right;\n",
       "    }\n",
       "</style>\n",
       "<table border=\"1\" class=\"dataframe\">\n",
       "  <thead>\n",
       "    <tr style=\"text-align: right;\">\n",
       "      <th></th>\n",
       "      <th>zip</th>\n",
       "      <th>AQI</th>\n",
       "      <th>Category Number</th>\n",
       "      <th>Category Name</th>\n",
       "      <th>Pollutant</th>\n",
       "      <th>Year</th>\n",
       "      <th>vin</th>\n",
       "      <th>registration_class</th>\n",
       "      <th>model_year</th>\n",
       "      <th>body_type</th>\n",
       "      <th>fuel_type</th>\n",
       "      <th>vehicle_age</th>\n",
       "    </tr>\n",
       "  </thead>\n",
       "  <tbody>\n",
       "    <tr>\n",
       "      <th>0</th>\n",
       "      <td>12032</td>\n",
       "      <td>90</td>\n",
       "      <td>2</td>\n",
       "      <td>Moderate</td>\n",
       "      <td>OZONE</td>\n",
       "      <td>2009</td>\n",
       "      <td>8T03C193065</td>\n",
       "      <td>PAS</td>\n",
       "      <td>1968.0</td>\n",
       "      <td>CONV</td>\n",
       "      <td>GAS</td>\n",
       "      <td>41.0</td>\n",
       "    </tr>\n",
       "    <tr>\n",
       "      <th>1</th>\n",
       "      <td>12032</td>\n",
       "      <td>90</td>\n",
       "      <td>2</td>\n",
       "      <td>Moderate</td>\n",
       "      <td>OZONE</td>\n",
       "      <td>2009</td>\n",
       "      <td>8T01C214689</td>\n",
       "      <td>PAS</td>\n",
       "      <td>1968.0</td>\n",
       "      <td>2DSD</td>\n",
       "      <td>GAS</td>\n",
       "      <td>41.0</td>\n",
       "    </tr>\n",
       "    <tr>\n",
       "      <th>2</th>\n",
       "      <td>12032</td>\n",
       "      <td>90</td>\n",
       "      <td>2</td>\n",
       "      <td>Moderate</td>\n",
       "      <td>OZONE</td>\n",
       "      <td>2009</td>\n",
       "      <td>7T03S242307</td>\n",
       "      <td>PAS</td>\n",
       "      <td>1967.0</td>\n",
       "      <td>CONV</td>\n",
       "      <td>GAS</td>\n",
       "      <td>42.0</td>\n",
       "    </tr>\n",
       "    <tr>\n",
       "      <th>3</th>\n",
       "      <td>12032</td>\n",
       "      <td>90</td>\n",
       "      <td>2</td>\n",
       "      <td>Moderate</td>\n",
       "      <td>OZONE</td>\n",
       "      <td>2009</td>\n",
       "      <td>6MPCT01Z8P8644612</td>\n",
       "      <td>PAS</td>\n",
       "      <td>1993.0</td>\n",
       "      <td>CONV</td>\n",
       "      <td>GAS</td>\n",
       "      <td>16.0</td>\n",
       "    </tr>\n",
       "    <tr>\n",
       "      <th>4</th>\n",
       "      <td>12032</td>\n",
       "      <td>90</td>\n",
       "      <td>2</td>\n",
       "      <td>Moderate</td>\n",
       "      <td>OZONE</td>\n",
       "      <td>2009</td>\n",
       "      <td>57548132568</td>\n",
       "      <td>PAS</td>\n",
       "      <td>1962.0</td>\n",
       "      <td>UTIL</td>\n",
       "      <td>GAS</td>\n",
       "      <td>47.0</td>\n",
       "    </tr>\n",
       "  </tbody>\n",
       "</table>\n",
       "</div>"
      ],
      "text/plain": [
       "     zip  AQI  Category Number Category Name Pollutant  Year  \\\n",
       "0  12032   90                2      Moderate     OZONE  2009   \n",
       "1  12032   90                2      Moderate     OZONE  2009   \n",
       "2  12032   90                2      Moderate     OZONE  2009   \n",
       "3  12032   90                2      Moderate     OZONE  2009   \n",
       "4  12032   90                2      Moderate     OZONE  2009   \n",
       "\n",
       "                 vin registration_class  model_year body_type fuel_type  \\\n",
       "0  8T03C193065                      PAS      1968.0      CONV  GAS        \n",
       "1  8T01C214689                      PAS      1968.0      2DSD  GAS        \n",
       "2  7T03S242307                      PAS      1967.0      CONV  GAS        \n",
       "3  6MPCT01Z8P8644612                PAS      1993.0      CONV  GAS        \n",
       "4  57548132568                      PAS      1962.0      UTIL  GAS        \n",
       "\n",
       "   vehicle_age  \n",
       "0         41.0  \n",
       "1         41.0  \n",
       "2         42.0  \n",
       "3         16.0  \n",
       "4         47.0  "
      ]
     },
     "execution_count": 23,
     "metadata": {},
     "output_type": "execute_result"
    }
   ],
   "source": [
    "# for given year merge vehicle data and AQI data\n",
    "year = 2009\n",
    "veh_complete_df = veh_aqi_merge(year)\n",
    "veh_complete_df.head()"
   ]
  },
  {
   "cell_type": "code",
   "execution_count": 24,
   "metadata": {},
   "outputs": [
    {
     "data": {
      "text/html": [
       "<div>\n",
       "<style scoped>\n",
       "    .dataframe tbody tr th:only-of-type {\n",
       "        vertical-align: middle;\n",
       "    }\n",
       "\n",
       "    .dataframe tbody tr th {\n",
       "        vertical-align: top;\n",
       "    }\n",
       "\n",
       "    .dataframe thead th {\n",
       "        text-align: right;\n",
       "    }\n",
       "</style>\n",
       "<table border=\"1\" class=\"dataframe\">\n",
       "  <thead>\n",
       "    <tr style=\"text-align: right;\">\n",
       "      <th></th>\n",
       "      <th>vehicle_age</th>\n",
       "      <th>AQI</th>\n",
       "    </tr>\n",
       "  </thead>\n",
       "  <tbody>\n",
       "    <tr>\n",
       "      <th>0</th>\n",
       "      <td>0.0</td>\n",
       "      <td>61.468667</td>\n",
       "    </tr>\n",
       "    <tr>\n",
       "      <th>1</th>\n",
       "      <td>1.0</td>\n",
       "      <td>61.445482</td>\n",
       "    </tr>\n",
       "    <tr>\n",
       "      <th>2</th>\n",
       "      <td>2.0</td>\n",
       "      <td>60.655640</td>\n",
       "    </tr>\n",
       "    <tr>\n",
       "      <th>3</th>\n",
       "      <td>3.0</td>\n",
       "      <td>60.365327</td>\n",
       "    </tr>\n",
       "    <tr>\n",
       "      <th>4</th>\n",
       "      <td>4.0</td>\n",
       "      <td>60.121673</td>\n",
       "    </tr>\n",
       "  </tbody>\n",
       "</table>\n",
       "</div>"
      ],
      "text/plain": [
       "   vehicle_age        AQI\n",
       "0          0.0  61.468667\n",
       "1          1.0  61.445482\n",
       "2          2.0  60.655640\n",
       "3          3.0  60.365327\n",
       "4          4.0  60.121673"
      ]
     },
     "execution_count": 24,
     "metadata": {},
     "output_type": "execute_result"
    }
   ],
   "source": [
    "# find the average AQI for age of vehicle\n",
    "veh_age_df = veh_age_aqi(veh_complete_df)\n",
    "veh_age_df.head()"
   ]
  },
  {
   "cell_type": "code",
   "execution_count": 25,
   "metadata": {},
   "outputs": [
    {
     "name": "stdout",
     "output_type": "stream",
     "text": [
      "The r-squared is: 0.44811961222406105\n"
     ]
    },
    {
     "data": {
      "image/png": "[encoded data removed]",
      "text/plain": [
       "<Figure size 576x432 with 1 Axes>"
      ]
     },
     "metadata": {
      "needs_background": "light"
     },
     "output_type": "display_data"
    }
   ],
   "source": [
    "# plot scatter plot of air quality for age of vehicle\n",
    "\n",
    "# set x-values as age of vehile and y-values are AQI\n",
    "x_values = veh_age_df['vehicle_age']\n",
    "y_values = veh_age_df['AQI']\n",
    "\n",
    "# give a title, x-label and y-label\n",
    "title = f\"Air Quality Index for age of Vehicle up to {year}\"\n",
    "x_label = \"Age of Vehicle\"\n",
    "y_label = \"Air Quality Index\"\n",
    "\n",
    "# filename to store the .png file\n",
    "file_name = f\"Images/AQI_veh_age_scatter_{year}.png\"\n",
    "\n",
    "scatter_plot(x_values, y_values, title, x_label, y_label, file_name)"
   ]
  },
  {
   "cell_type": "code",
   "execution_count": 26,
   "metadata": {},
   "outputs": [
    {
     "name": "stdout",
     "output_type": "stream",
     "text": [
      "The lower quartile is: 63.692888801734554\n",
      "The upper quartile is: 70.20234315948602\n",
      "The interquartile range of is: 6.509454357751466\n",
      "The the median of is: 67.19329388560158 \n",
      "Values below 53.928707265107356 could be outliers.\n",
      "Values above 79.96652469611323 could be outliers.\n"
     ]
    },
    {
     "data": {
      "image/png": "[encoded data removed]",
      "text/plain": [
       "<Figure size 432x288 with 1 Axes>"
      ]
     },
     "metadata": {
      "needs_background": "light"
     },
     "output_type": "display_data"
    }
   ],
   "source": [
    "# plot box plot for air quality index for given year\n",
    "\n",
    "# give AQI for y_values\n",
    "y_values = veh_age_df['AQI']\n",
    "\n",
    "# set the title and label for y-axis\n",
    "title = f'Air Quality Index in {year}'\n",
    "y_label = \"Air Quality Index\"\n",
    "\n",
    "# filename to store the .png file\n",
    "file_name = f\"Images/AQI_veh_age_box_{year}.png\"\n",
    "\n",
    "box_plot(y_values, title, y_label, file_name)\n"
   ]
  },
  {
   "cell_type": "code",
   "execution_count": 27,
   "metadata": {},
   "outputs": [
    {
     "data": {
      "image/png": "[encoded data removed]",
      "text/plain": [
       "<Figure size 1080x432 with 1 Axes>"
      ]
     },
     "metadata": {
      "needs_background": "light"
     },
     "output_type": "display_data"
    }
   ],
   "source": [
    "# plot a bar chart of air quality index for different vehicle body types\n",
    "\n",
    "# group the merged vehicle dataframe by body type and find the average AQI\n",
    "veh_body_type_df = veh_complete_df.groupby(\"body_type\").agg({\"AQI\":\"mean\"})\n",
    "\n",
    "# find the vehicle body types\n",
    "veh_body_type_df = veh_body_type_df.reset_index()\n",
    "\n",
    "# remove any extra trailing spaces\n",
    "veh_body_type_df['body_type'] = veh_body_type_df['body_type'].str.rstrip()\n",
    "\n",
    "# get the body type description\n",
    "ny_veh_body_type_df = pd.read_csv(\"ny_veh_body_type.csv\")\n",
    "veh_body_type_df['Body Description'] = veh_body_type_df.set_index(veh_body_type_df['body_type']).index.map(ny_veh_body_type_df.set_index(ny_veh_body_type_df['body_type'])['body_description'])\n",
    "    \n",
    "# set vehicle body type as x values and AQI as y values\n",
    "x_values = veh_body_type_df['Body Description']\n",
    "y_values = veh_age_df['AQI']\n",
    "\n",
    "# set title, label for x and y axis\n",
    "title = f\"Average AQI by Vehicle Body Type for {year}\"\n",
    "x_label = \"Vehicle Body Type\"\n",
    "y_label = \"Air Quality Index\"\n",
    "\n",
    "# filename to store the .png file\n",
    "file_name = f\"Images/AQI_veh_body_type_bar_{year}.png\"\n",
    "\n",
    "bar_chart(veh_body_type_df['Body Description'], veh_body_type_df['AQI'], title, x_label, y_label, file_name)"
   ]
  },
  {
   "cell_type": "code",
   "execution_count": 28,
   "metadata": {},
   "outputs": [
    {
     "data": {
      "image/png": "[encoded data removed]",
      "text/plain": [
       "<Figure size 432x288 with 1 Axes>"
      ]
     },
     "metadata": {
      "needs_background": "light"
     },
     "output_type": "display_data"
    }
   ],
   "source": [
    "# plot a multi box plot to compare passenger and commercial vehicles vs AQI\n",
    "\n",
    "# group the data by registration class\n",
    "veh_class_group = veh_complete_df.groupby(\"registration_class\")\n",
    "\n",
    "# get the keys of each group\n",
    "veh_classes = veh_class_group.groups.keys()\n",
    "\n",
    "veh_class_AQI = []\n",
    "\n",
    "for veh_class in veh_classes:\n",
    "    class_group_df = veh_class_group.get_group(veh_class)\n",
    "\n",
    "    # append to the list the AQI for each vehicle in class\n",
    "    veh_class_AQI.append(class_group_df['AQI'])\n",
    "        \n",
    "# set title and label for y axis\n",
    "title = f'AQI per vehicle registration class for {year}'\n",
    "y_label = 'Air Quality Index'\n",
    "\n",
    "# filename to store the .png file\n",
    "file_name = f\"Images\\reg_class_aqi_{year}.png\"\n",
    "\n",
    "mult_box_plot(veh_class_AQI, veh_classes, title, y_label, file_name)"
   ]
  },
  {
   "cell_type": "code",
   "execution_count": null,
   "metadata": {},
   "outputs": [],
   "source": []
  }
 ],
 "metadata": {
  "kernelspec": {
   "display_name": "Python 3",
   "language": "python",
   "name": "python3"
  },
  "language_info": {
   "codemirror_mode": {
    "name": "ipython",
    "version": 3
   },
   "file_extension": ".py",
   "mimetype": "text/x-python",
   "name": "python",
   "nbconvert_exporter": "python",
   "pygments_lexer": "ipython3",
   "version": "3.6.10"
  }
 },
 "nbformat": 4,
 "nbformat_minor": 4
}
