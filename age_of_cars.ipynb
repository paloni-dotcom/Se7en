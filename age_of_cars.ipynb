{
 "cells": [
  {
   "cell_type": "code",
   "execution_count": null,
   "metadata": {},
   "outputs": [],
   "source": [
    "import pandas as pd\n",
    "import matplotlib.pyplot as plt\n",
    "import scipy.stats as st\n",
    "import numpy as np"
   ]
  },
  {
   "cell_type": "code",
   "execution_count": null,
   "metadata": {},
   "outputs": [],
   "source": [
    "# function to add age column and merge the vehicle data frame with AQI dataframe\n",
    "\n",
    "# requires year\n",
    "# returns merged dataframe of vehicle data and AQI data \n",
    "\n",
    "def veh_aqi_merge(year):\n",
    "    \n",
    "    # get the vehicle database\n",
    "    vehicle_df = pd.read_csv(\"vehicle_data.csv.gz\", compression=\"gzip\")\n",
    "    vehicle_df.head()\n",
    "    \n",
    "    # create a dataframe for all vehicles up to given year\n",
    "    vehicle_year_df = vehicle_df.loc[vehicle_df['model_year'].astype(int) <= year]\n",
    "\n",
    "    # find the age of cars\n",
    "    veh_age = year - vehicle_year_df['model_year'].astype(int)\n",
    "\n",
    "    # create a new dataframe with an vehicle age column\n",
    "    new_vehicle_df = pd.DataFrame(vehicle_year_df)\n",
    "    new_vehicle_df['vehicle_age'] = veh_age\n",
    "    \n",
    "    # retrieve the AQI index for zipcodes in NY for given year\n",
    "    aqi_df_all = pd.read_csv(\"AQIndex.csv\", index_col=0)\n",
    "    \n",
    "    #group the data by year\n",
    "    aqi_group = aqi_df_all.groupby('Year')\n",
    "    \n",
    "    # retrieve the group for given year\n",
    "    aqi_df = aqi_group.get_group(year)\n",
    "\n",
    "    # merge the 2 dataframes on zipcode to get one dataframe \n",
    "    # with vehicles and AQI for corressponding zipcodes\n",
    "    vehicle_aqi_df = pd.merge(aqi_df, new_vehicle_df, on=['zip','zip'], how=\"left\" )\n",
    "\n",
    "    # returns merged dataframe\n",
    "    return (vehicle_aqi_df)"
   ]
  },
  {
   "cell_type": "code",
   "execution_count": null,
   "metadata": {},
   "outputs": [],
   "source": [
    "# function to find the average AQI for age of vehicle\n",
    "\n",
    "# requires merged dataframe of vehicle data and AQI data \n",
    "# returns a dataframe with vehicle age and AQI\n",
    "\n",
    "def veh_age_aqi(vehicle_aqi_df):    \n",
    "    # group data by vehicle age and find mean of AQI\n",
    "    veh_age_df = vehicle_aqi_df.groupby('vehicle_age').agg({'AQI':'mean'})\n",
    "    veh_age_df = veh_age_df.reset_index()\n",
    "    \n",
    "    # return a dataframe with vehicle age and AQI\n",
    "    return (veh_age_df)\n"
   ]
  },
  {
   "cell_type": "code",
   "execution_count": null,
   "metadata": {},
   "outputs": [],
   "source": [
    "# function to plot a scatter plot\n",
    "\n",
    "# requires year, x-values, y-values, Scatter plot title,\n",
    "# x-axis label, y-axis label, filename to store png\n",
    "\n",
    "def scatter_plot(x_values, y_values, title, x_label, y_label, file_name):\n",
    "    # Plot the scatter plot for given year\n",
    "    plt.figure(figsize=(8,6))\n",
    "    plt.scatter(x_values, y_values)\n",
    "\n",
    "    # Plot the linear regression model\n",
    "    (slope, intercept, rvalue, pvalue, stderr) = st.linregress(x_values, y_values)\n",
    "    regress_values = x_values * slope + intercept\n",
    "    line_eq = \"y = \" + str(round(slope,2)) + \"x + \" + str(round(intercept,2))\n",
    "    plt.plot(x_values, regress_values, \"r-\")\n",
    "    plt.annotate(line_eq, (min(x_values)+10, min(y_values)+10),fontsize=15,color=\"red\")\n",
    "\n",
    "    # Set the title and axis labels   \n",
    "    plt.title(title)\n",
    "    plt.xlabel(x_label)\n",
    "    plt.ylabel(y_label)\n",
    "\n",
    "    # Calculate the correlation coefficient\n",
    "    print(f\"The r-squared is: {rvalue**2}\")\n",
    "    \n",
    "    # save to file\n",
    "    plt.savefig(file_name, bbox_inches=\"tight\", pad_inches=.3)\n",
    "\n",
    "    plt.show()\n"
   ]
  },
  {
   "cell_type": "code",
   "execution_count": null,
   "metadata": {},
   "outputs": [],
   "source": [
    "# function to plot a box plot\n",
    "\n",
    "# requires box-values, title, y-axis label, filename to store png\n",
    "\n",
    "def box_plot(box_values, title, y_label, file_name):\n",
    "    # Calculate quartiles, IQR, and identify potential outliers for given year\n",
    "    quartiles = box_values.quantile([.25,.5,.75])\n",
    "    lowerq = quartiles[0.25]\n",
    "    upperq = quartiles[0.75]\n",
    "    iqr = upperq-lowerq\n",
    "\n",
    "    print(f\"The lower quartile is: {lowerq}\")\n",
    "    print(f\"The upper quartile is: {upperq}\")\n",
    "    print(f\"The interquartile range of is: {iqr}\")\n",
    "    print(f\"The the median of is: {quartiles[0.5]} \")\n",
    "\n",
    "    # Determine outliers using upper and lower bounds\n",
    "    lower_bound = lowerq - (1.5*iqr)\n",
    "    upper_bound = upperq + (1.5*iqr)\n",
    "    print(f\"Values below {lower_bound} could be outliers.\")\n",
    "    print(f\"Values above {upper_bound} could be outliers.\")\n",
    "\n",
    "    fig1, ax1 = plt.subplots()\n",
    "    ax1.set_title(title)\n",
    "    ax1.set_ylabel(y_label)\n",
    "    ax1.boxplot(box_values)\n",
    "    \n",
    "    # save to file\n",
    "    plt.savefig(file_name, bbox_inches=\"tight\", pad_inches=.3)\n",
    "    \n",
    "    plt.show()\n",
    "    "
   ]
  },
  {
   "cell_type": "code",
   "execution_count": null,
   "metadata": {},
   "outputs": [],
   "source": [
    "# function to plot a bar plot\n",
    "\n",
    "# requires dataframe, title, x-axis label, y-axis label, filename to store png\n",
    "\n",
    "def bar_chart(x_values, y_values, title, x_label, y_label, file_name):\n",
    "\n",
    "    # Set x axis\n",
    "    x_num = np.arange(len(x_values))\n",
    "\n",
    "    # Create the bar graph and set figure size to adjust for space\n",
    "    plt.figure(figsize=(15,6))\n",
    "    plt.bar(x_num, y_values, color=\"b\", align=\"center\", width=.5)\n",
    "\n",
    "    # Create a list indicating where to write x labels\n",
    "    tick_locations = [value for value in x_num]\n",
    "    plt.xticks(tick_locations, x_values, rotation=\"vertical\")\n",
    "\n",
    "    # Set x and y limits\n",
    "    plt.xlim(-.75, len(x_num)-0.25)\n",
    "    plt.ylim(0, y_values.max()+20)\n",
    "\n",
    "    # Set a Title and labels\n",
    "    plt.title(title)\n",
    "    plt.xlabel(x_label)\n",
    "    plt.ylabel(y_label)\n",
    "    \n",
    "    # save to file\n",
    "    plt.savefig(file_name, bbox_inches=\"tight\", pad_inches=.3)\n",
    "    \n",
    "    plt.show()\n"
   ]
  },
  {
   "cell_type": "code",
   "execution_count": null,
   "metadata": {},
   "outputs": [],
   "source": [
    "# function to plot a multi box plot\n",
    "\n",
    "# requires group, title, y-axis label, filename to store png\n",
    "\n",
    "def mult_box_plot(veh_group, title, y_label, file_name):\n",
    "    \n",
    "    veh_classes = veh_group.groups.keys()\n",
    "\n",
    "    veh_class_AQI = []\n",
    "\n",
    "    for veh_class in veh_classes:\n",
    "        class_group_df = veh_group.get_group(veh_class)\n",
    "    \n",
    "        # append to the list the AQI for each vehicle in class\n",
    "        veh_class_AQI.append(class_group_df['AQI'])\n",
    "\n",
    "\n",
    "    fig1, ax1 = plt.subplots()\n",
    "    ax1.set_title(title)\n",
    "    ax1.set_ylabel(y_label)\n",
    "    flierprops = dict(marker='o', markerfacecolor='r', markersize=12,\n",
    "                  linestyle='none', markeredgecolor='b')\n",
    "    bp = ax1.boxplot(veh_class_AQI)\n",
    "\n",
    "    ax1.set_xticklabels(veh_classes)\n",
    "\n",
    "    # save to file\n",
    "    plt.savefig(file_name, bbox_inches=\"tight\", pad_inches=.3)\n",
    "\n",
    "    plt.show()\n"
   ]
  },
  {
   "cell_type": "code",
   "execution_count": null,
   "metadata": {},
   "outputs": [],
   "source": [
    "# for given year merge vehicle data and AQI data\n",
    "year = 2009\n",
    "veh_complete_df = veh_aqi_merge(year)\n",
    "veh_complete_df.head()"
   ]
  },
  {
   "cell_type": "code",
   "execution_count": null,
   "metadata": {},
   "outputs": [],
   "source": [
    "# find the average AQI for age of vehicle\n",
    "veh_age_df = veh_age_aqi(veh_complete_df)\n",
    "veh_age_df.head()"
   ]
  },
  {
   "cell_type": "code",
   "execution_count": null,
   "metadata": {},
   "outputs": [],
   "source": [
    "# plot scatter plot of air quality for age of vehicle\n",
    "x_values = veh_age_df['vehicle_age']\n",
    "y_values = veh_age_df['AQI']\n",
    "title = f\"Air Quality Index for age of Vehicle up to {year}\"\n",
    "x_label = \"Age of Vehicle\"\n",
    "y_label = \"Air Quality Index\"\n",
    "file_name = f\"Images/AQI_veh_age_scatter_{year}.png\"\n",
    "scatter_plot(x_values, y_values, title, x_label, y_label, file_name)"
   ]
  },
  {
   "cell_type": "code",
   "execution_count": null,
   "metadata": {},
   "outputs": [],
   "source": [
    "# plot box plot for air quality index for given year\n",
    "box_values = veh_age_df['AQI']\n",
    "title = f'Air Quality Index in {year}'\n",
    "y_label = \"Air Quality Index\"\n",
    "file_name = f\"Images/AQI_veh_age_box_{year}.png\"\n",
    "box_plot(box_values, title, y_label, file_name)\n"
   ]
  },
  {
   "cell_type": "code",
   "execution_count": null,
   "metadata": {},
   "outputs": [],
   "source": [
    "# plot a bar chart of air quality index for different vehicle body types\n",
    "veh_body_type_df = veh_complete_df.groupby(\"body_type\").agg({\"AQI\":\"mean\"})\n",
    "# find the vehicle body types\n",
    "body_type = veh_body_type_df.index\n",
    "print(body_type)\n",
    "veh_body_type_df = veh_body_type_df.reset_index()\n",
    "\n",
    "# get the body type description\n",
    "ny_veh_body_type_df = pd.read_csv(\"ny_veh_body_type.csv\")\n",
    "veh_body_type_df['Body Description'] = veh_body_type_df.set_index(veh_body_type_df['body_type']).index.map(ny_veh_body_type_df.set_index(ny_veh_body_type_df['body_type'])['body_description'])\n",
    "    \n",
    "x_values = veh_age_df['vehicle_age']\n",
    "y_values = veh_age_df['AQI']\n",
    "title = f\"Average AQI by Vehicle Body Type for {year}\"\n",
    "x_label = \"Vehicle Body Type\"\n",
    "y_label = \"Air Quality Index\"\n",
    "file_name = f\"Images/AQI_veh_body_type_box_{year}.png\"\n",
    "\n",
    "bar_chart(veh_body_type_df['Body Description'], veh_body_type_df['AQI'], title, x_label, y_label, file_name)"
   ]
  },
  {
   "cell_type": "code",
   "execution_count": null,
   "metadata": {},
   "outputs": [],
   "source": [
    "veh_class_group = veh_complete_df.groupby(\"registration_class\")\n",
    "title = f'AQI per vehicle registration class for {year}'\n",
    "y_label = 'Air Quality Index'\n",
    "file_name = f\"Images\\reg_class_aqi_{year}.png\"\n",
    "mult_box_plot(veh_class_group, title, y_label, file_name)"
   ]
  },
  {
   "cell_type": "code",
   "execution_count": null,
   "metadata": {},
   "outputs": [],
   "source": []
  },
  {
   "cell_type": "code",
   "execution_count": null,
   "metadata": {},
   "outputs": [],
   "source": []
  },
  {
   "cell_type": "code",
   "execution_count": null,
   "metadata": {},
   "outputs": [],
   "source": []
  },
  {
   "cell_type": "code",
   "execution_count": null,
   "metadata": {},
   "outputs": [],
   "source": []
  },
  {
   "cell_type": "code",
   "execution_count": null,
   "metadata": {},
   "outputs": [],
   "source": []
  },
  {
   "cell_type": "code",
   "execution_count": null,
   "metadata": {},
   "outputs": [],
   "source": []
  },
  {
   "cell_type": "code",
   "execution_count": null,
   "metadata": {},
   "outputs": [],
   "source": []
  },
  {
   "cell_type": "code",
   "execution_count": null,
   "metadata": {},
   "outputs": [],
   "source": []
  },
  {
   "cell_type": "code",
   "execution_count": null,
   "metadata": {},
   "outputs": [],
   "source": []
  },
  {
   "cell_type": "code",
   "execution_count": null,
   "metadata": {},
   "outputs": [],
   "source": []
  },
  {
   "cell_type": "code",
   "execution_count": null,
   "metadata": {},
   "outputs": [],
   "source": []
  },
  {
   "cell_type": "code",
   "execution_count": null,
   "metadata": {},
   "outputs": [],
   "source": []
  },
  {
   "cell_type": "code",
   "execution_count": null,
   "metadata": {},
   "outputs": [],
   "source": []
  },
  {
   "cell_type": "code",
   "execution_count": null,
   "metadata": {},
   "outputs": [],
   "source": []
  },
  {
   "cell_type": "code",
   "execution_count": null,
   "metadata": {},
   "outputs": [],
   "source": []
  }
 ],
 "metadata": {
  "kernelspec": {
   "display_name": "Python 3",
   "language": "python",
   "name": "python3"
  },
  "language_info": {
   "codemirror_mode": {
    "name": "ipython",
    "version": 3
   },
   "file_extension": ".py",
   "mimetype": "text/x-python",
   "name": "python",
   "nbconvert_exporter": "python",
   "pygments_lexer": "ipython3",
   "version": "3.6.10"
  }
 },
 "nbformat": 4,
 "nbformat_minor": 4
}
