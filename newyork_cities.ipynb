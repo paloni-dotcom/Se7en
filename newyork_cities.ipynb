{
 "cells": [
  {
   "cell_type": "code",
   "execution_count": 1,
   "metadata": {},
   "outputs": [],
   "source": [
    "import pandas as pd\n"
   ]
  },
  {
   "cell_type": "markdown",
   "metadata": {},
   "source": [
    "### Data cleaning\n",
    "Import the EPA reporting agencies in the US and find cities in NY state"
   ]
  },
  {
   "cell_type": "code",
   "execution_count": 3,
   "metadata": {},
   "outputs": [],
   "source": [
    "# import cities in the US that have an EPA reporting agency\n",
    "cities_df = pd.read_csv(\"Data/cityzipcodes.csv\", delimiter=\"|\")\n",
    "\n",
    "# find New York state zipcodes with EPA reporting agencies\n",
    "newyork_cities_df = cities_df.loc[cities_df[\"State\"] == \"NY\"]\n",
    "\n",
    "# output to a csv file\n",
    "newyork_cities_df.to_csv(\"Data/newyork_cities.csv\")\n"
   ]
  },
  {
   "cell_type": "code",
   "execution_count": null,
   "metadata": {},
   "outputs": [],
   "source": []
  }
 ],
 "metadata": {
  "kernelspec": {
   "display_name": "Python 3",
   "language": "python",
   "name": "python3"
  },
  "language_info": {
   "codemirror_mode": {
    "name": "ipython",
    "version": 3
   },
   "file_extension": ".py",
   "mimetype": "text/x-python",
   "name": "python",
   "nbconvert_exporter": "python",
   "pygments_lexer": "ipython3",
   "version": "3.6.10"
  }
 },
 "nbformat": 4,
 "nbformat_minor": 4
}
