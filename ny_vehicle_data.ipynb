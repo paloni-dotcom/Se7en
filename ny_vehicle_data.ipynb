{
 "cells": [
  {
   "cell_type": "code",
   "execution_count": null,
   "metadata": {},
   "outputs": [],
   "source": [
    "# required dependencies\n",
    "# pip install pandas\n",
    "# pip install sodapy\n",
    "\n",
    "import pandas as pd\n",
    "from sodapy import Socrata\n",
    "from api_keys import soda_api_token\n",
    "from api_keys import soda_username\n",
    "from api_keys import soda_pwd\n",
    "\n",
    "# authenticate API access\n",
    "client = Socrata(\"data.ny.gov\",\n",
    "                  soda_api_token,\n",
    "                  username= soda_username,\n",
    "                  password= soda_pwd)\n",
    "\n",
    "\n",
    "results = client.get(\"w4pv-hbkt\",\n",
    "                     where = \"registration_class = 'SRF' or registration_class ='PAS' or registration_class ='COM'\",\n",
    "                     limit=100000000)\n",
    "\n",
    "# Convert to pandas DataFrame\n",
    "results_df = pd.DataFrame.from_records(results)\n",
    "results_df.count()\n"
   ]
  },
  {
   "cell_type": "code",
   "execution_count": null,
   "metadata": {},
   "outputs": [],
   "source": [
    "vehicle_df = results_df.drop(columns =['unladen_weight', 'reg_valid_date',\n",
    "                                       'reg_expiration_date', 'maximum_gross_weight',\n",
    "                                      'record_type', 'county', 'make',\n",
    "                                      'scofflaw_indicator', 'suspension_indicator',\n",
    "                                      'revocation_indicator', 'color', 'state', 'city'])\n",
    "vehicle_df"
   ]
  },
  {
   "cell_type": "code",
   "execution_count": null,
   "metadata": {},
   "outputs": [],
   "source": [
    "vehicle_df.to_csv(\"Data/vehicle_data.csv.gz\", \n",
    "           index=False, \n",
    "           compression=\"gzip\")"
   ]
  },
  {
   "cell_type": "code",
   "execution_count": null,
   "metadata": {},
   "outputs": [],
   "source": []
  },
  {
   "cell_type": "code",
   "execution_count": null,
   "metadata": {},
   "outputs": [],
   "source": []
  }
 ],
 "metadata": {
  "kernelspec": {
   "display_name": "Python 3",
   "language": "python",
   "name": "python3"
  },
  "language_info": {
   "codemirror_mode": {
    "name": "ipython",
    "version": 3
   },
   "file_extension": ".py",
   "mimetype": "text/x-python",
   "name": "python",
   "nbconvert_exporter": "python",
   "pygments_lexer": "ipython3",
   "version": "3.8.5"
  }
 },
 "nbformat": 4,
 "nbformat_minor": 4
}
