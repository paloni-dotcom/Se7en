{
 "cells": [
  {
   "cell_type": "code",
   "execution_count": 4,
   "metadata": {},
   "outputs": [],
   "source": [
    "import gmaps\n",
    "import pandas as pd\n",
    "import numpy as np\n",
    "import matplotlib.pyplot as plt\n",
    "import scipy.stats as st\n",
    "\n",
    "# Google developer API key\n",
    "from Config import gkey\n",
    "\n",
    "# Access maps with unique API key\n",
    "gmaps.configure(api_key=gkey)\n"
   ]
  },
  {
   "cell_type": "code",
   "execution_count": 5,
   "metadata": {},
   "outputs": [],
   "source": [
    "#create cordinates for NY State map\n",
    "coordinates = [(42.9915, -76.0718)]"
   ]
  },
  {
   "cell_type": "code",
   "execution_count": 6,
   "metadata": {},
   "outputs": [
    {
     "data": {
      "application/vnd.jupyter.widget-view+json": {
       "model_id": "0546c585f84c4b1c8557ccdaa7abfb4a",
       "version_major": 2,
       "version_minor": 0
      },
      "text/plain": [
       "Figure(layout=FigureLayout(border='1px solid black', height='500px', margin='0 auto 0 auto', padding='1px', wi…"
      ]
     },
     "metadata": {},
     "output_type": "display_data"
    }
   ],
   "source": [
    "# Customize the size of the figure\n",
    "figure_layout = {\n",
    "    'width': '500px',\n",
    "    'height': '500px',\n",
    "    'border': '1px solid black',\n",
    "    'padding': '1px',\n",
    "    'margin': '0 auto 0 auto'\n",
    "}\n",
    "\n",
    "fig = gmaps.figure(zoom_level = 6.5, center = (42.9915, -76.0718), layout = figure_layout, map_type=\"HYBRID\")\n",
    "fig"
   ]
  },
  {
   "cell_type": "code",
   "execution_count": 7,
   "metadata": {},
   "outputs": [],
   "source": [
    "#introducing Vehicle data\n",
    "vehicle_df = pd.read_csv(\"vehicle_data.csv.gz\", compression=\"gzip\")\n",
    "\n",
    "#take care of NaN velue\n",
    "vehicle_df = vehicle_df.dropna()\n",
    "\n",
    "#creating dataframe for car's for selective years\n",
    "vehicle_year_df = vehicle_df.loc[vehicle_df['model_year'].astype(int) <= 2009]\n",
    "#vehicle_year_df.head()"
   ]
  },
  {
   "cell_type": "code",
   "execution_count": 8,
   "metadata": {},
   "outputs": [],
   "source": [
    "#calculating vehicle age till 2009 by model year \n",
    "veh_age = 2009 - vehicle_year_df['model_year'].astype(int)\n",
    "\n",
    "#creating new data frame with new column for vehicle_age\n",
    "new_vehicle_df = pd.DataFrame(vehicle_year_df)\n",
    "new_vehicle_df['vehicle_age'] = veh_age\n",
    "#new_vehicle_df.head()"
   ]
  },
  {
   "cell_type": "code",
   "execution_count": 9,
   "metadata": {},
   "outputs": [],
   "source": [
    "#introducing zip code coordinates\n",
    "zip_df = pd.read_csv('../Se7en/us-zip-code-latitude-and-longitude.csv')\n",
    "zip_df = zip_df.rename (columns = {\"Zip\" : \"zip\"})\n",
    "\n",
    "#take care of NaN velue\n",
    "zip_df = zip_df.dropna()\n",
    "#zip_df.head()"
   ]
  },
  {
   "cell_type": "code",
   "execution_count": 10,
   "metadata": {
    "scrolled": true
   },
   "outputs": [
    {
     "data": {
      "text/html": [
       "<div>\n",
       "<style scoped>\n",
       "    .dataframe tbody tr th:only-of-type {\n",
       "        vertical-align: middle;\n",
       "    }\n",
       "\n",
       "    .dataframe tbody tr th {\n",
       "        vertical-align: top;\n",
       "    }\n",
       "\n",
       "    .dataframe thead th {\n",
       "        text-align: right;\n",
       "    }\n",
       "</style>\n",
       "<table border=\"1\" class=\"dataframe\">\n",
       "  <thead>\n",
       "    <tr style=\"text-align: right;\">\n",
       "      <th></th>\n",
       "      <th>zip</th>\n",
       "      <th>vehicle_age</th>\n",
       "    </tr>\n",
       "  </thead>\n",
       "  <tbody>\n",
       "    <tr>\n",
       "      <th>0</th>\n",
       "      <td>0</td>\n",
       "      <td>5.00</td>\n",
       "    </tr>\n",
       "    <tr>\n",
       "      <th>1</th>\n",
       "      <td>646</td>\n",
       "      <td>33.75</td>\n",
       "    </tr>\n",
       "    <tr>\n",
       "      <th>2</th>\n",
       "      <td>727</td>\n",
       "      <td>3.00</td>\n",
       "    </tr>\n",
       "    <tr>\n",
       "      <th>3</th>\n",
       "      <td>802</td>\n",
       "      <td>4.00</td>\n",
       "    </tr>\n",
       "    <tr>\n",
       "      <th>4</th>\n",
       "      <td>1002</td>\n",
       "      <td>0.50</td>\n",
       "    </tr>\n",
       "  </tbody>\n",
       "</table>\n",
       "</div>"
      ],
      "text/plain": [
       "    zip  vehicle_age\n",
       "0     0         5.00\n",
       "1   646        33.75\n",
       "2   727         3.00\n",
       "3   802         4.00\n",
       "4  1002         0.50"
      ]
     },
     "execution_count": 10,
     "metadata": {},
     "output_type": "execute_result"
    }
   ],
   "source": [
    "# find mean of vehicle age by zip code\n",
    "veh_age_mean_df = new_vehicle_df.groupby('zip').agg({'vehicle_age':'mean'})\n",
    "veh_age_mean_df = veh_age_mean_df.reset_index()\n",
    "veh_age_mean_df.head()\n",
    "\n",
    "\n"
   ]
  },
  {
   "cell_type": "code",
   "execution_count": 11,
   "metadata": {
    "scrolled": true
   },
   "outputs": [
    {
     "data": {
      "text/html": [
       "<div>\n",
       "<style scoped>\n",
       "    .dataframe tbody tr th:only-of-type {\n",
       "        vertical-align: middle;\n",
       "    }\n",
       "\n",
       "    .dataframe tbody tr th {\n",
       "        vertical-align: top;\n",
       "    }\n",
       "\n",
       "    .dataframe thead th {\n",
       "        text-align: right;\n",
       "    }\n",
       "</style>\n",
       "<table border=\"1\" class=\"dataframe\">\n",
       "  <thead>\n",
       "    <tr style=\"text-align: right;\">\n",
       "      <th></th>\n",
       "      <th>zip</th>\n",
       "      <th>vehicle_age</th>\n",
       "      <th>City</th>\n",
       "      <th>State</th>\n",
       "      <th>Latitude</th>\n",
       "      <th>Longitude</th>\n",
       "      <th>Timezone</th>\n",
       "      <th>Daylight savings time flag</th>\n",
       "    </tr>\n",
       "  </thead>\n",
       "  <tbody>\n",
       "    <tr>\n",
       "      <th>648</th>\n",
       "      <td>10001</td>\n",
       "      <td>5.845588</td>\n",
       "      <td>New York</td>\n",
       "      <td>NY</td>\n",
       "      <td>40.750742</td>\n",
       "      <td>-73.996530</td>\n",
       "      <td>-5.0</td>\n",
       "      <td>1.0</td>\n",
       "    </tr>\n",
       "    <tr>\n",
       "      <th>649</th>\n",
       "      <td>10002</td>\n",
       "      <td>5.068544</td>\n",
       "      <td>New York</td>\n",
       "      <td>NY</td>\n",
       "      <td>40.717040</td>\n",
       "      <td>-73.987000</td>\n",
       "      <td>-5.0</td>\n",
       "      <td>1.0</td>\n",
       "    </tr>\n",
       "    <tr>\n",
       "      <th>650</th>\n",
       "      <td>10003</td>\n",
       "      <td>7.640783</td>\n",
       "      <td>New York</td>\n",
       "      <td>NY</td>\n",
       "      <td>40.732509</td>\n",
       "      <td>-73.989350</td>\n",
       "      <td>-5.0</td>\n",
       "      <td>1.0</td>\n",
       "    </tr>\n",
       "    <tr>\n",
       "      <th>652</th>\n",
       "      <td>10005</td>\n",
       "      <td>6.469799</td>\n",
       "      <td>New York</td>\n",
       "      <td>NY</td>\n",
       "      <td>40.706019</td>\n",
       "      <td>-74.008580</td>\n",
       "      <td>-5.0</td>\n",
       "      <td>1.0</td>\n",
       "    </tr>\n",
       "    <tr>\n",
       "      <th>653</th>\n",
       "      <td>10006</td>\n",
       "      <td>5.413333</td>\n",
       "      <td>New York</td>\n",
       "      <td>NY</td>\n",
       "      <td>40.707904</td>\n",
       "      <td>-74.013420</td>\n",
       "      <td>-5.0</td>\n",
       "      <td>1.0</td>\n",
       "    </tr>\n",
       "    <tr>\n",
       "      <th>...</th>\n",
       "      <td>...</td>\n",
       "      <td>...</td>\n",
       "      <td>...</td>\n",
       "      <td>...</td>\n",
       "      <td>...</td>\n",
       "      <td>...</td>\n",
       "      <td>...</td>\n",
       "      <td>...</td>\n",
       "    </tr>\n",
       "    <tr>\n",
       "      <th>3008</th>\n",
       "      <td>14901</td>\n",
       "      <td>5.823712</td>\n",
       "      <td>Elmira</td>\n",
       "      <td>NY</td>\n",
       "      <td>42.091924</td>\n",
       "      <td>-76.792170</td>\n",
       "      <td>-5.0</td>\n",
       "      <td>1.0</td>\n",
       "    </tr>\n",
       "    <tr>\n",
       "      <th>3009</th>\n",
       "      <td>14902</td>\n",
       "      <td>7.070175</td>\n",
       "      <td>Elmira</td>\n",
       "      <td>NY</td>\n",
       "      <td>42.147285</td>\n",
       "      <td>-76.750888</td>\n",
       "      <td>-5.0</td>\n",
       "      <td>1.0</td>\n",
       "    </tr>\n",
       "    <tr>\n",
       "      <th>3010</th>\n",
       "      <td>14903</td>\n",
       "      <td>6.749054</td>\n",
       "      <td>Elmira</td>\n",
       "      <td>NY</td>\n",
       "      <td>42.129274</td>\n",
       "      <td>-76.844970</td>\n",
       "      <td>-5.0</td>\n",
       "      <td>1.0</td>\n",
       "    </tr>\n",
       "    <tr>\n",
       "      <th>3011</th>\n",
       "      <td>14904</td>\n",
       "      <td>5.899058</td>\n",
       "      <td>Elmira</td>\n",
       "      <td>NY</td>\n",
       "      <td>42.072024</td>\n",
       "      <td>-76.803930</td>\n",
       "      <td>-5.0</td>\n",
       "      <td>1.0</td>\n",
       "    </tr>\n",
       "    <tr>\n",
       "      <th>3012</th>\n",
       "      <td>14905</td>\n",
       "      <td>5.960552</td>\n",
       "      <td>Elmira</td>\n",
       "      <td>NY</td>\n",
       "      <td>42.087824</td>\n",
       "      <td>-76.836860</td>\n",
       "      <td>-5.0</td>\n",
       "      <td>1.0</td>\n",
       "    </tr>\n",
       "  </tbody>\n",
       "</table>\n",
       "<p>2050 rows × 8 columns</p>\n",
       "</div>"
      ],
      "text/plain": [
       "        zip  vehicle_age      City State   Latitude  Longitude  Timezone  \\\n",
       "648   10001     5.845588  New York    NY  40.750742 -73.996530      -5.0   \n",
       "649   10002     5.068544  New York    NY  40.717040 -73.987000      -5.0   \n",
       "650   10003     7.640783  New York    NY  40.732509 -73.989350      -5.0   \n",
       "652   10005     6.469799  New York    NY  40.706019 -74.008580      -5.0   \n",
       "653   10006     5.413333  New York    NY  40.707904 -74.013420      -5.0   \n",
       "...     ...          ...       ...   ...        ...        ...       ...   \n",
       "3008  14901     5.823712    Elmira    NY  42.091924 -76.792170      -5.0   \n",
       "3009  14902     7.070175    Elmira    NY  42.147285 -76.750888      -5.0   \n",
       "3010  14903     6.749054    Elmira    NY  42.129274 -76.844970      -5.0   \n",
       "3011  14904     5.899058    Elmira    NY  42.072024 -76.803930      -5.0   \n",
       "3012  14905     5.960552    Elmira    NY  42.087824 -76.836860      -5.0   \n",
       "\n",
       "      Daylight savings time flag  \n",
       "648                          1.0  \n",
       "649                          1.0  \n",
       "650                          1.0  \n",
       "652                          1.0  \n",
       "653                          1.0  \n",
       "...                          ...  \n",
       "3008                         1.0  \n",
       "3009                         1.0  \n",
       "3010                         1.0  \n",
       "3011                         1.0  \n",
       "3012                         1.0  \n",
       "\n",
       "[2050 rows x 8 columns]"
      ]
     },
     "execution_count": 11,
     "metadata": {},
     "output_type": "execute_result"
    }
   ],
   "source": [
    "#add zip code coordinates to vehicle age mean dataframe\n",
    "vehicle_age_2009_df = pd.merge(veh_age_mean_df, zip_df, on=['zip','zip'], how=\"left\")\n",
    "\n",
    "#take care of NaN velue\n",
    "vehicle_age_2009_df = vehicle_age_2009_df.dropna()\n",
    "vehicle_age_2009_df"
   ]
  },
  {
   "cell_type": "code",
   "execution_count": 12,
   "metadata": {},
   "outputs": [
    {
     "data": {
      "application/vnd.jupyter.widget-view+json": {
       "model_id": "0546c585f84c4b1c8557ccdaa7abfb4a",
       "version_major": 2,
       "version_minor": 0
      },
      "text/plain": [
       "Figure(layout=FigureLayout(border='1px solid black', height='500px', margin='0 auto 0 auto', padding='1px', wi…"
      ]
     },
     "metadata": {},
     "output_type": "display_data"
    }
   ],
   "source": [
    "\n",
    "#Plot Heatmap for vehicle age by zip code\n",
    "locations = vehicle_age_2009_df[[\"Latitude\", \"Longitude\"]]\n",
    "vehicle_age = vehicle_age_2009_df[\"vehicle_age\"].astype(float)\n",
    "\n",
    "#create heat layer\n",
    "heat_layer = gmaps.heatmap_layer(locations, weights=vehicle_age, \n",
    "                                  dissipating=False, max_intensity=1,                                  \n",
    "                                  point_radius=0.05)\n",
    "\n",
    "\n",
    "# Add layer to the map\n",
    "fig.add_layer(heat_layer)\n",
    "fig"
   ]
  },
  {
   "cell_type": "code",
   "execution_count": 17,
   "metadata": {},
   "outputs": [],
   "source": []
  },
  {
   "cell_type": "code",
   "execution_count": 15,
   "metadata": {},
   "outputs": [],
   "source": []
  },
  {
   "cell_type": "code",
   "execution_count": null,
   "metadata": {},
   "outputs": [],
   "source": []
  }
 ],
 "metadata": {
  "kernelspec": {
   "display_name": "Python 3",
   "language": "python",
   "name": "python3"
  },
  "language_info": {
   "codemirror_mode": {
    "name": "ipython",
    "version": 3
   },
   "file_extension": ".py",
   "mimetype": "text/x-python",
   "name": "python",
   "nbconvert_exporter": "python",
   "pygments_lexer": "ipython3",
   "version": "3.8.3"
  }
 },
 "nbformat": 4,
 "nbformat_minor": 4
}
