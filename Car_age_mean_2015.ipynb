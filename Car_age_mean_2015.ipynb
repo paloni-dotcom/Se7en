{
 "cells": [
  {
   "cell_type": "code",
   "execution_count": 1,
   "metadata": {},
   "outputs": [],
   "source": [
    "import gmaps\n",
    "import pandas as pd\n",
    "import numpy as np\n",
    "import matplotlib.pyplot as plt\n",
    "import scipy.stats as st\n",
    "\n",
    "# Google developer API key\n",
    "from api_keys import gkey\n",
    "\n",
    "# Access maps with unique API key\n",
    "gmaps.configure(api_key=gkey)"
   ]
  },
  {
   "cell_type": "code",
   "execution_count": null,
   "metadata": {},
   "outputs": [],
   "source": [
    "#introducing Vehicle data\n",
    "vehicle_df = pd.read_csv(\"Data/vehicle_data.csv.gz\", compression=\"gzip\")\n",
    "\n",
    "#take care of NaN velue\n",
    "vehicle_df = vehicle_df.dropna()\n",
    "\n",
    "#creating dataframe for car's for selective years\n",
    "vehicle_year_df = vehicle_df.loc[vehicle_df['model_year'].astype(int) <= 2015]\n",
    "#vehicle_year_df.head()"
   ]
  },
  {
   "cell_type": "code",
   "execution_count": null,
   "metadata": {},
   "outputs": [],
   "source": [
    "#calculating vehicle age till 2009 by model year \n",
    "veh_age = 2015 - vehicle_year_df['model_year'].astype(int)\n",
    "\n",
    "#creating new data frame with new column for vehicle_age\n",
    "new_vehicle_df = pd.DataFrame(vehicle_year_df)\n",
    "new_vehicle_df['vehicle_age'] = veh_age\n",
    "#new_vehicle_df.head()"
   ]
  }
 ],
 "metadata": {
  "kernelspec": {
   "display_name": "Python 3",
   "language": "python",
   "name": "python3"
  },
  "language_info": {
   "codemirror_mode": {
    "name": "ipython",
    "version": 3
   },
   "file_extension": ".py",
   "mimetype": "text/x-python",
   "name": "python",
   "nbconvert_exporter": "python",
   "pygments_lexer": "ipython3",
   "version": "3.8.3"
  }
 },
 "nbformat": 4,
 "nbformat_minor": 4
}
