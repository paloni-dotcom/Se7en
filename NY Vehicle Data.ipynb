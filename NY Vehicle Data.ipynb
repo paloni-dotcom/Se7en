{
 "cells": [
  {
   "cell_type": "code",
   "execution_count": 1,
   "metadata": {},
   "outputs": [
    {
     "data": {
      "text/plain": [
       "record_type             1000000\n",
       "vin                     1000000\n",
       "registration_class      1000000\n",
       "city                    1000000\n",
       "state                   1000000\n",
       "zip                     1000000\n",
       "county                  1000000\n",
       "model_year              1000000\n",
       "make                    1000000\n",
       "body_type               1000000\n",
       "fuel_type               1000000\n",
       "unladen_weight           973627\n",
       "reg_valid_date          1000000\n",
       "reg_expiration_date     1000000\n",
       "color                   1000000\n",
       "scofflaw_indicator      1000000\n",
       "suspension_indicator    1000000\n",
       "revocation_indicator    1000000\n",
       "maximum_gross_weight      26373\n",
       "dtype: int64"
      ]
     },
     "execution_count": 1,
     "metadata": {},
     "output_type": "execute_result"
    }
   ],
   "source": [
    "# required dependencies\n",
    "# pip install pandas\n",
    "# pip install sodapy\n",
    "\n",
    "import pandas as pd\n",
    "from sodapy import Socrata\n",
    "from api_keys import soda_api_token\n",
    "from api_keys import soda_username\n",
    "from api_keys import soda_pwd \n",
    "\n",
    "# authenticate API access\n",
    "client = Socrata(\"data.ny.gov\",\n",
    "                  soda_api_token,\n",
    "                  username= soda_username,\n",
    "                  password= soda_pwd)\n",
    "\n",
    "\n",
    "results = client.get(\"w4pv-hbkt\",\n",
    "                     where = \"registration_class = 'SRF' or registration_class ='PAS' or registration_class ='COM'\",\n",
    "                     limit=1000000)\n",
    " \n",
    "    \n",
    "# Convert to pandas DataFrame\n",
    "results_df = pd.DataFrame.from_records(results)\n",
    "results_df.head()\n",
    "results_df.count()\n"
   ]
  },
  {
   "cell_type": "code",
   "execution_count": 2,
   "metadata": {},
   "outputs": [
    {
     "data": {
      "text/plain": [
       "array(['PAS', 'SRF', 'COM'], dtype=object)"
      ]
     },
     "execution_count": 2,
     "metadata": {},
     "output_type": "execute_result"
    }
   ],
   "source": [
    "vehicle_df = results_df.drop(columns =['reg_valid_date', 'reg_expiration_date'])\n",
    "vehicle_df\n",
    "vehicle_df[\"registration_class\"].unique()"
   ]
  },
  {
   "cell_type": "code",
   "execution_count": 3,
   "metadata": {},
   "outputs": [
    {
     "name": "stdout",
     "output_type": "stream",
     "text": [
      "Stored 'vehicle_df' (DataFrame)\n"
     ]
    }
   ],
   "source": [
    "%store vehicle_df"
   ]
  },
  {
   "cell_type": "code",
   "execution_count": null,
   "metadata": {},
   "outputs": [],
   "source": []
  }
 ],
 "metadata": {
  "kernelspec": {
   "display_name": "Python 3",
   "language": "python",
   "name": "python3"
  },
  "language_info": {
   "codemirror_mode": {
    "name": "ipython",
    "version": 3
   },
   "file_extension": ".py",
   "mimetype": "text/x-python",
   "name": "python",
   "nbconvert_exporter": "python",
   "pygments_lexer": "ipython3",
   "version": "3.6.10"
  }
 },
 "nbformat": 4,
 "nbformat_minor": 4
}
