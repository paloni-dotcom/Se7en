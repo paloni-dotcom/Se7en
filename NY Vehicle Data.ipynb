{
 "cells": [
  {
   "cell_type": "code",
   "execution_count": 36,
   "metadata": {},
   "outputs": [
    {
     "data": {
      "text/plain": [
       "record_type             9375980\n",
       "vin                     9375980\n",
       "registration_class      9375980\n",
       "city                    9375980\n",
       "state                   9375980\n",
       "zip                     9375980\n",
       "county                  9375980\n",
       "model_year              9375980\n",
       "make                    9375980\n",
       "body_type               9375980\n",
       "fuel_type               9375980\n",
       "unladen_weight          8662921\n",
       "reg_valid_date          9375980\n",
       "reg_expiration_date     9375980\n",
       "color                   9375980\n",
       "scofflaw_indicator      9375980\n",
       "suspension_indicator    9375980\n",
       "revocation_indicator    9375980\n",
       "maximum_gross_weight     713059\n",
       "dtype: int64"
      ]
     },
     "execution_count": 36,
     "metadata": {},
     "output_type": "execute_result"
    }
   ],
   "source": [
    "# required dependencies\n",
    "# pip install pandas\n",
    "# pip install sodapy\n",
    "\n",
    "import pandas as pd\n",
    "from sodapy import Socrata\n",
    "from api_keys import soda_api_token\n",
    "from api_keys import soda_username\n",
    "from api_keys import soda_pwd \n",
    "\n",
    "# authenticate API access\n",
    "client = Socrata(\"data.ny.gov\",\n",
    "                  soda_api_token,\n",
    "                  username= soda_username,\n",
    "                  password= soda_pwd)\n",
    "\n",
    "\n",
    "results = client.get(\"w4pv-hbkt\",\n",
    "                     where = \"registration_class = 'SRF' or registration_class ='PAS' or registration_class ='COM'\",\n",
    "                     limit=10000000)\n",
    " \n",
    "    \n",
    "# Convert to pandas DataFrame\n",
    "results_df = pd.DataFrame.from_records(results)\n",
    "results_df.head()\n",
    "results_df.count()\n"
   ]
  },
  {
   "cell_type": "code",
   "execution_count": 37,
   "metadata": {},
   "outputs": [
    {
     "data": {
      "text/plain": [
       "array(['PAS', 'SRF', 'COM'], dtype=object)"
      ]
     },
     "execution_count": 37,
     "metadata": {},
     "output_type": "execute_result"
    }
   ],
   "source": [
    "vehicle_df = results_df.drop(columns =['reg_valid_date', 'reg_expiration_date'])\n",
    "vehicle_df\n",
    "vehicle_df[\"registration_class\"].unique()"
   ]
  },
  {
   "cell_type": "code",
   "execution_count": null,
   "metadata": {},
   "outputs": [],
   "source": []
  }
 ],
 "metadata": {
  "kernelspec": {
   "display_name": "Python 3",
   "language": "python",
   "name": "python3"
  }
 },
 "nbformat": 4,
 "nbformat_minor": 4
}
