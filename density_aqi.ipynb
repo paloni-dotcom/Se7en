{
 "cells": [
  {
   "cell_type": "code",
   "execution_count": 1,
   "metadata": {},
   "outputs": [],
   "source": [
    "#dependencies\n",
    "import pandas as pd\n",
    "import matplotlib.pyplot as plt\n",
    "import scipy as st\n",
    "import numpy as np\n",
    "from scipy.stats import linregress"
   ]
  },
  {
   "cell_type": "code",
   "execution_count": 2,
   "metadata": {},
   "outputs": [
    {
     "data": {
      "text/html": [
       "<div>\n",
       "<style scoped>\n",
       "    .dataframe tbody tr th:only-of-type {\n",
       "        vertical-align: middle;\n",
       "    }\n",
       "\n",
       "    .dataframe tbody tr th {\n",
       "        vertical-align: top;\n",
       "    }\n",
       "\n",
       "    .dataframe thead th {\n",
       "        text-align: right;\n",
       "    }\n",
       "</style>\n",
       "<table border=\"1\" class=\"dataframe\">\n",
       "  <thead>\n",
       "    <tr style=\"text-align: right;\">\n",
       "      <th></th>\n",
       "      <th>vin</th>\n",
       "      <th>registration_class</th>\n",
       "      <th>zip</th>\n",
       "      <th>model_year</th>\n",
       "      <th>body_type</th>\n",
       "      <th>fuel_type</th>\n",
       "    </tr>\n",
       "  </thead>\n",
       "  <tbody>\n",
       "    <tr>\n",
       "      <th>0</th>\n",
       "      <td>999407G3573</td>\n",
       "      <td>PAS</td>\n",
       "      <td>12866</td>\n",
       "      <td>1976</td>\n",
       "      <td>SUBN</td>\n",
       "      <td>GAS</td>\n",
       "    </tr>\n",
       "    <tr>\n",
       "      <th>1</th>\n",
       "      <td>9992313</td>\n",
       "      <td>PAS</td>\n",
       "      <td>13316</td>\n",
       "      <td>1924</td>\n",
       "      <td>CONV</td>\n",
       "      <td>GAS</td>\n",
       "    </tr>\n",
       "    <tr>\n",
       "      <th>2</th>\n",
       "      <td>998867</td>\n",
       "      <td>PAS</td>\n",
       "      <td>11501</td>\n",
       "      <td>1952</td>\n",
       "      <td>2DSD</td>\n",
       "      <td>GAS</td>\n",
       "    </tr>\n",
       "    <tr>\n",
       "      <th>3</th>\n",
       "      <td>9983692</td>\n",
       "      <td>PAS</td>\n",
       "      <td>10940</td>\n",
       "      <td>1936</td>\n",
       "      <td>2DSD</td>\n",
       "      <td>GAS</td>\n",
       "    </tr>\n",
       "    <tr>\n",
       "      <th>4</th>\n",
       "      <td>99782010525</td>\n",
       "      <td>PAS</td>\n",
       "      <td>11225</td>\n",
       "      <td>1978</td>\n",
       "      <td>2DSD</td>\n",
       "      <td>GAS</td>\n",
       "    </tr>\n",
       "  </tbody>\n",
       "</table>\n",
       "</div>"
      ],
      "text/plain": [
       "                 vin registration_class    zip  model_year body_type fuel_type\n",
       "0  999407G3573                      PAS  12866        1976      SUBN  GAS     \n",
       "1  9992313                          PAS  13316        1924      CONV  GAS     \n",
       "2  998867                           PAS  11501        1952      2DSD  GAS     \n",
       "3  9983692                          PAS  10940        1936      2DSD  GAS     \n",
       "4  99782010525                      PAS  11225        1978      2DSD  GAS     "
      ]
     },
     "execution_count": 2,
     "metadata": {},
     "output_type": "execute_result"
    }
   ],
   "source": [
    "#import vechicle data\n",
    "vehicle_data = pd.read_csv(\"vehicle_data.csv.gz\",\n",
    "               compression=\"gzip\")\n",
    "\n",
    "vehicle_data.head()\n",
    "\n"
   ]
  },
  {
   "cell_type": "code",
   "execution_count": 3,
   "metadata": {},
   "outputs": [
    {
     "data": {
      "text/html": [
       "<div>\n",
       "<style scoped>\n",
       "    .dataframe tbody tr th:only-of-type {\n",
       "        vertical-align: middle;\n",
       "    }\n",
       "\n",
       "    .dataframe tbody tr th {\n",
       "        vertical-align: top;\n",
       "    }\n",
       "\n",
       "    .dataframe thead th {\n",
       "        text-align: right;\n",
       "    }\n",
       "</style>\n",
       "<table border=\"1\" class=\"dataframe\">\n",
       "  <thead>\n",
       "    <tr style=\"text-align: right;\">\n",
       "      <th></th>\n",
       "      <th>zip</th>\n",
       "      <th>AQI</th>\n",
       "      <th>Category Number</th>\n",
       "      <th>Category Name</th>\n",
       "      <th>Pollutant</th>\n",
       "      <th>Year</th>\n",
       "    </tr>\n",
       "  </thead>\n",
       "  <tbody>\n",
       "    <tr>\n",
       "      <th>0</th>\n",
       "      <td>12032</td>\n",
       "      <td>90</td>\n",
       "      <td>2</td>\n",
       "      <td>Moderate</td>\n",
       "      <td>OZONE</td>\n",
       "      <td>2009</td>\n",
       "    </tr>\n",
       "    <tr>\n",
       "      <th>1</th>\n",
       "      <td>12108</td>\n",
       "      <td>90</td>\n",
       "      <td>2</td>\n",
       "      <td>Moderate</td>\n",
       "      <td>OZONE</td>\n",
       "      <td>2009</td>\n",
       "    </tr>\n",
       "    <tr>\n",
       "      <th>2</th>\n",
       "      <td>12134</td>\n",
       "      <td>90</td>\n",
       "      <td>2</td>\n",
       "      <td>Moderate</td>\n",
       "      <td>OZONE</td>\n",
       "      <td>2009</td>\n",
       "    </tr>\n",
       "    <tr>\n",
       "      <th>3</th>\n",
       "      <td>12139</td>\n",
       "      <td>90</td>\n",
       "      <td>2</td>\n",
       "      <td>Moderate</td>\n",
       "      <td>OZONE</td>\n",
       "      <td>2009</td>\n",
       "    </tr>\n",
       "    <tr>\n",
       "      <th>4</th>\n",
       "      <td>12164</td>\n",
       "      <td>90</td>\n",
       "      <td>2</td>\n",
       "      <td>Moderate</td>\n",
       "      <td>OZONE</td>\n",
       "      <td>2009</td>\n",
       "    </tr>\n",
       "  </tbody>\n",
       "</table>\n",
       "</div>"
      ],
      "text/plain": [
       "     zip  AQI  Category Number Category Name Pollutant  Year\n",
       "0  12032   90                2      Moderate     OZONE  2009\n",
       "1  12108   90                2      Moderate     OZONE  2009\n",
       "2  12134   90                2      Moderate     OZONE  2009\n",
       "3  12139   90                2      Moderate     OZONE  2009\n",
       "4  12164   90                2      Moderate     OZONE  2009"
      ]
     },
     "execution_count": 3,
     "metadata": {},
     "output_type": "execute_result"
    }
   ],
   "source": [
    "#import aqi data\n",
    "\n",
    "aqi_df = pd.read_csv(\"AQIndex.csv\", index_col=0)\n",
    "\n",
    "aqi_df.head()\n",
    "\n"
   ]
  },
  {
   "cell_type": "code",
   "execution_count": 4,
   "metadata": {},
   "outputs": [
    {
     "data": {
      "text/html": [
       "<div>\n",
       "<style scoped>\n",
       "    .dataframe tbody tr th:only-of-type {\n",
       "        vertical-align: middle;\n",
       "    }\n",
       "\n",
       "    .dataframe tbody tr th {\n",
       "        vertical-align: top;\n",
       "    }\n",
       "\n",
       "    .dataframe thead th {\n",
       "        text-align: right;\n",
       "    }\n",
       "</style>\n",
       "<table border=\"1\" class=\"dataframe\">\n",
       "  <thead>\n",
       "    <tr style=\"text-align: right;\">\n",
       "      <th></th>\n",
       "      <th>zip</th>\n",
       "      <th>AQI</th>\n",
       "      <th>Category Number</th>\n",
       "      <th>Category Name</th>\n",
       "      <th>Pollutant</th>\n",
       "      <th>Year</th>\n",
       "      <th>vin</th>\n",
       "      <th>registration_class</th>\n",
       "      <th>model_year</th>\n",
       "      <th>body_type</th>\n",
       "      <th>fuel_type</th>\n",
       "    </tr>\n",
       "  </thead>\n",
       "  <tbody>\n",
       "    <tr>\n",
       "      <th>0</th>\n",
       "      <td>12032</td>\n",
       "      <td>44</td>\n",
       "      <td>1</td>\n",
       "      <td>Good</td>\n",
       "      <td>OZONE</td>\n",
       "      <td>2015</td>\n",
       "      <td>8T03C193065</td>\n",
       "      <td>PAS</td>\n",
       "      <td>1968</td>\n",
       "      <td>CONV</td>\n",
       "      <td>GAS</td>\n",
       "    </tr>\n",
       "    <tr>\n",
       "      <th>1</th>\n",
       "      <td>12032</td>\n",
       "      <td>44</td>\n",
       "      <td>1</td>\n",
       "      <td>Good</td>\n",
       "      <td>OZONE</td>\n",
       "      <td>2015</td>\n",
       "      <td>8T01C214689</td>\n",
       "      <td>PAS</td>\n",
       "      <td>1968</td>\n",
       "      <td>2DSD</td>\n",
       "      <td>GAS</td>\n",
       "    </tr>\n",
       "    <tr>\n",
       "      <th>2</th>\n",
       "      <td>12032</td>\n",
       "      <td>44</td>\n",
       "      <td>1</td>\n",
       "      <td>Good</td>\n",
       "      <td>OZONE</td>\n",
       "      <td>2015</td>\n",
       "      <td>7T03S242307</td>\n",
       "      <td>PAS</td>\n",
       "      <td>1967</td>\n",
       "      <td>CONV</td>\n",
       "      <td>GAS</td>\n",
       "    </tr>\n",
       "    <tr>\n",
       "      <th>3</th>\n",
       "      <td>12032</td>\n",
       "      <td>44</td>\n",
       "      <td>1</td>\n",
       "      <td>Good</td>\n",
       "      <td>OZONE</td>\n",
       "      <td>2015</td>\n",
       "      <td>6MPCT01Z8P8644612</td>\n",
       "      <td>PAS</td>\n",
       "      <td>1993</td>\n",
       "      <td>CONV</td>\n",
       "      <td>GAS</td>\n",
       "    </tr>\n",
       "    <tr>\n",
       "      <th>4</th>\n",
       "      <td>12032</td>\n",
       "      <td>44</td>\n",
       "      <td>1</td>\n",
       "      <td>Good</td>\n",
       "      <td>OZONE</td>\n",
       "      <td>2015</td>\n",
       "      <td>57548132568</td>\n",
       "      <td>PAS</td>\n",
       "      <td>1962</td>\n",
       "      <td>UTIL</td>\n",
       "      <td>GAS</td>\n",
       "    </tr>\n",
       "  </tbody>\n",
       "</table>\n",
       "</div>"
      ],
      "text/plain": [
       "     zip  AQI  Category Number Category Name Pollutant  Year  \\\n",
       "0  12032   44                1          Good     OZONE  2015   \n",
       "1  12032   44                1          Good     OZONE  2015   \n",
       "2  12032   44                1          Good     OZONE  2015   \n",
       "3  12032   44                1          Good     OZONE  2015   \n",
       "4  12032   44                1          Good     OZONE  2015   \n",
       "\n",
       "                 vin registration_class  model_year body_type fuel_type  \n",
       "0  8T03C193065                      PAS        1968      CONV  GAS       \n",
       "1  8T01C214689                      PAS        1968      2DSD  GAS       \n",
       "2  7T03S242307                      PAS        1967      CONV  GAS       \n",
       "3  6MPCT01Z8P8644612                PAS        1993      CONV  GAS       \n",
       "4  57548132568                      PAS        1962      UTIL  GAS       "
      ]
     },
     "execution_count": 4,
     "metadata": {},
     "output_type": "execute_result"
    }
   ],
   "source": [
    "#make merged vehicle and aqi data frames for each year\n",
    "#2009\n",
    "\n",
    "vehicle_09 = vehicle_data.loc[vehicle_data['model_year'].astype(int) <= 2009]\n",
    "\n",
    "aqi_group = aqi_df.groupby('Year')\n",
    "\n",
    "aqi_2009 = aqi_group.get_group(2009)\n",
    "\n",
    "aqi_2009\n",
    "\n",
    "vehicle_aqi_09 = pd.merge(aqi_2009, vehicle_09, on=['zip','zip'], how=\"left\" )\n",
    "vehicle_aqi_09\n",
    "\n",
    "#2020\n",
    "\n",
    "vehicle_20 = vehicle_data.loc[vehicle_data['model_year'].astype(int) <= 2020]\n",
    "\n",
    "aqi_group = aqi_df.groupby('Year')\n",
    "\n",
    "aqi_2020 = aqi_group.get_group(2020)\n",
    "\n",
    "aqi_2020\n",
    "\n",
    "vehicle_aqi_20 = pd.merge(aqi_2020, vehicle_20, on=['zip','zip'], how=\"left\" )\n",
    "vehicle_aqi_20\n",
    "\n",
    "#2015\n",
    "\n",
    "vehicle_15 = vehicle_data.loc[vehicle_data['model_year'].astype(int) <= 2015]\n",
    "\n",
    "aqi_group = aqi_df.groupby('Year')\n",
    "\n",
    "aqi_2015 = aqi_group.get_group(2015)\n",
    "\n",
    "aqi_2015\n",
    "\n",
    "vehicle_aqi_15 = pd.merge(aqi_2015, vehicle_15, on=['zip','zip'], how=\"left\" )\n",
    "vehicle_aqi_15.head()\n",
    "\n"
   ]
  },
  {
   "cell_type": "code",
   "execution_count": 5,
   "metadata": {},
   "outputs": [
    {
     "data": {
      "text/html": [
       "<div>\n",
       "<style scoped>\n",
       "    .dataframe tbody tr th:only-of-type {\n",
       "        vertical-align: middle;\n",
       "    }\n",
       "\n",
       "    .dataframe tbody tr th {\n",
       "        vertical-align: top;\n",
       "    }\n",
       "\n",
       "    .dataframe thead th {\n",
       "        text-align: right;\n",
       "    }\n",
       "</style>\n",
       "<table border=\"1\" class=\"dataframe\">\n",
       "  <thead>\n",
       "    <tr style=\"text-align: right;\">\n",
       "      <th></th>\n",
       "      <th>Zipcode</th>\n",
       "      <th>Number of Cars</th>\n",
       "      <th>AQI Mean</th>\n",
       "    </tr>\n",
       "  </thead>\n",
       "  <tbody>\n",
       "    <tr>\n",
       "      <th>0</th>\n",
       "      <td>10001</td>\n",
       "      <td>4402</td>\n",
       "      <td>64</td>\n",
       "    </tr>\n",
       "    <tr>\n",
       "      <th>1</th>\n",
       "      <td>10002</td>\n",
       "      <td>11137</td>\n",
       "      <td>64</td>\n",
       "    </tr>\n",
       "    <tr>\n",
       "      <th>2</th>\n",
       "      <td>10003</td>\n",
       "      <td>5451</td>\n",
       "      <td>64</td>\n",
       "    </tr>\n",
       "    <tr>\n",
       "      <th>3</th>\n",
       "      <td>10004</td>\n",
       "      <td>1078</td>\n",
       "      <td>64</td>\n",
       "    </tr>\n",
       "    <tr>\n",
       "      <th>4</th>\n",
       "      <td>10005</td>\n",
       "      <td>1029</td>\n",
       "      <td>64</td>\n",
       "    </tr>\n",
       "    <tr>\n",
       "      <th>...</th>\n",
       "      <td>...</td>\n",
       "      <td>...</td>\n",
       "      <td>...</td>\n",
       "    </tr>\n",
       "    <tr>\n",
       "      <th>1159</th>\n",
       "      <td>14898</td>\n",
       "      <td>797</td>\n",
       "      <td>45</td>\n",
       "    </tr>\n",
       "    <tr>\n",
       "      <th>1160</th>\n",
       "      <td>14901</td>\n",
       "      <td>6573</td>\n",
       "      <td>45</td>\n",
       "    </tr>\n",
       "    <tr>\n",
       "      <th>1161</th>\n",
       "      <td>14903</td>\n",
       "      <td>5202</td>\n",
       "      <td>45</td>\n",
       "    </tr>\n",
       "    <tr>\n",
       "      <th>1162</th>\n",
       "      <td>14904</td>\n",
       "      <td>8161</td>\n",
       "      <td>45</td>\n",
       "    </tr>\n",
       "    <tr>\n",
       "      <th>1163</th>\n",
       "      <td>14905</td>\n",
       "      <td>5492</td>\n",
       "      <td>45</td>\n",
       "    </tr>\n",
       "  </tbody>\n",
       "</table>\n",
       "<p>1164 rows × 3 columns</p>\n",
       "</div>"
      ],
      "text/plain": [
       "      Zipcode  Number of Cars  AQI Mean\n",
       "0       10001            4402        64\n",
       "1       10002           11137        64\n",
       "2       10003            5451        64\n",
       "3       10004            1078        64\n",
       "4       10005            1029        64\n",
       "...       ...             ...       ...\n",
       "1159    14898             797        45\n",
       "1160    14901            6573        45\n",
       "1161    14903            5202        45\n",
       "1162    14904            8161        45\n",
       "1163    14905            5492        45\n",
       "\n",
       "[1164 rows x 3 columns]"
      ]
     },
     "execution_count": 5,
     "metadata": {},
     "output_type": "execute_result"
    }
   ],
   "source": [
    "#count how many cars are in zipcode\n",
    "\n",
    "#2009 zipcode count\n",
    "\n",
    "cars_per_zip9 = vehicle_aqi_09.groupby('zip').agg({\"vin\": \"count\", \"AQI\": \"mean\"})\n",
    "\n",
    "cars_per_zip9 = cars_per_zip9.reset_index()\n",
    "\n",
    "cars_per_zip9.columns = ['Zipcode', 'Number of Cars', \"AQI Mean\"]\n",
    "\n",
    "\n",
    "\n",
    "#2020 zipcode count\n",
    "\n",
    "cars_per_zip20 = vehicle_aqi_20.groupby('zip').agg({\"vin\": \"count\", \"AQI\": \"mean\"})\n",
    "\n",
    "cars_per_zip20 = cars_per_zip20.reset_index()\n",
    "\n",
    "cars_per_zip20.columns = ['Zipcode', 'Number of Cars', \"AQI Mean\"]\n",
    "\n",
    "\n",
    "\n",
    "#2015 zipcode count\n",
    "\n",
    "cars_per_zip15 = vehicle_aqi_15.groupby('zip').agg({\"vin\": \"count\", \"AQI\": \"mean\"})\n",
    "\n",
    "\n",
    "cars_per_zip15 = cars_per_zip15.reset_index()\n",
    "\n",
    "cars_per_zip15.columns = ['Zipcode', 'Number of Cars', \"AQI Mean\"]\n",
    "\n",
    "\n",
    "\n",
    "\n",
    "\n",
    "\n",
    "cars_per_zip9\n",
    "cars_per_zip15\n",
    "cars_per_zip20\n",
    "\n",
    "\n",
    "\n",
    "\n"
   ]
  },
  {
   "cell_type": "code",
   "execution_count": 16,
   "metadata": {},
   "outputs": [
    {
     "name": "stdout",
     "output_type": "stream",
     "text": [
      "r-value = -0.30908174171411174\n",
      "r-squared value = 0.09553152306102888\n"
     ]
    },
    {
     "data": {
      "image/png": "iVBORw0KGgoAAAANSUhEUgAAAX4AAAEWCAYAAABhffzLAAAABHNCSVQICAgIfAhkiAAAAAlwSFlzAAALEgAACxIB0t1+/AAAADh0RVh0U29mdHdhcmUAbWF0cGxvdGxpYiB2ZXJzaW9uMy4yLjIsIGh0dHA6Ly9tYXRwbG90bGliLm9yZy+WH4yJAAAgAElEQVR4nOydeXxV1bX4v+tmTghTmBLmEBRRIWRQAessrXNf1T5FW7S189zXV5kCaKtV+9rXPrXW9qeV4thaq7Z1KPaprxUtSQDrgEhUIGCUGRRCknvv+v2xzskdcu/NBRKCZH8/n/PJvXtYe+19TtY5d5+19xJVxeFwOBy9h0BPK+BwOByOQ4sz/A6Hw9HLcIbf4XA4ehnO8DscDkcvwxl+h8Ph6GU4w+9wOBy9DGf4HQCIyBUi8tee1iMRIrJORM7qaT0OJ0TkQxEp7Wk9fETkNBHZGPX9NRE5rQdV8vW4SkT+0dN6HG4c0YbfMxjvi0hBVNo1IvKcGP8nIgvi6swSkbdEJD+JzI979T4QkS0i8ryIXNiFOquI7PH+sbeJyN9E5N+7Sn4yVPU+VZ0Rp0dZd7fbVYjIIk/nE3pal65CRMaKSFhEfhGfp6p9VPXt/ZR3vogs966vbSJyr4gM7zqNY/Q7VlWf89pdJCL3Hqgs7//1mi5T7iARkRwRuUtE1nt2YKWInBNX5kwReUNE9orIsyIyOipPRORm7xxsE5FbRESi8qd55+kDEfmXiJzc1X04og2/RybwrfhEtZVrnwe+KyLHAojIYOC/gGtUdW98HRG5BPg98FtgBDAUWABcsL9KiUhmiuzJqtoHOBq4B7hNRBbubxu9Be+f5jPAdmBWN7WR0R1yO+GzwA7gMhHJSbdSIl29a/d+4OfAIOBYoBX4u4j07xp1ew2ZQCNwKtAPqAF+JyJjAERkEPCIlz4QqAMeiqr/ReCTwGRgEnA+8CWv7kDgceDHQH/gFuBPIjKgS3ugqkfsAawDZmMGob+Xdg3wXFSZ/wRewm6CDwC/TCJLgA3Af6Zobxzwv8A2YCtwn99ulD7XAv8CWoDMBDIUKItLuwTYBxR53/sBdwFNwCbgh0CGl3cV8A/sBrYDeAc4J0rWVcDbwAde3hXR9bzP/+fpsQf4EPh34FXggig5WV4fyxP0YQDwZ2CLp8OfgRFR+c8BPwBe8PT4KzAoKv8zwHpvHOd543ZWinE/BWgGrvTqZHvpTwFfjyv7MvAp7/MEYKl3fawBPh1V7h7gDuAJbxzOAs4DVgK7sX/8RXGyPxuld0203t71NRt4y8v/HTCwk+v3LeArwPvAJcmuk0S6Jrh21wPfj0sPeOd1ofd9EXBvVP4Yr51M7/vVwGrvnL0NfCmq7GnAxrhr/SzgE9gNps27ll4GLgXq43T5D+DRJOPwHPYw1t6OV34z9j9wdVTZIsxw7gaWY9fZP6LyE55z7H93O1DhfS/Bru/T0rQ1/wIu9j5/EVgWlVeAXZ8TvO/LgC9G5X8eeMn7fD7wWpzsN4HP76/9S6lvVwo73I6oi+8R4IdeWrzhzwD+6ZXZABQmkTXB+ycYm6K9MuBsIAcYjBnQn8XpswoYCeQlkZHI8GcBQTwDDjwK3OldUEO8C/xLXt5V3j/ZF7y+fQV4F/vnL/D+IY72yhYDx0bV+0cyPYDvAw9Ffb8IeCVJH4qAi4F8oBD7lfRoVP5zmFE7Csjzvt/k5U3EDMQp3jj+1Ot7KsN/F2ZIszCj6hv2zwIvRJWbCOz05BZgxvtq7AmuAvtH98fjHmAXMB0zkLmY0Tne+z4JM8ifjNP7ZCAbu/G2ETH838YeMEZ47d8JPJCiTx/DHg4GALcCjye7ThLpmu61C1znjxGdG/7zMAMp2NPuXiKG8jQSGP4kcnMwI3tMVNpKPMOZQMfniDX8QeB673yf6+kxwMt/0LsWCoDjsAcj/4Gms3P+BezGlg88DfxXmnZmKPZg5hv2nwN3xJV5lciNYRdwYlReFfCB9/kC4PW4umuB/z5YexgjsyuFHW4HEcN/nDfYg4kz/F65Y70L/KIUsqZ7ZXL3o/1PAivj9PlcJ3U6GH4v/T3gCu8iayHqxgFcDjzrfb4KaIjKy/dkDvMu/J2YUc6Lk38VqQ1/Cfak19f7/jBxT5Ap+lQO7Ij6/hwwP+r7V4GnvM8LgAej8gqwJ8aEht/r324iBvhO4DHvcyH2BDza+34DcLf3+d+Bv8fJupPI0+89wG876dfP/H9IT+8H4vRq1xszKGdG5RdjN4YOv/q8/P+Hd7MEpnplhyQ6P53pit2MEl67wJeBN73Pi0hh+BPUfRT4lvf5NNI0/F7aHcANUf9/O4CcJO08R6zhb47WCXvyPwl70GnDM8Be3o1EDH/Kc+59fxx4BXuCT6hPXP0s4Bngzqi0u/AeZKLSXgCu8j6H4nQc742zYA9NO7H/6Sxs6jIcLb8rjt4wx4+qvopNN8xOkv+a9/G1RPke27y/xckKiMgQEXlQRDaJyG7gXmw+NZrG9LSOkZuF3bS2A6OxC6JJRHaKyE7s4h0SVeU9/4NG3lX0UdU92MX/Za/+X0RkQjo6qOq72MV7sTcnfA42lZVI33wRudN7+bUb++XTP27u+b2oz3uBPt7nEqLGyNN5G8n5N+wJ8Anv+33AOSIyWFU/AP4CXOblXRal82jgRH8MvXG8ArtB+sScKxE50XtRt0VEdmHj6J/feL33xuk9GvhjVFurMQMwNL5DIpKHTYfc58l6Efs1OjPFOKS6rrZ6fxNdu8XYlFyniMg5IvKSiGz3+nAuHa/vdFkMzIx6P/M7VW1Js+42VQ1Gffevn8FE5t991kd9Tuec/xp7ULy1M31EJAAswW7wX4/K+hDoG1e8L/bglCi/L/ChGtuwX9PfxX5RfgK7sWykC+kVht9jIfZT7kC9GNZgF9TFKcr8CLtzT1LVvtics8SV0QNo+yLMuC33dGjB5sT7e0dfVT02HUGq+rSqno39w7+BXejpshjr06XAi6q6KUm5/8BeTJ/ojcMpXnr8WCSiCZsKswrmXVWUovws7J9+g4i8h00rZWFPTGDvbS4XkanYtNKzXnoj8HzUGPZX85T5SpTs+HN1P/ZEOFJV+wG/jOpTEzaN4+udF6d3IzZVF91ebpIx/DfMGPxCRN7z+jUcm7pKRqrrag1mOC6NTvQM18XA817SHuyXis+wqLI5wB+wKayhqtofu9mmc0476KaqL2EG82PYDW1JGnI6Ywv2fzIyKm1U1OeU51xE+mC/4u4CFnkvWhPi3bDuwm7cF6tqW1T2a9iLW79sATZF9lqifO9z+0Onqj6vqtWqOhC7KR6N/e93Gb3G8KtqA/Zm/ZsHWF+xu3CNiFwtIn1FJCAiJ4vIr7xihdjdfKfnJvefB6OziAwUkSuA24GbVXWbqjZhL0N/EqXDOBE5NQ15Q0XkQu9CbPF0DSUp/j4Q7yf+KDYv+i3MsykZhdjP8Z3eP8/CznSL4mHgfG9cs7G53ITXqTfGZ2IvxMq9YzJwMxHvniewJ73rsXcUYS/9z8BRIvIZEcnyjmoROaaTfm1X1X1ibqPRT+APAxd4rnjZ2Nx5tFH8JXCD79YnIoNF5KIk7cwC7sbeJ/j9mg6Ui8jxKfRLiHftfg+YLyIzRSRPRIZh00mDsHcIYO+fThGRUSLSD5gTJSYbm5vfAgQ998UZpMf7wBjvRhPNb4HbgKCqHrSvvaqGsHd1i7xfnROJ9fLq7Jz/HHvpfA32S/GXKZq7AzgGc3hojsv7I3CciFwsIrnYNOC/VPUNL/+3mDfhcBEpwR6U7vEri8gUT7e+2I12o6o+vd8DkoqunDc63A7ivEGwJ4F9xM3xe3kJ59YTlPsE8HfMaG7B5h/P08hcZb2Xt8o7oQnnPVPIVyLeNNuxJ9SZcWX6YRfeRuzdxUrgMi/vKqLm6qP7hj3lP+/V2enpPjFRPbzpIK9ctLfL//P065OiDyWe7A8xj4QvEfuS8Dm8Odskbc/CpjZSevVgU3f1SdpvA47zvt/ltV8dV+5o7B98i9fW/+J5KWH/iD+MK38JNnXwAWZEbiN2TvyqKL1rsBeLH/PyAtiDwxqv/lvAjQl0H449tR6fIO8JvBeOdJzj/2F8+QT1LwJqsakRxeayj44rc7t3zhuwX8jR5+1rmBHfiT2hP0jEaeI0ks/xF2GeZjuAFVFlRmHz19d1onf79RLfToK2BnvnJplXT8Jz7o3NJjxPK+xXZAOe11tce6O9cdmHXeP+cUVUmbOwX9TNnv5jovIEc9Pc7h23ABKV/wD2P7oLe1gdkmp8DuQQryGHIy3EFrwdpapX9rQuhzPetMFOYLyqvtPT+sQjIjMwA3Omqq7qIR3ysBezFaq6tid06K30mqkex8HjTdt8HvhVZ2V7IyJygTfFUID9RH8Fexo97FDVv2K/UE7qQTW+AtQ6o3/oSbV61OFoR0S+gL34WqKq/9fT+hymXIRNgQi2WvMyPYx/Uqvqn3qqbRFZh43TJ3tKh96Mm+pxOByOXoab6nE4HI5exkdiqmfQoEE6ZsyYnlbD4XA4PlLU19dvVdXB8ekfCcM/ZswY6urqeloNh8Ph+EghIusTpbupHofD4ehlOMPvcDgcvQxn+B0Oh6OX4Qy/w+Fw9DI+Ei93D4RwOMzixYtZtGgRGzZs2K+6mZmZ9O3bl0GDBrFz507a2tooLCykra2NnTt3EgwGyc3NZcSIERQUFCAi9O3bl4EDBzJgwAB27drFoEGD+OxnP0sgEOCtt95i3LhxBINBampqWLduHVlZWWRmZjJ9+nRuvfVWMjMzCYfD3HfffTzxxBMUFRUxa9YsqqqqAFixYgVr164lGAySkZFBKBQiIyODYDDIhg0baGpqori4mMbGRt566y1CoRD79u1jxIgRfO9736O6uppwOMyNN97IsmXLGDNmDCeffDKqSmZmJmVlFl63oaGBYDAYk/bWW29RVlZGRUUFIulsxhhBVVmxYgUNDQ1JZYTDYe6//35qa2uprq5m5syZBAKBlDKix6StrY3GxkZEhLPPPpvKysr2/FTtdqZbOro7HB9FPhILuKqqqnR/vHpWrVrF6adX09ISJBCAzEzIz4fJk2HlSlCF5mZLmzLF0gIBCIWgpcX+hsNQWAjHHQd1dZCbC+XlsGoV7NsHVVXw6qsmJyvLZIbDkJMTkdncbOknnpjHSy81EwhAXl5sm21t0NoKc+b8iP/6r0UEgy0xug4dWkpOTi7vvfcO4XALwWC4vb6q6eLLfPll2LvX9M/NhRNPNN2bm6GoaBhbt75Hfr7p7qdnZ8MJJwRYsUJpblby84VwWKmstLSWFpg+PZ/XXoOSkjJ+//snKS5OGpIghqamJi699BzefbeBqqoAdXXhDjJWrVrFxz8+FZF9VFdDbS2o5vL00y9SXl6eUMagQaMRgc2b1zFx4j7q68O0tNgYvPGGUFw8noyMTLZuXZ+03c50S0d3h+NwR0TqVbWqQ0ZX7/rWHUdlZaWmSygU0qKibO3bFy0sRMeORWtq0FDIxIVC6Jw5aGkpGgxG0hYsQKdPR+fPt7z+/dHWVnTatI71a2qsbDCIzpuHDhyIDhqEzp0bW27ePHTAAMsfMMC+R+f7bc6di/btm1zXsWPRqVNj84JB03POnI66lZaa3uFwrB5jxsT2ed48az8cjsiL70N0XxcsyNTp0ydrOBzu9DyEw2GdNm2yLliQGdfniIxQKKRDhuR2GJd589AhQ3I1GAx2kJGOnnPmoOPGxZ/fSLud6RYKhTrV3eH4KADUaaIdTxMlHm7H/hj+JUuWaL9+aJ8+ZnBLSyMGwj9CIXT0aLSuLjZt7Fh0+XL7O3Agev31yeuPHWv1QyF06FAz3MuXdyw3dChaUIAOG5ZczvLlVm748MRlhg0zox2dV1fXMS1aZklJpH++HkVFiftcV2dHOn0dO7ZA6+rqOj0PdXV1WlpakESeyViyZEnScRk6FL3++us7yEhfz0R9tXY7023JkiWd6u5wfBRIZviPuJe7tbW1DBhgUx2jRkFlpU2pRBMI2LRNQ0NsWmUlvP22/R09GpYtS16/stLqBwI2dTJwoNWNL1dRYVMxVVXJ5bz9tpUbOTJxmREjTN/ovIaGjmnRMkeOjPTP17Ffv8R9bmiwI52+VlYGaIgWkoSGhgYqKwNJ5JmM2trapONSVQXLli3rICN9PRP11drtTLfa2tpOdXc4PsoccYa/urqa7dtt/nrDBpvLDodjy4TDNlfvvbtsT6uvh9JS+7t+PUyblrx+fb3VD4etzPbtVje+3IoVpkttbXI5paVWbsOGxGU2brQ5/ei8srKOadEyGxsj/fN13LUrcZ/LyuxIp6/19eH2l76pKCsro64unESeyaiurk46LnV1MG3atA4y0tczUV+t3c50q66u7lR3h+OjzBFn+GfOnElWVjYZGfbiFGDRooihCIdh3jzIyLAnZj9t0SIoKYHHHgMRS5s9G4qLO9ZfuNDKlpdDTY29nM3OhkcfjS3n5+Xk2N8FC2Lz/Tb/+Ee7OeTkJNY1L8/KReeVl1sf5s/vqJsIjBljvyKi9SgsjO1zTY3JraiwdBFLS9bXRYsyKSmJeNWkoqKiguLiMq67LjOuzxEZM2fORDW3w7jU1NgL3rlz53aQkY6e8+ZFftUlarcz3WbOnNmp7g7HR5le5dUzaZI9JYMZWt8bZtWq5F49xx5rT485ORGvnpaW1F49frlkXj1+frRXz/z5t3DzzTXtXj2TJlmZoUPHkZOTE+PV49dXz6snN9f68a9/xXr1nHCC6d7cDIMGFbNlSxP5+TYN4qdnZ0N1tXheSBGvnooKS4v36nn44acYNmxY6hPgEe0ZU1kZoL4+3EFGtFeP722kmsvSpf9k0qRJCWWYV4+wefM7HHNMc7v30ZQpsHq1UFJyFBkZGWzduj5pu53plo7uDsfhTjKvniPS8MOB+/GLCFlZWe1+/Dt27KC1tZV+/frR2trKjh07CIVC7X78hYWFqGoHP/6ioiKuuuoqRISGhgbGjRtHKBRi/vz57X782dnZTJ06lTvuuKNd52g//quvvprKykpUNcaPPzMzs/2v78P+7rvvUlxczMaNG3nrrbcIBoO0tLQwfPhwrr32WiorKwmFQjF+/KeeeirBYJCsrCzGjRuHiLS3EZ3m+7H7/vH7g697KhnxfvxXXnllpzKix6StrY2NGzcCMGPGjJj8VO12ViYdGQ7H4UyvM/xtbW1ccMEFPP10esHpJ02aRFlZGRs3bmTv3r3k5uZSWFhIRkYG/fr1Y8eOHWzevJlhw4Zx6qmn8olPfCLhQqEpU6awcuXKDouN6uvrWbp0KQBnnXUWIpJ0YZSqxpT3FyUdLouH4g2ir3+ydIfD0TP0iOEXkW8BX8BCrP1aVX/mxW19CBiDxSP9tKruSCVnfw3/HXfcwfe+91WysmIXbjU323RMXp5N/4TDsYutsrNjFz1lZtp0ycqVNqUyZQqsWWPTKaowdux4cnKy2LLFFgq99FKQlhYlPz9AdXVG+2KjUChIU9NaysuVVatgzx6bivnYx/qwYoV2WDh00UVn0dCwmrw8ZfJkWLVKGDnyGB599JkeXzyUbGHTbbfdw9e/fpVb8ORwHEYc8gVcwHHAq0A+tjXEM8B44BZgtldmNnBzZ7L2x4+/tbVV+/TpfDHUggUdFw35i5kii4jsc/wCoZoakzNgQGQhUThsi6aiFyMlW2QV31b0wqGpUydpaWlH3efOpccXDyVb+FRTk6FDhuRqTY1b8ORwHE5wqBdwAZcC/y/qew3wfWANUOylFQNrOpO1P4b/4osvTrlwK9FiqPgFQNGLiJYsSbxAqKQkdlFWooVF6Sw2il84NHx4bopFZ3k9ungo2cKn5ctTLVBzC54cjp4imeHvTnfOV4FTRKRIRPKBc4GRwFBVbfJ+bTQBQxJVFpEvikidiNRt2bIl7UZra2sZOTL5Ip9Ei6H8vOhFP/4iotrajvmBgC2QqqiIyEm0sCidxUaR74FOdS8v1x5dPJRs4dPbb6daoOYWPDkchxvdZvhVdTVwM7AUeAp4GQjuR/1fqWqVqlYNHtwhZGRSqqurUy7cSrQYys+LXvTjLyKqru6YHw7bAqn6+oicRAuL0llsFPke7lT3VaukRxcPJVv4VFqaaoGaW/DkcBxudOsCLlW9S1UrVPUUYDuwFnhfRIoBvL+bu7LNBx54IOXCLX8x1HXXdVw05C9miiwigpkzOy4QWrgwsijLX0hUUWGLvaIXI/mLjeIXWcW3Fb1waPTooxDpqPv8+TBixFE9ungo2cKnxx/PQDWXRYvcgieH46NAd3v1DFHVzSIyCvgrMBWYC2xT1ZtEZDYwUFW/n0rOwXr1+IuhEnn1RC+2si2KI4ubMjLsu78Vc2Kvnmy2bFlHZWWAf/4z4tVTVZXRvtgoFArx7rtvUl6uvPyyefXk5MApp0S8eqIXDkV79ZjuwqhRE3nssWd6fPFQsoVNt9++mK99bZZb8ORwHEb0lDvn34EioA34rqr+TUSKgN8Bo4ANwKWquj2VnEPhx19VVcWYMWNobGxkz5495OfnU1hYSCAQiPHjHzp0KGeccUbShUIVFRUJFxvF++WnWhgVX95v63Ahvs++bsnSHQ5Hz9DrFnA5HA5HbyeZ4T/iNmlzOBwOR2qc4Xc4HI5ehjP8DofD0ctwht/hcDh6Gc7wOxwORy/DGX6Hw+HoZTjD73A4HL0MZ/gdDoejl+EMv8PhcPQynOF3OByOXoYz/A6Hw9HLcIbf4XA4ehnO8DscDkcvwxl+h8Ph6GU4w+9wOBy9DGf4HQ6Ho5fhDL/D4XD0Mpzhdzgcjl6GM/wOh8PRy3CG3+FwOHoZzvA7HA5HLyOzO4WLyHeAawAFXgGuBvKBh4AxwDrg06q6o6vbDoVCXHvttfzkJz/patFkZmaiqgQCAfLz82lrayMcDiMiZGZmEggEyMrKok+fPgwZMoSRI0eyY8cO3nnnHT788ENEhGOPPZaPfexjrFmzhlAohKqya9cuVBURYefOnezbt48JEyZw3nnnsWnTJpqamigpKWHEiBE0Njby7rvvtpcfPnw4M2bMoKKigpUrV7J27VqCwSCZmZmMGzeO1atX8+STT1JUVMSsWbOorKxkxYoVLF26FFVlxIgRbNy4ERHhrLPOAuCZZ54B4Oyzz6ayshKAFStW0NDQQFlZGRUVFYhI0nFSVVasWBGjy/jx41PW8+v4bUyZMoWVK1em3ebBEN92V7XVXXIdjgNFVLV7BIsMB/4BTFTVZhH5HfAEMBHYrqo3ichsYICqXptKVlVVldbV1aXd9tKlS/n4x2fQpw9kZ9vR0gLhMOTkQFUV1NVZWiAAoRBMmQKrV9v3lhYIBiEvD0pL4bXX7LNfr7nZ6vTtC0cfDStXmtyKCnj55Ui+KhQUmOyVKyNttbTY3/x8qxOtS34+TJ5s5fftg4wMaG21dBGTtWKFlc/JiaStXAktLUJGRjZ5eQFUWwgGw1RUBFixIkxzM+TmRtoLh7NRbSMvT5k0KdLescfC66/H90cYNaqMnJwstmxZT1VVgLq6MCUlZfz+909SXFzc4Rw0NTVx6aXnsGHDm4TDpktlZYDXX89l+PDxCev5dd59t4GqqgAvvRSkpUXJzw9QXZ3RaZsHQ3zbXdVWd8l1ONJBROpVtapDhqp2ywEMBxqBgdgviz8DM4A1QLFXphhY05msyspKTZdgMKiZmWhhITp7NjptGjp/PjpkCDpvHuo9XGsoZN/99OnT0WAQramJpLW1Ja83YADa2mry586Nza+pQUtL0bFjTaafvmCBtTNnjuUHg2g4jJ50kpWtqYmVM2cOOniw5c2ZE5s3dy46blys/DlzrOzUqdZWvM7Tp9vnqVOt/fj25s61/s6f37E/AwZ01GHBgkydPn2yhsPhmHMQDod12rTJWlOTodOmddSlpqZjPb/OggWZGgrZuEyb1nHsk7V5MMS33VVtdZdchyNdgDpNZJ8TJXbVAXwL+BDYAtznpe2MK7OjMzn7Y/ivv/56BXToUHT5cjNwixejw4ZFDIh/hEJWbvFiM5h1dVbHL7tkSep611+PjhmTOH/sWLSkxGTGpy9fHmmvrg4tLjY9E8kZOBAdNSp5G/Hyhw1LrdOSJejw4cnb88ct3fSxYwu0rq4u5hzU1dVpaWlB+/gn1iW2nl/HL1tXl37dgyW+7a5qq7vkOhzpkszwd9vLXREZAFwEjAVKgAIRuXI/6n9RROpEpG7Lli1pt7ts2TIAKivh7bftb329TdME4nobCFh6fb2Va2iwOn7Z2trk9SorYdkyKC9Pnj9ypMmMT/f1amiwY/hw+55IzqhRNvWTrI14+SNGpNapttb0StZeRYXpl2icEqVXVgZoiFYCaGhooLIy0N7PxLrE1vPr+GUbGtKve7DEt91VbXWXXIfjYOlOr56zgHdUdYuqtgGPANOA90WkGMD7uzlRZVX9lapWqWrV4MGD02502rRpgBnz0lKbz/YNXjgcWzYcjuTX10NZmdXxy1ZXJ69XXw/TptnceLL8xkaTGZ9eWhppr6wMNm705907ytmwAVatSt5GvPyNG1PrVF1tMpO1t2KF6ZdonBKl19eHKYtWAigrK6OuLtw+/ol1ia3n1/HLlpWlX/dgiW+7q9rqLrkOx8HSnYZ/A3CSiOSLuTCcCawGHgdmeWVmAY91ZaNz584lMxP27oVHHoHiYli71l60LlgQMSThMNTUWPqaNVBSYk/Kjz8eKXvZZcnrtbbC7Nn2tF5TE5u/cKG9dM3JMZl++qJF1s4jj1h+ebk9YY8ZY2UWLYqVM2+evdzNzIT582Pz5s+3J8do+fPm2UvokhK47rqOOpeUwMyZMHq0tR/f3vz51t/HH+/Yn9ZW+OMfY9MXLcqkpMS8VKKpqKiguLiMP/0pg+LijrosXNixnl/nuusyCYdtXIqLO459sjYPhvi2u6qt7pLrcBws3ebVAyAi1wH/DgSBlZhrZx/gd8Ao7OZwqapuTyWnq716/Cf8lhYzgOFwYq+e3FwYNy7i1ePXS+bVM2UK/OtfHb16ysvtqT2RV8+UKRFdfK8e38umpaWjV095eSTP9+rx5UCqG9EAACAASURBVCfy6pkyRVi5Utu9evz2fK+e3FyNaW/iRBuH2P4Io0ePJzs7iy1b1lFZGaC+3rxTHn74KYYNG9bhHCTy6qmoCLB6tXn1JKoX7QFTWRngn/+MePVUVWV02ubBEN92V7XVXXIdjnRI5tXTrYa/q9hfww/d68efk5NDKBRq9+MPBoOEQiFEhIyMDDIzM9v9+AcPHsyIESPYuXMn77zzDh988AEZGRlMnDiRU089lddff51QKATAzp07Adr9+FtaWjjqqKO48MIL2/32S0pKGDlyJI2NjWzatKm9fLQff7TvfFZWFqWlpbzxxhs88cQTFBUVcfXVV1NRUUF9fX27H//IkSPZuHEjYH77YDdQgBkzZlBZWYlqrD+679ufDL98tC6d1Ytvw+9Pum0eDPvbv56W63B0Rq8z/A6Hw9HbSWb43ZYNDofD0ctwht/hcDh6Gc7wOxwORy/DGX6Hw+HoZTjD73A4HL0MZ/gdDoejl+EMv8PhcPQynOF3OByOXka3RuDqScLhMPfccw/f/OY32bNnT9r1MjIyEJH27Uv79evHhx9+SCgUIj8/n379+lFcXMyuXbtYv349gUCAY445htLSUgKBAG+//TZr164lIyODU045hU9+8pMx0bNGjhxJVlYW48ePb48utXbtWtra2mhsbEREOPvss5kyZQr33Xcf9957L01NTeTn51NRUcHUqVPJysoiFArFRLSCxNGxwuEw999/P7W1tVRVVTFhwgTefvvtDtGtxo0bB8Bbb72VVuQrVW1f+Qu22teP/pVu9KzoFa3x7ZeXl/PAAw9QW1tLdXU1M2fOJBC/zWUSEq3+dZG0HI4IR+TK3VWrVnHKKZUEg2FEbJOzvLxIpKp9++zzq6/anjz+ZmqrVlleVZVFnmptjY28FV3Pz4uWGR8Rq7kZ2tosPS8vElkrEBAyMnJpbVUyMyEcbqG5WcnPNz38iFy+/OioXuEwFBbaPkB+RKshQ8agClu3xkbHWrjwx1x55YWI7OP4422n0dxcmD69gNracPs+OJWVAZYt28O+fTB9ej6vvqrs3RsmJ0c46aTMDlGjmpqauOiis2hoWE1ennr9EkKhbHJzA5x0Uman0bOi97CpqJCY9letCvPBB/vIzdX2HVJVc3n66Rcp93elS4KLpOVwRDjkEbi68tifQCyhUEgHDszSPn3Qfv0SR46qqbFoVFOndozwdKB5iSJizZuH9u3bMaLV3LkWXcqPsBUdDSscNvmJdC4tRfv37xjxK1Hb8+dnaL9+ovPmWfq0abFtJIpu5fcvGIxE7AqHY6NGhUIhnTp1UsIIXtFRvlJFzwqFQgkjU9XUWL1E42vR0nI1FAolPfcukpbDEQs9EYGrq479MfxLlizRPn3M4PbrlzyC1ujRFomqK/MSRcRKFrlq9GiL/FVUFBtpqq4ueQSt0aOtfDptR0cSi49mlTq6leXHy/SjRi1ZskSHD89NWX/JktTRs5YsWZI0MlVJSfL+Dx2KLlmyJOm5d5G0HI5Ykhn+I+7lbm1tLbm5MGCAHRUViaM4lZdbJKquzEsUEcuPuJVITn297Y0fHWmqoSF5BK3yciufTtvR0a/io1mljm5l+fEy/ahRtbW1KSN4+UFvUkXPqq2tTRqZauTI5P2vqrLzmwwXScvhSI8jzvBXV1fT3Aw7dsD27f7e87FlwmGbz9+woWvzEkXE8iNuJZJTWQnr1sVGmiorSx5Ba9UqK59O29HRr+KjWaWObmX58TL9qFHV1dUpI3j5Ub5SRc+qrq5OGpmqsTF5/+vq7Pwmw0XScjjS44gz/DNnziQnJ4tw2F60trZ2jF61cKHFph09umOEpwPNSxQRq6bGXsrGR7SaP98id61ebYFWoqNhVVRYpKxEOmdkROR21vZjj2Wwb5+wYIGlFxfHtpEoutXChZFIZH7EroqK2KhRM2fOZPTooxJG8IqO8pUqetbMmTMTRqZauNCikZWUJIuWlsvMmTOTnnsXScvhSI9e49XjR5/yPXfivXomT/ajWHX06qmsjHjaxHv1pIqIFe/VM2mSH4kruVfP5MmRiFy+ztFRvaK9evyIVtFePdFRnhYt+i+uuOICRPZx3HHWh9xcmDatgLq6iFdPRYV59bS0dPTqOfHEzA5Ro+K9eqxfEa+eE0/M7DR6VrSXzJQpEtN+tFeP71GlmsvSpf9k0qRJKc+9i6TlcETodYFYwuEwi++6i4Xf/jaNe/emXS8zM7Pdjz8QCFBYWMju3bsJhUL07duXwsLCdj/+devWISIcd9xxjB07FoC3336bhoYGAoEAZ555ZofoWaNGjWqPRBUdLautra09AtaMGTOYMmUK9957b7sff58+fdr9+DMzMztEtFJNHOUp3o9/4sSJCaNbjRs3DhFJO/KVaqwff3T0r/2Rkaz9KVOmtOtdXV3NlVdemfY5TDYWB0t3yXU4uoteZ/gB+O//hu9+1z7/9Kfwne90rWIOh8NxGNM7I3BFzwd/97s2D3PxxTbX43A4HL2UI9vwDx1qk+FNTXDUUZb2yCM24T50qLnIOBwORy/jyDb8PsOGwZo19kb2c5+ztM2bYexY+xXw1FM9q5/D4XAcQrrN8IvI0SKyKurYLSLfFpGBIrJURNZ6fwd0lw4dyMqCu+6yXwF33RVJP+ccuwFcf73lORwOxxFMtxl+VV2jquWqWg5UAnuBPwKzgb+p6njgb973Q8/nPmdGvr4+krZwoTnEz5gBH37YI2o5HA5Hd3OopnrOBN5S1fXARcBiL30x8MlDpENiKirsBrBtmznwAyxdas7y+fnmRO9wOBxHEIfK8F8GPOB9HqqqTQDe3yGJKojIF0WkTkTqtmzZ0v0aDhxom8yEQvDtb1tac7OtqBKBG27ofh0cDofjENDtfvwikg28Cxyrqu+LyE5V7R+Vv0NVU87zH7Af/8Fy++3w9a/Hph1/vC3Vzcg49Po4HA7HftCTfvznACtU9X3v+/siUuwpVQxsPgQ6HBhf+5pNA/3f/0XSXnnF9oAQMTdRh8Ph+IjRqeEXkVwRuUREfi4ivxeR34rI90Xk2DTbuJzINA/A48As7/Ms4LH9U7kH+NjH8DbDiU0vKXHuoA6H4yNHSsMvIouAF4CpwD+BO4HfAUHgJs8dM+muWSKSD5wNPBKVfBNwtois9fJuOpgOHFKKiuwGEA7DaadF0n130JqaHlPN4XA40iXlHL+InKeqf0mRPwQYpardOgHfY3P86XDrrfDNb8amfeEL8Itf2JSQw+Fw9BAHNMefyuh7+Zu72+gf9nzjG/Yr4OWXYYjnoPTrX9tisYkT4f33U9d3OByOQ0xaL3dF5CgR+bWI/FVE/tc/ulu5jxSTJpmR37sXPvUpS1u92raLEIEXX+xZ/RwOh8MjXa+e3wMrgPnAf0Ydjnjy8uAPf7BfAT/9aSR92jS7Adx2W8/p5nA4HKRv+IOqeoeqLlfVev/oVs2OBL7zHbsBPP98JO0b37AbwGWXWZgth8PhOMSka/j/JCJfFZFib5O1gSIysFs1O5I45RS7AWzaFIle/tBDFgdxxAiLMO5wOByHiHQN/yxsamcZUO8dvful7oFQUgJr19r20FddZWmbNsGoUfYr4JlnelQ9h8PRO0jL8Kvq2ARHaXcrd8SSlQW/+Y39CvjVryLpZ59tN4Abb3TbQzscjm4j7S0bROQ4Efm0iHzWP7pTsV7DF75gRr62NpI2b55tD33uubBnT8/p5nA4jkjSdedcCNzqHacDtwAXdqNevY+qKrsBbNliW0UDPPkk9OkDffvaFJHD4XB0Aek+8V+C7an/nqpeDUwGcrpNq97MoEEWHCYYjKwI/uADixksAo8d/lsbORyOw5t0DX+zqoaBoIj0xXbUdHP83UlGBvz85/Yr4IGoPe4++Um7AcyebXsGORwOx36SruGvE5H+wK8xj54VwPJu08oRy2WX2Q3g1Vcj+//cfLPdHE4+GXbu7Fn9HA7HR4p0vXq+qqo7VfWX2I6as7wpH8eh5Nhjoa0Ndu2K7A76wgswYID9CnjllR5Vz+FwfDRI9+WuiMiVIrJAVdcBO0XkhO5VzZGUvn3h2Wdtqmf+/Ej6pEl2A7jvvp7TzeFwHPakO9XzC2xP/su97x8At3eLRo70EYEf/MCmgf70p0j6lVda3le/ajGEHQ6HI4p0Df+Jqvo1YB+Aqu4AsrtNK8f+c/75dgNoaLDA8QB33GHvBCZNMjdRh8PhIH3D3yYiGYACiMhgwLmUHI6MGwfbttnCrwu9pRavvGKxAkTgn//sWf0cDkePk67h/x/gj8AQEbkB+AdwY7dp5Th48vPN5z8chltuiaSfdJLdAH75y57TzeFw9CgpQy/GFBSZgC3iEuBvqrq6OxWL5rAOvfhR4tln4YwzYtOuuALuvhuy3cydw3GkcUChF+N4H/g7tkNnnohUdJVyjkPE6afbe4DGRhgzxtLuuw9ycuz7xo09qZ3D4ThEpOvO+QPgX9iUz0+847+6US9HdzJiBLzzjgWCufJKS1u/HkaOtGmgZ5/tWf0cDke3ku4T/6eBcap6mqqe7h1ndFZJRPqLyMMi8oaIrBaRqV4Ql6Uistb7O+DguuA4YLKzYckS+xVwxx2R9DPOsBvALbe47aEdjiOQdA3/q0D/A5D/c+ApVZ2Abey2GpiNvSMYD/zN++7oab78ZTPyL70USbv2Wtse+sILLYi8w+E4Ikjr5a6IVAGPYTeA9kCxqpp0a2ZvM7eXgVKNakRE1gCnqWqTiBQDz6nq0anady93e4AtW+Css+Bf/4qkDRhgcQPGjes5vRwOR9oc7MvdxcDNwE1E5vh/0kmdUmAL8BsRWSki/09ECoChqtoE4P0dkkThL4pInYjUbXGLjw49gwfDyy/b9tBf/aql7dhhMYNF4M9/7ln9HA7HAZOu4d+qqv+jqs+q6vP+0UmdTKACuENVpwB72I9pHVX9lapWqWrV4MGD063m6GoyMuD2220a6N57I+kXXGA3gPnz3XsAh+MjRmaa5epF5EfA48RO9axIUWcjsFFV/aWiD2OG/30RKY6a6tl8AHp3SjAY5Ctf+QoPPfQQH3zwAQAZGRlkZWWxb9++DuXz8/MB2LdvH5mZmQQCAVpbW1FVRASAPn36UFxczPbt29m1axeZmZlkZ2ezd+9eAoEAWVlZFBQUtMvJysoiOzubrKwsVJXdu3cTDAYpKioiLy+PrVu3AjBkyBCmTZvGyJEjeeWVVxAR2traePfddykoKGDAgAFs9FwtS0pK2LFjB42NjbS0tNC3b1/Gjx/Pe++9x9atWxkwYAClpaUcc8wxbN68me3btzNhwgRee+011qxZw+DBgzn66KMZMWIEM2bMoLKyknA4zA9/+EMefvhh9uzZg4iQn59PWVkZWVlZ7Nixg4EDB3L++edzRShE4LXXbBsIgBtugBtu4M3iYn54wgmsaWpi79695OXlMXr0aMrLyxk1ahRZWVmMHz+eKVOmsHLlShoaGhg3bhyqytKlS1m5ciU7d+5EVRk0aBDnnXceV1xxBYFAAFWlvr6ev/71r2zatIlwOMzatWvZu3cvn/jEJ5g9ezY33XQTTz31FAUFBZx22mmcffbZrFmzhrq6Oqqrq5k5cyYiwooVK2hoaKCsrIyKior2c+ujqtTV1bF48WK2bdvGueeey8yZM1m1ahVr164lGAySmZnJ+PHjk9b32xjnTYmtXbuWhoYGtmzZwgknnMDMmTMJBAKEw2Huv/9+amtr23UMBALtcurr61m6dCkAZ599NpWVlR3aS4Svg69vRkYGwWCQxsZGRKRdFtBhPBKlpdPmkUr0+ezO8UjUDnTfuUh3jj+Rf5925tkjIn8HrlHVNSKyCCjwsrap6k0iMhsYqKrfTyVnf+f4H3zwQb74xcvJz4cpU2zGornZdjTOyIC8vEj63r3mxh4OW/7EibB6taWVl8OqVVYmNxdaW+1vtMxQyB54c3PhhBMseNaHH1o89ZwcOO44qKuzzxUVsHIl7NtnMlavts8TJ8Lrr8fK3rs3om9+vkVmrKuzNsNhKCyEo482efH1MjNN1/x8OOaY2DIrV/onD9rahGHDRtLYuIHcXEtva7N6kydb2ZYWG4fVq63trKwcbrvtHr75zasoDLVw/wdwYltk7IPAaf3hlbA5DVVVmZxAQBDJIRiE/PwAxx0nvPDCXrKztV0vf1zWrPH7kcMDD/yJ+fO/zYYNqykv13adMjNN9vLl1ld/nHy9/fN64ok2buFwDiUlo9i9+12qqgLU1YUpKSnj979/kuLiYgCampo499xTWbduLXl5EVn79gn5+TkEAq0Eg2EqKwO8/nouw4eP71D/0kvP4d13Gzj2WHjhhb3edaTeGNj4BgK5/Pznv+Fb37oakX1UV9urE9Vcnn76RYYOHcpFF51FQ8Nq8vKUyZNh1Sph5MhjePTRZ9rbS4Svw6ZNa5k4cR/Ll4cJBm0spkyxVzbNzcLo0XZT37p1fft4DB48GlVi0uLHqDcRfT67czwStTNo0GhEYMuWgzsXyeb4UdVuO4ByoA5bA/AoMAAowrx51np/B3Ymp7KyUtOlra1NCwvROXPQUMhEhELo/PnogAEd02tq0HHj0GnT0Hnz0CFDLM0vEwyiY8faMXdu4rpjx1r9cBhta7N25s2zutOmJa43fbrlz5ljbSYqM2AAOnt2bPqcOWhpqbUzbVqsrn690lLTKVmZuXMtff58KztmDHrSSfY5kbxoXceORfv2Nb3aZbehOhtVYo8FR9mY+G36/UxnXGpqrK1+/aRDuXnzIuUGD06s95w5kXPi1xk40MbEL7NgQaZOnz5Zw+GwhsNhnTr1+KSy4q8L0ze2/rRpk3XBgsz2/sWXX7DA9J4928Zw3ryO/RoyJFdPPPG4hHrMnUt7e4nwdaipydRQyPo+dWria7601I5gMFb+uHGxadFj1JuIPp+x57BrxyNRO8GgnZv46/5A2gbqNJFtTpTYnglXAoEU+eOAk1PJ6Ipjfwz/l7/8ZR06NDJg/rF8OTpsWMf0UMgMTEkJunhxxzJ1dejw4WYcU9UtKbGyS5ZEZNTVpa5XV5dar6FDLT9R3SVL7OJIJnvYsNRlRo822WPHooMGWflU8urqIjr5eiUs/0jHG4B+Aw21RuqlMy6hkI1ponPpl7v+erSoKLneI0earOjxXLIkXk6B1tXVaV1dnRYX5ySVlfxcROqXlha0n/dUY7loUepz3r9/Zorzlqd1dXUJr/1oHfxrt7Pr1h+f+PFP1MfeRPxYdtd4JGon9fWzf20nM/ydvdwtAlaKyN0i8jUR+bSIfFZErheR54FbsK0cDhtefPFFKirsZ3U0b79tUwPx6YEAVFbaotX6+o5lGhosr7w8dd2RI61sbW1ERkND6noNDaZXIn0DAZPz9tuJ69bW2t9kskeMSF2mvNxkV1ZC//5QUpJaXkODfR4+3L77dTuU/ze49BL4y3/DXv8N0q0QyIZ/NMPGl9Mbl0DAxjSVTsuWwejRyctMnmyyoseztjZeToCGhgYaGhoYPjycVFZFRbJzEalfWRloP++p9H7ppdT5OTma4rwpDX6n4ojWwb53ft1Gi4oe/0R97E3Ej6VPV49HonZSXz9d03ZKw6+qP8c8cx4ABmObtFUAm4DPqOrFqrr2oLXoQqZOncqKFR3jkJeW2j99fHo4bAa/sTFiUKPLlJXBhg0215uqbmOjlfXna8Nh+56qXlmZ6VVfn7hMXZ3lJ6pbXe3PXSfO37gxdZlVqyJt79wJmzallldWZp83bbLvpaWpyw+ZDseNhJV/B871xnI3/NsX4N8vg+BLnbfV2Jh8bOrrYdo0WLcuuR4vv2yyosezujpeTpiysjLKysrYuDGQVNaKFcnORaR+XV24/bynGpuTTkqd39IiKc6bUOZ3Ko5oHex759dttKjo8U/Ux95E/Fj6dPV4JGon9fXTNW136s6pqiFVXaqqi1T1S6r6bVW9U1U3HHTr3cCtt97K3r3mZegPXDhsOxS3tnZMX7jQvBLHjLGXiqqwaFGkTHm5vRgLBKCmJnFdf4+zigqLi97aCgsWWN3hwxPXKymx/EcesTYTlWlttfzo9HnzrM3LLoPi4lhdo3XKy0teZv580+uxx6xsnz4wdqx9TiTP13XePHuB2txseiWSvWiRlf/jH7160yH8J5g7G27wX+0Df3oPAhkQvjNxWwsX2rju2ycdxqamxsrNnWsvdRPpPW+ePdFWVETqtLXZmER0zaSkxLwlKioqGDv2qKSy1AtyFjs2sfWLi8u47rpMystTj01zsx0LFnTsl2ouRx89IaEe8+fDiBFHtXt8xOPrsGhRJuGw9b2kJPk1n5trYx0t3/81mGiMehPR5zP2HHbteCRqp7zczk/8dd+Vbae9LXNPcqBePb73jnkyxHr1lJdbuu/9EQrZWiXfqyc7O+LV09wc69Xj14336qmutiemPXsiXj3HHmtpvlfFqlUR75XXXzcPFd+rJ9rzIt6rp7LS5CTy6omv53v15OWZbN+rp7zcPot09OrJybF036tn0iQr29pq9V5/3fTOysrhF7/4LV//+mdRbSEry/Txx8r3XGlttTHwvXoyMiJePWeLcu/7LTHn7KFc+Fo2HF8R69Xz0EN/Ye7cb7Jhw2omT1ZWrYp49fi/0KK9eny9m5ttXHxPq3A4h+HDR7Nr1yYqKwPU15uXxMMPP8WwYcOAjl49kyb55yvWq6eiIsDq1ebVE1/f986YOBGWLTOvHl/vaK+eW29dzDe+MQuRfe0eW6q5LF36TwYPHhzj1WN6CKNGTeSxx55pby8R0V49xxyzj9raiFePf93u2yeMHj2erKxMtm5d3z4e0V49ycaoNxF9PrtzPBK1Y149wpYt6w6q7WRePUek4YfEfvyZmZnk5OSwZ8+eDuX79OkDmP99RkYGGRkZtLa2Eg6HY/z4S0pK2Lp1K7t37yYzM5O8vDw+/PBDALKzsykoKCAQCLB37952P/7s7GxUlZ07dxIMBhk8eDC5ubntfvxDhw5t9+N/+eWXCQQCtLW10dTURF5eHgMHDmTjxo2oKiNGjGDHjh2sX7+elpYW+vXrx/jx42lqamLr1q0UFRUxduxYjjnmGLZs2cLWrVtj/PiHDBnChAkTGD58eLsffygUivHjDwQC5OXlcdRRR5GVlcW2bdvafeuv9HbzDIfD3HffffzlL38hFAoxZMgQNm/eTGNjI3v27KGgoIBRo0bF+PH7vsi+b/KEggKO+fznyd4cWcqxKS+PG2bMYNoll7S3pRrrx6+qMX78c+fO5YYbbmj34z/jjDM466yzWLNmTbuP/JVXXolqrK+078sejWqsH7+/niDaL97vS7L60X78IsKbb75JQ0MDW7dubdfFH8NoP34/PbrPvh+/f67Swdchet1BW1tb+1oQX1ai8UhnjHoTh2o8uutc9DrD7/gI0dICV10FDz4Ym/7883DKKT2iksNxJHBAhl9EvptKqKr+tAt06xRn+HsRt90G3/hGbNpPfgLf+Y7NRTkcjrQ50E3aCjs5HI6u5etftxcQy5ZF0v7jP2yC/N/+zSbvHQ7HQeGmehyHN++/b4FhXn89kjZokO3VMHZsz+nlcHwEOOBtmUXkIhF5QUS2e8dfReRkL69fdyjrcLQzdCi89pq5w3zxi5a2das51YvAk0/2rH4Ox0eQlIZfRL4K1HjHGO+4CbhFRP4d+L9u1s/hMDIz4c47bRronnsi6eeeazeAhQvd9tAOR5p09nJ3NTBdVbfHpRdh2y5/V1XvSFi5C3FTPY6ErFplCxiiOeMMePRRW+jgcPRyDniqJ97oe2nbgPWHwug7HEkpL7en/O3bbR8EgP/9X+jb11YsrV7ds/o5HIcpnRn+3SIyOT7RS9vVPSo5HPvJgAHw4ou2jPp737O01lZbtiwCv/99z+rncBxmdGb4/wN4XEQWicgFInK+iFyHBV7/j+5Xz+HYDwIB+PGP7VfAH/4QSf/0p+0G8J3vdNz5yuHohXS2O+c/gBO8clcBn/M+n+TlORyHJ5/6lN0A3njDNvEB+NnPbFOf6mqbHnI4einpzPG/r6oLvC2YP6WqNcA4Ebn9EOjncBwcRx9tu+Z98AHMmGFpdXVQVGS/AlakChvtcByZdGr4fUSkXERuFpF1wA+BN7pNK4ejq+nTB55+2qZ6rr8+kl5ZaTeAu+/uOd0cjkNMZ378R4nIAs+t8zbMhVNU9XRVvfWQaOhwdCX+Rueq8NRTkfTPf97yPv95WyzmcBzBdPbE/wYWdesCVT3ZM/ah7lerl6AKN95oEUPy8mwnylWr0qv72GNw/PG20f7EifDQQ92r6/6waJEZ0UTHj35kZUIhuPlm+NjHbNqlqMimYqJjI6bi9dfhzDNt/r6kxKKahOIuzaYmuPpqizrTp4/5/N93XyT/4x+3c7BuHfh7nN99twVjOPpoeO+9gx0Jh+OwpDPDfzHwHvCsiPxaRM4E3BaJXcVNN8EPfgDXXmvhnfr0gbPO6tzg/OMfcPHFcPrptmXBeefB5ZfDX/96aPTujGuuMffK6OPaay3vnHPsb3Oz9b+6GpYsgXvvtcgtJ59skVNSsWOHjZOI3QAXLLAdPBcujJQJh+HCC21r51tusXInnQRXXmnhwaIZPdpuEs3NcMkllvbmmxZGS8TG2+E4kkgUgT3+AAqAK4A/A3uBO4AZadRbB7wCrMKL9g4MBJYCa72/AzqTU1lZmXZU+Y8Mzc2qffuqXnddJO3DD1UHDVKdNy913RkzVE8/PTbtnHNUp0/vej1/8xvV0aMPXs6556pOmBD5Hgyqbt8eW6alxdq66qrUsm68UbV/f9VduyJpN9+smpcXSVu9WhVUH388tu6UKaqf/nTn+v73f1v96ONnP+u8nsNxGOHb3fgjrZe7qrpHVe9T1fOBEZ4hn53mveV0VS3Xh9yLHQAAIABJREFUyLLh2cDfVHU88Lf9kHPg/OUv5uP9zjux6e+8Y+mPP97tKnRg2TLYvdt8zH0KCuCCC1JvPNbSAs8+G1sPLJjsiy/CLm9d3fnnw4QJsdsY/+QnNjX02mtd14902L4dli61XyU+GRm28Cqa7GyLVRkVkSshTz5p0zR9+0bSLrvM+vr88/bdn6fvF7ePYP/+6e3p8+1vW7m//z02TQQuvdTiUDocH1HS9urxUdXtasHWzzjANi8CFnufFwOfPEA56fOJT9g88OLFsen33AODB9tGX8nwg/GmOg5kUdAbb5jxGz8+Nv2YYywvGW+9ZUZtwoSO9cJhm6IA+PWvYcsWmDPHvq9ebdG0r7vOjOuh5OGHYyOdJ6OlxaZ5Jk5MXe6NNzr2f9Qom+/3x+644+DEE20aaO1au8necw+88AJ8+cvp637yyXYDaGqCo46K9Ccvz6aC1q9PX5bDcZiw34Z/P1HgryJSLyLenroMVdUmAO/vkEQVReSLIlInInVbtmw5OC0yMiy03+LFkac9Vfv+mc/Yzo/JOPNMm3tOdXzuc/uv044dNqefkRGbPmCARRpvbU1eD+zJNb5edH5xsUWz+p//gb/9DWbNspeb/pYGyQiHE9/UotPiX6J2xoMPQkVFxHAm44YbTP9rrkldbseOjv0HGwO///6WzeGwtduvn23rfPfdtpHb/jJsmEWBb22NnO/33oMxY6ytw+X9isORBiksXpcwXVXfFZEhwFIRSdv3X1V/BfwKbHfOg9bkc58zD5rnnrOXos8+a09rV1+dut6dd9rin1QMGpQ8TzXWUIpEjH2iUIL+jamzMIPx+YnqXX45PPKIvfwNBODllzveaOK5/nr7VRBPVlbk8+jR5gmTDk1NNv1y882py/3lL2b4f/IT86jpjGRj56eHw3ZT37bNPJ6GDIEnnjB3zaIi+xV4IGRlwV132XH33SYPbOoJbPzmz3dhIh2HN4km/rvjABYB3wPWAMVeWjGwprO6XfZy9/TTVT/zGft85ZWqJ5zQeZ1gULWtLfURCiWv/+yzsS8ITz3V0m+/XTUjw+RHc8stqvn5yeW99prJee652PTlyy19+fLY9D/8wdIvvLDzvqqqbtqkWlsbORYuVC0ujk3717/Sk6VqL0RFVDdsSF5m+XLVggLVr3wlPZmDB6suWtQxvaDAxk9V9bHHrN9vvhlb5rLLVI8/Pr120qW+vuOL4BkzVD/4oGvbcTj2Ew7m5e6BICIFIlLofwZmAK8CjwOzvGKzsA3fDg3XXGObd23aZE/CnT3tw8FP9VRWmm+6f9x5p6VPmGC/BBoaYssnmr+OZtw4azP+PcAbb9hTffR0yu7dtjHZlCn2Avvppzvvb0kJVFVFjjFj7KVrdNrxx3cux+fBB22efOTIxPlvvmm/SM48E25Nc03ghAkd+9/YaFsz+GPn79ET/w5lyhR7T9KVVFSYud+2zcYHbOqnsNBe2K9Z07XtORwHS6K7QVccQCnwsne8Bszz0oswb5613t+Bncnqsif+5mZzAzz5ZNXcXNUdOzqv88YbsU+7iY533jkwXfr2Vf3BDyJpe/bY02w67pxnnhmbdt55Hd05r75adfhw6+fMmaojRqju3Ll/eh6MO+c779jT7y9+kTj/3XdVx4xRPekk63u63Hij6oABqrt3R9J+/ONYd84HH7S233gjtu6nP606ceJ+dWO/CYVUv/3tjr8C/vCH7m3X4YiDJE/8h2yq52COLvXj/9rXrNuXX951Mg+UG280Y3XbbarPPGO+7kVFqu+9FymzeLFNCa1bF0n7+98t7Vvfsqmk//xPm055+ulImT/9yfr55JP2fds2m7KZNWv/dDwYw/+jH6lmZqpu3twxb+9e1cmTVfv1U/3zn1VffDFyrFgRKbdunfV18eJI2vbtqsOGqZ51lurSpap33mnTPNE3zN27VUeNsrUD999v5XxjfPvtB9afA+F3v+t4A/je91JPDzocXYQz/D5Ll1q3ly7tOpkHSjis+sMf2lN5bq79Eok2eqpmeKHjr4o//lH12GNVs7NVjz5a9YEHInm+kf/CF2Lr/PnPmnBRUyoOxvBPnqz68Y8nzvN/DSQ6otvzy/3mN7H1X3vN3tnk5tpNYP78ju9L1q5VveQSG4uCAtVJk1R/+Usb90PN66+brtH9POmkjovYHI4uJJnhTxlz93ChS2Pufv/75uXhL95yOA4lH3xgsQKeeSY2fdUqmNwh2J3DcVAccMzdI4Y1a2yPljvugG98wxl9R89QWGirmMNh28zOp7zcXEB/+9seU83Re+g91u9LX4KZM22V7je/2dPaOHo7IrapnKqtL/CZNcvyvvQlWyzncHQDvW+qx+E4XHnnHdtBNHqvookTbbHhkIQL3B2OlLipHofjcGfsWHj/fduy41OfsrTXX4ehQ+1XwIsv9qx+jiMGZ/gdjsONvDxbaKgKP/1pJH3aNLsB3O7CXTsODmf4HY7Dme98x24A/nbTAF//ut0ALr/cdjR1OPYTZ/gdjo8Cp5xiN4BNm6CszNIefNDiK4wcaVtWOBxp0t27c/YYoVCIH/zgB9x3332Ew2FEhHXr1hEKhcjKyqKoqIiMjAxycnIYPXo0AwcOZOfOnezatYt9+/aRk5PDtm3b2LFjByKCiJCbm0tzczMfeLt15ubmoqrk5uZSWFjI7t27CQaDiAitra2EQiFyc3MpKSkBYMOGDbS2tpKRkUFhYSGhUIgPP/yQUChETk4OWVlZ9OvXj6uuugqAX//61zQ3NzNu3Dj69+/P+vXraW1tJSsri3A4zJ49e8jOzqa4uJgdO3awfft2QqEQoVAIEWHIkCGUl5czePBgVq5cSVNTE0OHDo3RJTc3lxEjRlBYWMjWrVsZOnQop556Ko2NjSxbtgyAo48+GhHhjTfeYPPmzWRlZTF+/HgyMjLYu3cvxx9/PBn/v70zj6+quhb/d2UgYRBlJiBTBCy0IBBCBa0zWHm+Yq1YrbxS6af+1NahdShIwOnVDrZ9tO9ZtQ6FplAHfHWorcBHwfpESUICDkUwImpLBNRaaxlKctfvj3VO7klybwh4b25C1vfzOZ977j57r7POPveuvc86e6+dnU11dTUffvghe/bsoUuXLgwbNozp06ejqixbtoyamhq6dOnC4MGDGTt2LG+//TarV69GRBgzZgwFBQX069eP7Oxstm/fDsDAgQOZNm0aRUVFSBDxUlWprKxky5YtVFdX895771FcXMyFF15IVVUVq1atAmDq1Kn15WKxGEuXLuUPf/gDvXr1Yvbs2RQVFVFVVUV1dTXDhw9nwoQJDc6xfv16Vq1ahaoyaNCg+uuO5gsJdUomK3ps/PjxVFVV8frrr1NbW0tOTk5SuQllb9mC1NZamOnFi+Evf7H1CMDmB5x+eir+QgdFc9fvtD0Oy1E9q1at4ktfmkZWFuTlWSTiWMzic23caO/O6uoshteECVBVZZ2pffusA1VUZOuB7N5t5cJ1uisqLBx7584Wi6uiwhZ92r/f4ph16WIRhauqTE70fLGYyd20yRZvGj7c1gfJybFReyINy+flmW4bN1rssTBO2saNds5wfZhOnRrqvHevnXfzZvj4Y6uPzp3j1xke37TJrnfcONvfvTteV+PHQ2WlnadzZ9Mtei3791u+Ll1s/Zfo9VZV2RSJujqrq7o623JzLf9xx8Xre88eS5s4Edats/y5ufHlEcJz7t0rDB8+isces0lPM2eexZtvbmb37r3k5cXvxd69QqdOGqknK/e97y3ioov+naysffUy9+yBrKxOdO2azfHH51BREWPAgOE8/LCtfnbOOWfwzjubGDdOqay0eisqErZu7czAgSN4+OE/UlBQAEBNTQ0zZ57F9u3VTJyY1URW9NiLL9ayb5/SubPw6U/vY/36GDk5WWRl5TF48MgGcg8kuz7fPfdYIxDltttg7txWCQ/dIh2djJBsVE/GwzG0ZDuYkA21tbXavTtaWIiWlKBTpqALF6J1dSaurg5dsMCOT5mCxmJoba19v+GGhvnmzbP02lrLN2UKOn9+0zw9eti5amstz4IFTc93zDF2rLbWZBx5JPrd76J9+tg5FixIXn7+fPSEE0yHqP7duzfVZ8ECy7t/v+WZNy/x8drahvvRa1WN10nj8iUldr3z5iXXd+FCk1tSYjKOOqpldXvDDejkyU3zxutvrE6ePFZLSrK0b9+m195cPSWqh8JCO1+Yf+HCHJ0yZaxOmTI2oQ7xesvRE044TmOxmMZiMZ0y5ThduDCnUR1YnsmTx9YfS/YbCutrwYLsermqekDZscahJ8rLm4a/mD7d1nJOEweto9Oq0FFi9dxyyy3aqxc6bBj6i1+g0PItNxft2dMMRY8e6KhRaE4OOnEiOmgQmp2NnnIKOnUqet556K23ovfdZ3kGDTLj1LUr+sILaFkZettt6Pe+hy5ebAa+Vy/0179GL7/c5C9ciHbubPvr1tnWpw96xRVoaakZmYoKdOlStHdv9D//E12yBL3sMjQ/H+3WDX3xRfSBB9DyctuWLUMHDLDzhIa1oiKeJzxHKH/YMDteVxffV7XPwsK4gQq3sjK0f38rW1qK9u1rabGYbRUVcR3WrUOHDLHrDg1fqEtZGTp4sH0Pz1VWhg4d2vScoW79++fpwIH5umSJ6ZAsX3gNdXV2X3r2bE5mw/wFBXnav3+uLl2K3nILeuWVdp379zeuq65aUVGhFRUVWljYNaH8IUM668CB+fXX3ri+GutSVhaXq6rNyo7ma8KuXaoTJjRsALp317rXXtPS0lK98sortbS0VOtSECjukHV0WoVkhv+w8/GvXbuWggILc3/NNTZDvkuXpm6e/HyYNKmpeyR0y4jA229b2XfesWVqP/rI3CJFRbYG98qVJqtXLzu+caO5Kc44I+4OCt0ro0db2euvt/TsbFi0yFYQPO44mDHDzt2pk83jeeghG7yRnx93fdxxR9xlFa7QOG1a/Dz5+TbiD2yp2eHD4eSTYft20+/55+PXfcMNcNddpld1tV1TUVF8P/xsHNli61Zbzvbkk61+Jk2CL3/ZFiETsWV+w5D0c+ZYePxdu2x4+syZpkvomqmttSUKevSwc23daq6nxufMyrLj27bFyMnJZv16k5EsX1T3444zF3hymfH8O3ZAbe2/EFGuvTZe1w8+aL+lMWOidZVFdbCWQlFRVkL548YpO3bErz1aXwMGwMMP2wqZoS5bt8blFhUVBZ+JZUfzNaF3b/th19XBd75jy29+9BFZn/oUs4BtE+HaB+Gaa77BihUvMG7cuKT/pwNxyDo6mSVRa9DWtoPp8d98882al2c979Al0ZybJ5H7o7AQPeIIc8fMn5/cpdHYPZLMhVBSYj29sHyyR/7GroobbjAdDuSy6tOnqW4lJfbkciAXVI8e9iSQqMc/bFjTnvK6daZTVFYyV1noFjrqqMT6z5uHjh9v5w97vEOGNN/jHzDAevz9+qW2xx/ek7lzE+s6f77VZ1lZ0x7/sGHJe/wFBXkJ5YXunfBeJ+vxJ5N9ML3puro6vaR7rjZ2Az07Ge3XJ+8T9fxTpaOTHugorp5169ZpTo79SZtzBwwY0NBANHZ59OxpBq6uLrnbo7GhSWRQVOPukbB8S+WF5crKkuePulIaH+vXz8o2d77+/c2Yz53bMh//nDlNjW5z8vv1M3fW0Ucnv97y8uZ9/OG7ggP5+G+4oaExDcsl8vGHx8IGuqzMdGyurvv1M7ddScmBffzhe4AxY4Y3e+1lZfGOR0lJy3z80XcMLaG0tDT++3sF1ZyGDcCOkSMPfoGegFTp6KSHZIb/sHP1vPnmm4C5UD7zmeSP+O+809AlEHURhPt/+5sdS+b2aFwumhZ1IWzd2tA10VJ59ugf/0zsTrBrSSZr61b7nqz8+PEwdapZgLw8GDjQZFZV2ciXcF3x8ePhpZfgww9tSHlUVnPXM26cjTBMdi9GjoRvfMPcMa+8YqN6tm6Fe++NnzMc1fPIIytQVWbOPIucnM3cccde7r03OqLJRvVMn27lwlE9d9/9M77ylbO5//59jBsXHoPs7E7s35/N+efn8Oyz/6K4eD9bt8aavTdXXJHN2LGfZvnyp+qHKy5f/kdmzjyL0lJze6xfb6Nali9/ikcffZQnnvgmWVmxJvJGjbK679bNRvWsXj2ygVwRaVZ2S4dLlpeXx39/nwb2Ax8BM4A10HfLFvvDgFXOQSytmSodndblsDP8w4cPR8SM9vr15qeN/oljMUvfty8+DyZMmzs3vv/3v5sPOhazfBUVyWXNnds0bc+euPzCQvNlh+VbKq+w0PLdeGPy/Bs2WIj3ZLJuusnSmys/bRqsWJHFkUcOY9iwYXzuc6fQpct6nnzyd4waFR8iPniwvfOoqmooq7nr+fOfreH47ncTH6+qApF+nHzyiQwYMIDevXuTk5PDX//6V0SEk0+Oj+MPee65qibj+C+8sJiLLrqofuz9SSfRoNy77+6uH8d/7rm9uPjii5kwYUL92PMZM/azcOGlFBb+s9l7c911N7JgwYIGv7mCgoJ6naqrq5k7d3j9eYuLi/nRjzoTi/2zibyXX87jmmvmM3LkSIYPH57QF96c7JZSXFzMgw82uqbuEHsaBhTAqskzGPNYsPT12LH2+ZvfwEUXtUh+KnR0WplEjwFtbTsYV08sFtOiomOT+vjjboOGLoHQxx8eb4mPv7F7JJELIfQPt8TH39hVMW9e8z7+8FyJffw52rdvvi5YkN2sjz+RiyGsx0SP8CUl2YHceHoyH38oP7z+RNfbt29+SkaXfFLC6y0pyU5Y14eqa1twhdTV1WnfvvkHrv9wuc7odtllTVc2c9oNdKQVuGpqahg9+hj27dtDTo6NsAndBtFRPcXF8d5/dFRPXZ2Nuqmttc/OnW30S2WluUOKiuITnOrqoGvXhvJra61MUZH1qMNRPX/+c7x8eblNWOra1TpZGzaYvE6d4qON9uyB/Pw8cnP3s29fjNxc67WF7ordu+3fWVzcmcpKm8x0wgldqaxUBgwYzh13LOGb35zN9u3VjB4Na9fuJi8vnKClDSYOLV/+FP37929Sj+HEnOgjfFRumN679xBEhJ0732TUqL1UVsbIyrLJXnl5WcRindi9ex/5+Vo/qkc1n1Wr1jE27GVmmPB633prC3V1e+rresOGT6ZrsnpMVOfpYsOGDZx55mRE9h64/t94w36EH3wQTxszBp5+Gvr0aRV9ndSQbALXYWn4wZ5k/vSnP3HaaacRi8UOXADIysoiNzeX2tpasrOz6datW31Yho8++ojc3FwKCgrYv38/+fn5nHTSSUyaNIknnniCsrIyVJXJkydz/fXXAzaDOBaLEYvFeO+99ygqKiIrKyvwuU5k1KhRrFy5ku3btzNw4EBOP/10VqxYwdq1a5kyZQolJSVUVlbWT+3Pzs5my5Yt9aEUZs2axejRo6muruaYY45BROqnzIeP2qrxqfRhnlBebm5uUhdDtB6jU/ETyQ3Tw7RoKILoecaPH8+yZcsoLy+nuLiYWbNmHdQ9bQ3Ca2gcDuKT6pqsHluTWCx2cPW/e7cFgnv88YbpL74In/1s+hR1UkaHM/yO46QIVfjxj20SSpQ774RLL82MTk6LyNhCLCKSLSJVIvL74HtPEVklIq8Hnz3SrYPjOJ8AEbjuOmsAnnkmnn7ZZXZs1izzWzrthtYIy3wVsCnyfS7wtKqOAJ4OvjuO0x449VRrAN55B4YOtbSlS+3l1dChFjbaafOk1fCLyNHAvwH3RpJnAEuC/SXAOenUwXGcNHD00RZbZN8+6/EDvPWWpYvAmjUZVc9pnnT3+BcB1wPRt6v9VLUGIPhMuIq0iFwiIhUiUrFr1640q+k4ziHRqROUltpTwJ13xtNPPdUagNtvt2NOmyJthl9EzgZ2qur6Qymvqr9U1YmqOrGPDyFznLbPpZeakX/xxXja9dfbrLEZM2x8stMmSGeP/wTgCyKyDXgAOE1EfgPsEJECgOBzZxp1cByntfnsZ60B2LkzPhP48cdt2nevXvE4Ik7GSJvhV9V5qnq0qg4FLgCeUdVZwOPA7CDbbOCxdOngOE4G6dPHYpXX1sLll1vaBx/AMceYG+jJJzOrXwcmE4ut/wCYKiKvA1OD747jHK5kZ9tiEqoWAyjk7LOtAViwwN8DtDI+gctxnNbn5ZfjbqCQU06Bxx6D7t0zotLhSMYmcDmO4zRhzBjr5f/tb3DiiZa2Zg0ceaTF5n711Yyqd7jjht9xnMxx1FG2jmldXTweeW2tLeAgYuteOinHDb/jOJknKwu+/317Cnj00Xj6BRdYA3DVVdY4OCnBDb/jOG2LGTOsAdiyJe7v//nPISfHYpq//35m9TsMcMPvOE7bZMQIWwrv449h+nRLq6yE3r3tKcAHfBwybvgdx2nbdO1qY/5jMbjttnh6cbE1APfem7yskxA3/I7jtA9EYN48cwOtWhVP/8Y37NjFF9uSb84BccPvOE7744wzrAF4+22LCAqweLEFjRsxAmpqMqpeW8cNv+M47ZdBg2xtgL17bQQQQHU1DBhgTwHPPZdZ/doobvgdx2n/5OXBb39rTwH//d/x9JNOsgbgv/4rc7q1QdzwO45zePGtb1kDsHZtPO0737EG4Itf9PDQuOF3HOdwZfJkawDefRdGj7a0Rx+18NB9+tgKYh0UN/yO4xze9OtnsX/274dLLrG0996DwkJ7CvjjHzOrXwZww+84TscgJwfuvtueAhYvjqdPn24NwI03dpjw0G74HcfpeMyebUa+qiqedsstFjPo9NPhH//InG6tgBt+x3E6LuPGWQPwwQdw/PGW9swzFiMoLw82bcqsfmnCDb/jOE6PHvDCCxYB9NprLe1f/7KXwiLw8MOZ1S/FuOF3HMcJycqC22+3p4BHHomnn3++NQDf/rbFDGrnuOF3HMdJxLnnWgPw2ms2BBRg0SJbQ7i42NxD7RQ3/I7jOM1x7LHwz3/aC99p0yytogJ69bKngMrKzOp3CLjhdxzHaQndusGKFebqueWWeHpRkTUAv/pV5nQ7SNJm+EUkX0TKRGSjiLwqIjcH6T1FZJWIvB589kiXDo7jOClHBBYsMDfQU0/F0+fMsWNf/3qbDw+dzh7/PuA0VT0OGAd8XkSOB+YCT6vqCODp4LvjOE7748wzrQHYtg3697e0+++38NDHHmvhItogaTP8anwcfM0NNgVmAEuC9CXAOenSwXEcp1UYMsTWANizB847z9K2bIGCAnsKeP75zOrXiLT6+EUkW0Q2ADuBVaq6DuinqjUAwWffJGUvEZEKEanYtWtXOtV0HMdJDfn5NuZftWEo6BNPtAbgZz/LnG4R0mr4VbVOVccBRwOTROQzB1H2l6o6UVUn9unTJ31KOo7jpIOrr7YGILoYzNVXWwMwc6YtHpMhWmVUj6p+CKwBPg/sEJECgOBzZ2vo4DiOkxFOPNEagJoaGDnS0pYvh86dzRX01lutrlI6R/X0EZGjgv3OwBnAa8DjwOwg22zgsXTp4DiO02bo3x82b7ZQEHPmWNq778LQofYUsHJlq6mSzh5/AbBaRF4CyjEf/++BHwBTReR1YGrw3XEcp2OQmwv33WdPAffdF08/80xrAG69Ne3hoUXbQfzpiRMnakVFRabVcBzHSQ+VlTYRLMq0aRYvqFu3QxYrIutVdWLjdJ+56ziOk2kmTLBe/vvvw8TATq9cCUcckZa5ADkpl+g4juMcGj17Qnm5hYW49looK/tEPf5kuOF3HMdpa2RlwU9/mj7xaZPsOI7jtEnc8DuO43Qw3PA7juN0MNzwO47jdDDc8DuO43Qw3PA7juN0MNzwO47jdDDc8DuO43Qw2kWsHhHZBRxq7NLewHspVCedtCddoX3p67qmj/akb0fTdYiqNlnQpF0Y/k+CiFQkClLUFmlPukL70td1TR/tSV/X1XBXj+M4TgfDDb/jOE4HoyMY/l9mWoGDoD3pCu1LX9c1fbQnfV1XOoCP33Ecx2lIR+jxO47jOBHc8DuO43QwDmvDLyKfF5HNIlItInMzcP5BIrJaRDaJyKsiclWQfpOI/FVENgTb9EiZeYG+m0XkzEh6kYi8HBz7uYhImnTeFpxng4hUBGk9RWSViLwefPbItL4icmyk/jaIyEcicnVbqlsRuV9EdorIK5G0lNWliOSJyINB+joRGZpiXW8XkddE5CUR+Z2IHBWkDxWRPZE6vqsN6Jqy+55KXZvR98GIrttEZEOQ3jp1q6qH5QZkA28AhUAnYCMwupV1KAAmBPtHAFuA0cBNwLUJ8o8O9MwDhgX6ZwfHyoDJgAB/BM5Kk87bgN6N0n4EzA325wI/bCv6Ru71u8CQtlS3wEnABOCVdNQlcDlwV7B/AfBginWdBuQE+z+M6Do0mq+RnEzpmrL7nkpdk+nb6PhPgIWtWbeHc49/ElCtqltV9V/AA8CM1lRAVWtUtTLY/wewCRjYTJEZwAOquk9V3wSqgUkiUgB0V9UX1O7ur4Fz0qx+Y72WBPtLIuduK/qeDryhqs3N7m51XVX1T8AHCfRIVV1GZS0HTj/Up5VEuqrqSlWtDb6+CBzdnIxM6toMGa3XA+kbyD0f+G1zMlKt7+Fs+AcC70S+/4XmjW5aCR6/xgPrgqRvBY/Q90ce95PpPDDYb5yeDhRYKSLrReSSIK2fqtaANWZA3zakL1gvJ/rHaat1C6mty/oygYH+O9ArTXrPwXqZIcNEpEpEnhWRz0X0yaSuqbrvrVmvnwN2qOrrkbS01+3hbPgTtXgZGbsqIt2AR4CrVfUj4E7gGGAcUIM96kFynVvzWk5Q1QnAWcA3ReSkZvJmXF8R6QR8AXg4SGrLddsch6Jfq+guIvOBWmBpkFQDDFbV8cB3gGUi0j3Duqbyvrfmb+JCGnZaWqVuD2fD/xdgUOT70cCDvPATAAAHLklEQVT21lZCRHIxo79UVf8XQFV3qGqdqsaAezC3FCTX+S80fMxO27Wo6vbgcyfwu0C3HcGjZvjIubOt6Is1UJWquiPQu83WbUAq67K+jIjkAEfSchdIixCR2cDZwEWBi4HAbfJ+sL8e85uPzKSuKb7vaa/XiOxzgQcj19EqdXs4G/5yYISIDAt6hRcAj7emAoGf7T5gk6r+NJJeEMn2RSB82/84cEHwln4YMAIoC1wC/xCR4wOZXwUeS4O+XUXkiHAfe7n3SqDX7CDb7Mi5M6pvQIMeU1ut2wiprMuorPOAZ0LjnApE5PPAd4EvqOruSHofEckO9gsDXbdmWNdU3ve06hrhDOA1Va134bRa3R7sG+r2tAHTsZE0bwDzM3D+E7FHrpeADcE2HSgFXg7SHwcKImXmB/puJjK6BJiI/ZjfAP6HYNZ1ivUtxEZAbAReDesM8xc+DbwefPZsI/p2Ad4HjoyktZm6xRqkGmA/1iv7eirrEsjHXFzV2IiPwhTrWo35jsPfbjhy5EvB72MjUAn8exvQNWX3PZW6JtM3SF8MXNoob6vUrYdscBzH6WAczq4ex3EcJwFu+B3HcToYbvgdx3E6GG74HcdxOhhu+B3HcToYbvidFiMiKiI/iXy/VkRuSpHsxSJyXipkHeA8M8Wipa5OcGykiPwhiHK4SUQeEpF+6dbpUBGRL0rDCKUbRCQmImeJyAARWZ7m83+cTvlO+nDD7xwM+4BzRaR3phWJEk54aSFfBy5X1VMbycgHngTuVNXhqjoKCwPQJw06HBLBrMx6VPV3qjou3IBfAM8BK1R1u6qmvSF12idu+J2DoRZbB/TbjQ807rGHvUEROSUINvWQiGwRkR+IyEUiUiYWW/yYiJgzROS5IN/ZQflssbjw5UEArv8XkbtaRJZhE3ca63NhIP8VEflhkLYQm1R3l4jc3qjIV4AXVPWJMEFVV6vqK2Ix0p8Tkcpgm5JIh2Dm85MisjE475cT6LVGRBaJyNogz6QgvatYcLFysQBdM4L0r4nIwyLyBLAy2Y0RkZHAQuA/VDUW6PxKRMZjIvKUWEz6GyPlvhrU60YRKQ3ShojI00H60yIyOEgfJiIvBDre2uj810Xu0c3J9HTaCKmaRenb4b8BHwPdsZj9RwLXAjcFxxYD50XzBp+nAB9iaxPkAX8Fbg6OXQUsipR/CuuMjMBmOOYDlwAlQZ48oAKLq34K8E9gWAI9BwBvY731HOAZ4Jzg2BpgYoIyPwWuSnLdXYD8YH8EUBG5tnodsFmX90TKHZlA1powDxan/ZVg/zZgVrB/FDbjvCvwtaAueibSLcifG9TLBZG0oRHZX8NmjvYCOmOzPycCn8Zms/YO8vUMPp8AZgf7c4BHg/3Hga8G+9+M3ONpWIdAgvv3e+CkTP9efUu+eY/fOSjUoov+GrjyIIqVq61NsA+bbh72XF/GDFTIQ6oaUwtRuxX4FGZUviq2QtE6zHiNCPKXqcVYb0wxsEZVd6mFqV2KGdlDJRe4R0RexqbGj44ci+rwMvbU8kMR+Zyq/j2JvN9CfZz27mIrW00D5gbXuQZr9AYH+VepanNBt24FXlXVB5rJs0pV31fVPcD/Yk8+pwHLVfW9QJ/wHJOBZcF+aZAX4ATicZFKI7KnBVsVFmbgU8TvkdMGyTlwFsdpwiLsD/6rSFotgeswCCLVKXJsX2Q/Fvkeo+FvsHH8kDB87hWquiJ6QEROwXrbiTiURTNeBU5OcuzbwA7gOOwa90aO1eugqltEpAiLx/R9EVmpqrckkJfsOr+kqpujB0TksyS/zrAevoSt8NQcyc7ZkpgtmmS/Xg3g+6p6dwtkOW0A7/E7B03QM3wIe1Easg0oCvZnYL3kg2WmiGQFfv9CzA2xArhMLLx1OPKm6wHkrANOFpHewUvXC4FnD1BmGTBFRP4tTBBbs3kM5taqUQv5+x/YUo9NEJEBwG5V/Q3wY5Ib4y8H+U8E/h48GawArggaTURk/AH0RWyxkV9h7pd/HCD7VLH1fjtjKzc9jwWJO19EegXyegZ512LRbAEuAv4v2H++UXrICmCO2LoTiMhAEemL02bxHr9zqPwE+Fbk+z3AYyJShhmUpL3UZtiMGeh+WNTCvSJyL+YOqgyM4i4OsDSiqtaIyDxgNdYb/YOqNhtqWVX3BC+UF4nIIiyS4kvYe4hfAI+IyMxAZrJrGwPcLiKxoPxlSfL9TUTWYu9L5gRpt2JPUi8F17kNi4PfHJdiK3jdKQ1X2vs+8ZXeQv4Pc88MB5apagWAiHwPeFZE6jBXzdcwN979InIdVt8XBzKuwhYGuQpbYwKwJRpFZBTwQqDHx8As4msNOG0Mj87pOK2IiKzBFgWvaMVzfg17of2tA+V1Ogbu6nEcx+lgeI/fcRyng+E9fsdxnA6GG37HcZwOhht+x3GcDoYbfsdxnA6GG37HcZwOxv8HSrl0bnZ3iosAAAAASUVORK5CYII=\n",
      "text/plain": [
       "<Figure size 432x288 with 1 Axes>"
      ]
     },
     "metadata": {
      "needs_background": "light"
     },
     "output_type": "display_data"
    },
    {
     "name": "stdout",
     "output_type": "stream",
     "text": [
      "In 2009, there was no correlation between density of cars in a given area and Air Quality Index mean.\n"
     ]
    },
    {
     "data": {
      "text/plain": [
       "<Figure size 432x288 with 0 Axes>"
      ]
     },
     "metadata": {},
     "output_type": "display_data"
    }
   ],
   "source": [
    "#scatter plot for each year\n",
    "#2009\n",
    "plt.scatter(cars_per_zip9[\"Number of Cars\"], cars_per_zip9['AQI Mean'], c='yellow', edgecolor='Black', s=45)\n",
    "plt.xlabel(\"Number of Cars per Zipcode\")\n",
    "plt.ylabel(\"AQI (mean)\")\n",
    "plt.title(\"NY Car Density and Average Air Quality Index 2009\")\n",
    "\n",
    "#plot line regress\n",
    "\n",
    "(slope, intercept, rvalue, pvalue, stderr) = linregress(cars_per_zip9['Number of Cars'], cars_per_zip9['AQI Mean'])\n",
    "regress_values = cars_per_zip9['Number of Cars'] * slope + intercept\n",
    "line_eq = \"y = \" + str(round(slope,2)) + \"x + \" + str(round(intercept,2))\n",
    "plt.plot(cars_per_zip9['Number of Cars'], regress_values, \"r-\")\n",
    "plt.annotate(line_eq,(20,48),fontsize=15,color=\"red\")\n",
    "print(f\"r-value = {rvalue}\")\n",
    "print(f\"r-squared value = {rvalue**2}\")\n",
    "\n",
    "plt.show()\n",
    "plt.savefig('Images/DensityScatter2009.png')\n",
    "\n",
    "print(\"In 2009, there was no correlation between density of cars in a given area and Air Quality Index mean.\")"
   ]
  },
  {
   "cell_type": "code",
   "execution_count": 17,
   "metadata": {},
   "outputs": [
    {
     "name": "stdout",
     "output_type": "stream",
     "text": [
      "r-value = -0.17840047981641316\n",
      "r-squared value = 0.03182673119872644\n"
     ]
    },
    {
     "data": {
      "image/png": "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\n",
      "text/plain": [
       "<Figure size 432x288 with 1 Axes>"
      ]
     },
     "metadata": {
      "needs_background": "light"
     },
     "output_type": "display_data"
    },
    {
     "name": "stdout",
     "output_type": "stream",
     "text": [
      "In 2015, there was no correlation between density of cars in a given area and Air Quality Index mean.\n"
     ]
    }
   ],
   "source": [
    "#scatter and line regress for 2015\n",
    "\n",
    "plt.scatter(cars_per_zip15[\"Number of Cars\"], cars_per_zip15['AQI Mean'], c='Green', edgecolor='Black', s=45)\n",
    "plt.xlabel(\"Number of Cars per Zipcode\")\n",
    "plt.ylabel(\"AQI (mean)\")\n",
    "plt.title(\"NY Car Density and Average Air Quality Index 2015\")\n",
    "plt.show\n",
    "\n",
    "(slope, intercept, rvalue, pvalue, stderr) = linregress(cars_per_zip15['Number of Cars'], cars_per_zip15['AQI Mean'])\n",
    "regress_values = cars_per_zip15['Number of Cars'] * slope + intercept\n",
    "line_eq = \"y = \" + str(round(slope,2)) + \"x + \" + str(round(intercept,2))\n",
    "plt.plot(cars_per_zip15['Number of Cars'], regress_values, \"r-\")\n",
    "plt.annotate(line_eq,(10,41),fontsize=15,color=\"red\")\n",
    "print(f\"r-value = {rvalue}\")\n",
    "print(f\"r-squared value = {rvalue**2}\")\n",
    "\n",
    "plt.show()\n",
    "#plt.savefig('Images/DensityScatter2015.png')\n",
    "\n",
    "print(\"In 2015, there was no correlation between density of cars in a given area and Air Quality Index mean.\")"
   ]
  },
  {
   "cell_type": "code",
   "execution_count": 18,
   "metadata": {},
   "outputs": [
    {
     "name": "stdout",
     "output_type": "stream",
     "text": [
      "r-value = 0.4418296115721647\n",
      "r-squared value = 0.19521340566200995\n"
     ]
    },
    {
     "data": {
      "image/png": "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\n",
      "text/plain": [
       "<Figure size 432x288 with 1 Axes>"
      ]
     },
     "metadata": {
      "needs_background": "light"
     },
     "output_type": "display_data"
    },
    {
     "name": "stdout",
     "output_type": "stream",
     "text": [
      "In 2020, there is no correlation between density of cars in a given area and Air Quality Index mean.\n"
     ]
    },
    {
     "data": {
      "text/plain": [
       "<Figure size 432x288 with 0 Axes>"
      ]
     },
     "metadata": {},
     "output_type": "display_data"
    }
   ],
   "source": [
    "#scatter and line regress for 2020\n",
    "plt.scatter(cars_per_zip20[\"Number of Cars\"], cars_per_zip20['AQI Mean'], c='yellowgreen', edgecolor='Black', s=45)\n",
    "plt.xlabel(\"Number of Cars per Zipcode\")\n",
    "plt.ylabel(\"AQI (mean)\")\n",
    "plt.title(\"NY Car Density and Average Air Quality Index 2020\")\n",
    "\n",
    "\n",
    "(slope, intercept, rvalue, pvalue, stderr) = linregress(cars_per_zip20['Number of Cars'], cars_per_zip20['AQI Mean'])\n",
    "regress_values = cars_per_zip20['Number of Cars'] * slope + intercept\n",
    "line_eq = \"y = \" + str(round(slope,2)) + \"x + \" + str(round(intercept,2))\n",
    "plt.plot(cars_per_zip20['Number of Cars'], regress_values, \"r-\")\n",
    "plt.annotate(line_eq,(10,61),fontsize=15,color=\"red\")\n",
    "print(f\"r-value = {rvalue}\")\n",
    "print(f\"r-squared value = {rvalue**2}\")\n",
    "plt.show()\n",
    "plt.savefig('Images/DensityScatter2020.png')\n",
    "\n",
    "print(\"In 2020, there is no correlation between density of cars in a given area and Air Quality Index mean.\")"
   ]
  },
  {
   "cell_type": "code",
   "execution_count": 14,
   "metadata": {},
   "outputs": [
    {
     "data": {
      "text/plain": [
       "<function matplotlib.pyplot.show(*args, **kw)>"
      ]
     },
     "execution_count": 14,
     "metadata": {},
     "output_type": "execute_result"
    },
    {
     "data": {
      "image/png": "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\n",
      "text/plain": [
       "<Figure size 432x288 with 2 Axes>"
      ]
     },
     "metadata": {
      "needs_background": "light"
     },
     "output_type": "display_data"
    }
   ],
   "source": [
    "#NY Car Density vs. Median AQI bar chart with line\n",
    "\n",
    "x= (\"2009\", \"2015\", \"2020\")\n",
    "y= (cars_per_zip9['AQI Mean'].median(), cars_per_zip15['AQI Mean'].median(), cars_per_zip20['AQI Mean'].median())\n",
    "\n",
    "fig, ax1 = plt.subplots()\n",
    "y2= (cars_per_zip9['Number of Cars'].mean(), cars_per_zip15['Number of Cars'].mean(), cars_per_zip20['Number of Cars'].mean())\n",
    "\n",
    "ax1.bar(x,y, color=['yellow', 'green', 'yellowgreen'])\n",
    "ax2 = ax1.twinx()\n",
    "ax2.plot(x, y2, c=\"HotPink\", label=\"Car Density\")\n",
    "plt.legend(loc=\"upper center\")\n",
    "\n",
    "ax1.set_xlabel('Year')\n",
    "ax1.set_ylabel('AQI (median)')\n",
    "ax2.set_ylabel('Car Density (mean)')\n",
    "\n",
    "plt.title(\"NY Car Density vs. Median AQI\")\n",
    "\n",
    "plt.show\n",
    "\n",
    "#plt.savefig('Images/Density_MedianAQI.png')"
   ]
  },
  {
   "cell_type": "code",
   "execution_count": 15,
   "metadata": {},
   "outputs": [
    {
     "name": "stdout",
     "output_type": "stream",
     "text": [
      "Based on our analysis, there is no correlation between density of cars in a given area and Air Quality Index.\n"
     ]
    }
   ],
   "source": [
    "print(\"Based on our analysis, there is no correlation between density of cars in a given area and Air Quality Index.\")"
   ]
  },
  {
   "cell_type": "code",
   "execution_count": null,
   "metadata": {},
   "outputs": [],
   "source": []
  }
 ],
 "metadata": {
  "kernelspec": {
   "display_name": "Python 3",
   "language": "python",
   "name": "python3"
  },
  "language_info": {
   "codemirror_mode": {
    "name": "ipython",
    "version": 3
   },
   "file_extension": ".py",
   "mimetype": "text/x-python",
   "name": "python",
   "nbconvert_exporter": "python",
   "pygments_lexer": "ipython3",
<<<<<<< HEAD
   "version": "3.8.3"
=======
   "version": "3.6.10"
>>>>>>> 9ed876245204db38877e1df9986fe51b0405945d
  }
 },
 "nbformat": 4,
 "nbformat_minor": 4
}
